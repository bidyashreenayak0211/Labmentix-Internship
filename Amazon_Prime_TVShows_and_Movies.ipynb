{
  "nbformat": 4,
  "nbformat_minor": 0,
  "metadata": {
    "colab": {
      "private_outputs": true,
      "provenance": [],
      "collapsed_sections": [
        "vncDsAP0Gaoa",
        "FJNUwmbgGyua",
        "w6K7xa23Elo4",
        "yQaldy8SH6Dl",
        "PH-0ReGfmX4f",
        "mDgbUHAGgjLW",
        "O_i_v8NEhb9l",
        "HhfV-JJviCcP",
        "Y3lxredqlCYt",
        "3RnN4peoiCZX",
        "x71ZqKXriCWQ",
        "7hBIi_osiCS2",
        "JlHwYmJAmNHm",
        "35m5QtbWiB9F",
        "PoPl-ycgm1ru",
        "H0kj-8xxnORC",
        "nA9Y7ga8ng1Z",
        "PBTbrJXOngz2",
        "u3PMJOP6ngxN",
        "dauF4eBmngu3",
        "bKJF3rekwFvQ",
        "MSa1f5Uengrz",
        "GF8Ens_Soomf",
        "0wOQAZs5pc--",
        "K5QZ13OEpz2H",
        "lQ7QKXXCp7Bj",
        "448CDAPjqfQr",
        "KSlN3yHqYklG",
        "t6dVpIINYklI",
        "ijmpgYnKYklI",
        "-JiQyfWJYklI",
        "EM7whBJCYoAo",
        "fge-S5ZAYoAp",
        "85gYPyotYoAp",
        "RoGjAbkUYoAp",
        "4Of9eVA-YrdM",
        "iky9q4vBYrdO",
        "F6T5p64dYrdO",
        "y-Ehk30pYrdP",
        "bamQiAODYuh1",
        "QHF8YVU7Yuh3",
        "GwzvFGzlYuh3",
        "qYpmQ266Yuh3",
        "OH-pJp9IphqM",
        "bbFf2-_FphqN",
        "_ouA3fa0phqN",
        "Seke61FWphqN",
        "PIIx-8_IphqN",
        "t27r6nlMphqO",
        "r2jJGEOYphqO",
        "b0JNsNcRphqO",
        "BZR9WyysphqO",
        "jj7wYXLtphqO",
        "eZrbJ2SmphqO",
        "rFu4xreNphqO",
        "YJ55k-q6phqO",
        "gCFgpxoyphqP",
        "OVtJsKN_phqQ",
        "lssrdh5qphqQ",
        "U2RJ9gkRphqQ",
        "1M8mcRywphqQ",
        "tgIPom80phqQ",
        "JMzcOPDDphqR",
        "x-EpHcCOp1ci",
        "X_VqEhTip1ck",
        "8zGJKyg5p1ck",
        "PVzmfK_Ep1ck",
        "n3dbpmDWp1ck",
        "ylSl6qgtp1ck",
        "ZWILFDl5p1ck",
        "M7G43BXep1ck",
        "Ag9LCva-p1cl",
        "E6MkPsBcp1cl",
        "2cELzS2fp1cl",
        "3MPXvC8up1cl",
        "NC_X3p0fY2L0",
        "UV0SzAkaZNRQ",
        "YPEH6qLeZNRQ",
        "q29F0dvdveiT",
        "EXh0U9oCveiU",
        "22aHeOlLveiV",
        "JcMwzZxoAimU",
        "8G2x9gOozGDZ",
        "gCX9965dhzqZ",
        "gIfDvo9L0UH2"
      ],
      "include_colab_link": true
    },
    "kernelspec": {
      "name": "python3",
      "display_name": "Python 3"
    },
    "language_info": {
      "name": "python"
    }
  },
  "cells": [
    {
      "cell_type": "markdown",
      "metadata": {
        "id": "view-in-github",
        "colab_type": "text"
      },
      "source": [
        "<a href=\"https://colab.research.google.com/github/bidyashreenayak0211/Labmentix-Internship/blob/main/Amazon_Prime_TVShows_and_Movies.ipynb\" target=\"_parent\"><img src=\"https://colab.research.google.com/assets/colab-badge.svg\" alt=\"Open In Colab\"/></a>"
      ]
    },
    {
      "cell_type": "markdown",
      "source": [
        "# **Project Name**    -\n",
        "\n"
      ],
      "metadata": {
        "id": "vncDsAP0Gaoa"
      }
    },
    {
      "cell_type": "markdown",
      "source": [
        "##### **Project Type**    - EDA\n",
        "##### **Contribution**    - Individual\n",
        "##### **Name**  - Bidyashree Nayak"
      ],
      "metadata": {
        "id": "beRrZCGUAJYm"
      }
    },
    {
      "cell_type": "markdown",
      "source": [
        "# **Project Summary -**"
      ],
      "metadata": {
        "id": "FJNUwmbgGyua"
      }
    },
    {
      "cell_type": "markdown",
      "source": [
        "**Amazon Prime Video **is one of the leading streaming platforms, offering a vast library of TV shows and movies to global audiences. To maintain its competitive edge and improve user engagement, it is essential to analyze its content library, understand audience preferences, and optimize content acquisition strategies.\n",
        "\n",
        "This project involves performing **Exploratory Data Analysis (EDA)** on two datasets—titles.csv (which contains information about movies and TV shows) and credits.csv (which includes cast and crew details). The goal is to uncover patterns, trends, and insights that can help improve content offerings and business strategy.\n",
        "\n",
        "The analysis includes:\n",
        "\n",
        "**Data Cleaning & Preprocessing**: Handling missing values, removing duplicates, and standardizing data formats.\n",
        "\n",
        "**Data Exploration & Visualization:** Understanding the distribution of movies vs. TV shows, genre popularity, IMDb/TMDB ratings, and cast/crew trends.\n",
        "Statistical Insights: Identifying correlations, trends over time, and key performance indicators (KPIs).\n",
        "By deriving insights from these datasets, Amazon Prime can make data-driven decisions to optimize content selection, improve audience satisfaction, and enhance its competitive position in the streaming industry.\n",
        "\n"
      ],
      "metadata": {
        "id": "F6v_1wHtG2nS"
      }
    },
    {
      "cell_type": "markdown",
      "source": [
        "# **GitHub Link -**"
      ],
      "metadata": {
        "id": "w6K7xa23Elo4"
      }
    },
    {
      "cell_type": "markdown",
      "source": [
        "https://github.com/bidyashreenayak0211/Labmentix-Internship"
      ],
      "metadata": {
        "id": "h1o69JH3Eqqn"
      }
    },
    {
      "cell_type": "markdown",
      "source": [
        "# **Problem Statement**\n"
      ],
      "metadata": {
        "id": "yQaldy8SH6Dl"
      }
    },
    {
      "cell_type": "markdown",
      "source": [
        "In the competitive world of online streaming, platforms like **Amazon Prime Video, Netflix, and Disney+** are constantly striving to capture audience attention by providing engaging and high-quality content. With a vast content library spanning different genres, languages, and formats (TV shows and movies), **Amazon Prime Video needs to optimize its content strategy** to maximize user engagement, improve retention rates, and attract new subscribers.  \n",
        "\n",
        "However, **several key challenges exist:**  \n",
        "\n",
        "1. **Unbalanced Content Distribution**  \n",
        "   - Does Amazon Prime have an optimal balance between movies and TV shows?  \n",
        "   - Are certain genres overrepresented while others are underrepresented?  \n",
        "\n",
        "2. **Content Quality & User Satisfaction**  \n",
        "   - What is the overall quality of the content based on IMDb and TMDB ratings?  \n",
        "   - Are there too many low-rated movies and TV shows, leading to negative user experiences?  \n",
        "\n",
        "3. **Content Acquisition Strategy**  \n",
        "   - Which genres, actors, and directors are the most successful in engaging audiences?  \n",
        "   - Should Amazon Prime focus on acquiring more content from a particular genre or from certain high-performing directors/actors?  \n",
        "\n",
        "4. **Cast & Crew Influence**  \n",
        "   - Which actors and directors dominate the platform, and is there enough diversity in talent?  \n",
        "   - Are there recurring character names that indicate popular franchises?  \n",
        "\n",
        "5. **Content Growth Trends & Risks**  \n",
        "   - How has the volume of movie and TV show releases changed over the years?  \n",
        "   - Is there a decline in content additions that could negatively impact user retention?  \n",
        "\n",
        "### **Business Impact of the Problem**  \n",
        "\n",
        "- **User Dissatisfaction & Churn:** If Amazon Prime Video lacks high-quality or diverse content, users may unsubscribe and switch to competitors like Netflix, Disney+, or Hulu.  \n",
        "- **Inefficient Content Investment:** Without a data-driven approach, Amazon Prime may invest in content that does not perform well, leading to financial losses.  \n",
        "- **Declining New Subscriptions:** A lack of fresh, engaging content could make it difficult to attract new subscribers.  \n",
        "- **Market Positioning Risks:** If competitors provide better content offerings, Amazon Prime could lose market share in the streaming industry.  \n",
        "\n",
        "Thus, **Amazon Prime needs to analyze its content library, evaluate user preferences, and optimize content acquisition strategies to stay competitive and ensure long-term growth.** This project aims to address these challenges through **data-driven insights and exploratory data analysis (EDA)**."
      ],
      "metadata": {
        "id": "DpeJGUA3kjGy"
      }
    },
    {
      "cell_type": "markdown",
      "source": [
        "#### **Define Your Business Objective?**"
      ],
      "metadata": {
        "id": "PH-0ReGfmX4f"
      }
    },
    {
      "cell_type": "markdown",
      "source": [
        "The primary business objectives of this analysis include:\n",
        "\n",
        "**Understanding Content Distribution:** Determine the ratio of movies to TV shows, the most common genres, and the release trends.\n",
        "\n",
        "**Assessing Content Quality**: Analyze IMDb and TMDB ratings to evaluate the overall quality of the content.\n",
        "\n",
        "**Optimizing Content Acquisition:** Identify top-performing genres, actors, and directors to focus on acquiring high-engagement content.\n",
        "\n",
        "**Evaluating Cast & Crew Trends**: Determine the most frequently appearing actors, directors, and recurring character names.\n",
        "\n",
        "**Identifying Gaps & Risks:** Find potential weaknesses, such as underrepresented genres or declining release trends, that could impact growth.\n",
        "\n",
        "Enhancing Customer Satisfaction: Ensure a balanced and engaging content library by addressing audience preferences.\n"
      ],
      "metadata": {
        "id": "PhDvGCAqmjP1"
      }
    },
    {
      "cell_type": "markdown",
      "source": [
        "# **General Guidelines** : -  "
      ],
      "metadata": {
        "id": "mDgbUHAGgjLW"
      }
    },
    {
      "cell_type": "markdown",
      "source": [
        "1.   Well-structured, formatted, and commented code is required.\n",
        "2.   Exception Handling, Production Grade Code & Deployment Ready Code will be a plus. Those students will be awarded some additional credits.\n",
        "     \n",
        "     The additional credits will have advantages over other students during Star Student selection.\n",
        "       \n",
        "             [ Note: - Deployment Ready Code is defined as, the whole .ipynb notebook should be executable in one go\n",
        "                       without a single error logged. ]\n",
        "\n",
        "3.   Each and every logic should have proper comments.\n",
        "4. You may add as many number of charts you want. Make Sure for each and every chart the following format should be answered.\n",
        "        \n",
        "\n",
        "```\n",
        "# Chart visualization code\n",
        "```\n",
        "            \n",
        "\n",
        "*   Why did you pick the specific chart?\n",
        "*   What is/are the insight(s) found from the chart?\n",
        "* Will the gained insights help creating a positive business impact?\n",
        "Are there any insights that lead to negative growth? Justify with specific reason.\n",
        "\n",
        "5. You have to create at least 20 logical & meaningful charts having important insights.\n",
        "\n",
        "\n",
        "[ Hints : - Do the Vizualization in  a structured way while following \"UBM\" Rule.\n",
        "\n",
        "U - Univariate Analysis,\n",
        "\n",
        "B - Bivariate Analysis (Numerical - Categorical, Numerical - Numerical, Categorical - Categorical)\n",
        "\n",
        "M - Multivariate Analysis\n",
        " ]\n",
        "\n",
        "\n",
        "\n"
      ],
      "metadata": {
        "id": "ZrxVaUj-hHfC"
      }
    },
    {
      "cell_type": "markdown",
      "source": [
        "# ***Let's Begin !***"
      ],
      "metadata": {
        "id": "O_i_v8NEhb9l"
      }
    },
    {
      "cell_type": "markdown",
      "source": [
        "## ***1. Know Your Data***"
      ],
      "metadata": {
        "id": "HhfV-JJviCcP"
      }
    },
    {
      "cell_type": "markdown",
      "source": [
        "### Import Libraries"
      ],
      "metadata": {
        "id": "Y3lxredqlCYt"
      }
    },
    {
      "cell_type": "code",
      "source": [
        "# Import Libraries\n",
        "import pandas as pd\n",
        "import numpy as np\n",
        "import matplotlib.pyplot as plt\n",
        "import seaborn as sns"
      ],
      "metadata": {
        "id": "M8Vqi-pPk-HR"
      },
      "execution_count": null,
      "outputs": []
    },
    {
      "cell_type": "markdown",
      "source": [
        "### Dataset Loading"
      ],
      "metadata": {
        "id": "3RnN4peoiCZX"
      }
    },
    {
      "cell_type": "code",
      "source": [
        "# Load Dataset\n",
        "titles_df = pd.read_csv(\"/content/titles.csv\")\n",
        "credits_df = pd.read_csv(\"/content/credits.csv\")"
      ],
      "metadata": {
        "id": "4CkvbW_SlZ_R"
      },
      "execution_count": null,
      "outputs": []
    },
    {
      "cell_type": "markdown",
      "source": [
        "### Dataset First View"
      ],
      "metadata": {
        "id": "x71ZqKXriCWQ"
      }
    },
    {
      "cell_type": "code",
      "source": [
        "# Dataset First Look\n",
        "titles_df.head(), credits_df.head()"
      ],
      "metadata": {
        "id": "LWNFOSvLl09H"
      },
      "execution_count": null,
      "outputs": []
    },
    {
      "cell_type": "markdown",
      "source": [
        "### Dataset Rows & Columns count"
      ],
      "metadata": {
        "id": "7hBIi_osiCS2"
      }
    },
    {
      "cell_type": "code",
      "source": [
        "# Dataset Rows & Columns count\n",
        "titles_shape = titles_df.shape\n",
        "credits_shape = credits_df.shape\n",
        "\n",
        "titles_shape, credits_shape"
      ],
      "metadata": {
        "id": "Kllu7SJgmLij"
      },
      "execution_count": null,
      "outputs": []
    },
    {
      "cell_type": "markdown",
      "source": [
        "### Dataset Information"
      ],
      "metadata": {
        "id": "JlHwYmJAmNHm"
      }
    },
    {
      "cell_type": "code",
      "source": [
        "# Dataset Info\n",
        "titles_df.info(), credits_df.info()"
      ],
      "metadata": {
        "id": "e9hRXRi6meOf"
      },
      "execution_count": null,
      "outputs": []
    },
    {
      "cell_type": "markdown",
      "source": [
        "#### Duplicate Values"
      ],
      "metadata": {
        "id": "35m5QtbWiB9F"
      }
    },
    {
      "cell_type": "code",
      "source": [
        "# Dataset Duplicate Value Count\n",
        "titles_duplicates = titles_df.duplicated().sum()\n",
        "credits_duplicates = credits_df.duplicated().sum()\n",
        "\n",
        "titles_duplicates, credits_duplicates\n"
      ],
      "metadata": {
        "id": "1sLdpKYkmox0"
      },
      "execution_count": null,
      "outputs": []
    },
    {
      "cell_type": "markdown",
      "source": [
        "#### Missing Values/Null Values"
      ],
      "metadata": {
        "id": "PoPl-ycgm1ru"
      }
    },
    {
      "cell_type": "code",
      "source": [
        "# Missing Values/Null Values Count\n",
        "titles_missing = titles_df.isnull().sum()\n",
        "credits_missing = credits_df.isnull().sum()\n",
        "titles_missing, credits_missing"
      ],
      "metadata": {
        "id": "GgHWkxvamxVg"
      },
      "execution_count": null,
      "outputs": []
    },
    {
      "cell_type": "code",
      "source": [
        "# Visualizing the missing values\n",
        "plt.figure(figsize=(12, 6))\n",
        "sns.heatmap(titles_df.isnull(), cbar=False, cmap='viridis')\n",
        "plt.title(\"Missing Values in titles.csv\")\n",
        "plt.show()\n",
        "\n",
        "plt.figure(figsize=(12, 6))\n",
        "sns.heatmap(credits_df.isnull(), cbar=False, cmap='viridis')\n",
        "plt.title(\"Missing Values in credits.csv\")\n",
        "plt.show()"
      ],
      "metadata": {
        "id": "3q5wnI3om9sJ"
      },
      "execution_count": null,
      "outputs": []
    },
    {
      "cell_type": "markdown",
      "source": [
        "### What did you know about your dataset?"
      ],
      "metadata": {
        "id": "H0kj-8xxnORC"
      }
    },
    {
      "cell_type": "markdown",
      "source": [
        "The dataset consists of two main tables: one with **9,871** entries detailing movies and TV shows, and another with **124,235** records mapping cast members to these titles. The first dataset includes metadata such as title, genre, IMDb and TMDb scores, runtime, and production country, while the second dataset provides actor names, roles, and character information. A significant issue in the data is missing values, particularly in `age_certification` (66% missing), `seasons` (mostly for movies), and `imdb_score` and `tmdb_score` (missing for around 1,000 and 2,000 titles, respectively). Additionally, the `character` column in the cast dataset is incomplete for over **16,000** entries, likely representing crew members rather than actors. There are also duplicate records (**3 in the movie dataset and 56 in the cast dataset**) that need to be addressed. These inconsistencies may impact analysis, especially for rating-based insights and recommendation models. Cleaning steps should include imputing missing values, removing duplicates, and ensuring data consistency. Visualizations, such as heatmaps and histograms, could help identify patterns in missing data and rating distributions."
      ],
      "metadata": {
        "id": "gfoNAAC-nUe_"
      }
    },
    {
      "cell_type": "markdown",
      "source": [
        "## ***2. Understanding Your Variables***"
      ],
      "metadata": {
        "id": "nA9Y7ga8ng1Z"
      }
    },
    {
      "cell_type": "code",
      "source": [
        "# Dataset Columns\n",
        "titles_columns = titles_df.dtypes\n",
        "credits_columns = credits_df.dtypes\n",
        "titles_columns, credits_columns"
      ],
      "metadata": {
        "id": "j7xfkqrt5Ag5"
      },
      "execution_count": null,
      "outputs": []
    },
    {
      "cell_type": "code",
      "source": [
        "# Dataset Describe\n",
        "titles_df.describe(), credits_df.describe()"
      ],
      "metadata": {
        "id": "DnOaZdaE5Q5t"
      },
      "execution_count": null,
      "outputs": []
    },
    {
      "cell_type": "markdown",
      "source": [
        "### Variables Description"
      ],
      "metadata": {
        "id": "PBTbrJXOngz2"
      }
    },
    {
      "cell_type": "markdown",
      "source": [
        "### **Variable Descriptions**  \n",
        "\n",
        "The dataset consists of two primary data files:  \n",
        "1. **`titles.csv`** – Contains information about movies and TV shows.  \n",
        "2. **`credits.csv`** – Contains cast and crew details for each title.  \n",
        "\n",
        "---\n",
        "\n",
        "### **1. `titles.csv` (Movies & TV Shows Metadata)**  \n",
        "\n",
        "| **Column Name**          | **Data Type** | **Description** |\n",
        "|--------------------------|-------------|----------------|\n",
        "| `id`                     | object      | Unique identifier for each title (movie/TV show). |\n",
        "| `title`                  | object      | Name of the movie or TV show. |\n",
        "| `type`                   | object      | Indicates whether the title is a \"MOVIE\" or a \"SHOW\". |\n",
        "| `description`            | object      | Short summary of the movie/TV show. |\n",
        "| `release_year`           | int64       | The year the title was released. |\n",
        "| `age_certification`      | object      | Age rating (e.g., PG, R, TV-14), but has missing values. |\n",
        "| `runtime`                | int64       | Duration of the movie in minutes; for TV shows, it represents episode length. |\n",
        "| `genres`                 | object      | A list of genres assigned to the title (e.g., Drama, Comedy). |\n",
        "| `production_countries`   | object      | The countries involved in producing the title. |\n",
        "| `seasons`                | float64     | Number of seasons (only applicable for TV shows, NaN for movies). |\n",
        "| `imdb_id`                | object      | Unique IMDb identifier for the title. |\n",
        "| `imdb_score`             | float64     | IMDb rating (scale of 1 to 10), but some values are missing. |\n",
        "| `imdb_votes`             | float64     | Total number of user votes for IMDb rating. |\n",
        "| `tmdb_popularity`        | float64     | Popularity score from TMDB (The Movie Database). |\n",
        "| `tmdb_score`             | float64     | TMDB rating (scale of 1 to 10), but some values are missing. |\n",
        "\n",
        "#### **Statistical Observations:**\n",
        "- **`release_year`**: Ranges from **1912 to 2022**, with most movies produced in the 2000s and 2010s.  \n",
        "- **`runtime`**: Median duration is **89 minutes**, but the maximum is **549 minutes**, indicating some long-form content.  \n",
        "- **`seasons`**: Most TV shows have **1-3 seasons**, but some reach **51 seasons**.  \n",
        "- **`imdb_score` and `tmdb_score`**: Ratings are mostly between **5.1 and 6.9**, with the highest-rated content reaching **9.9/10**.  \n",
        "- **`imdb_votes`**: Varies significantly, with some titles receiving over **1 million votes**, indicating popularity.  \n",
        "\n",
        "---\n",
        "\n",
        "### **2. `credits.csv` (Cast & Crew Information)**  \n",
        "\n",
        "| **Column Name**  | **Data Type** | **Description** |\n",
        "|------------------|-------------|----------------|\n",
        "| `person_id`      | int64       | Unique identifier for the individual (actor/director). |\n",
        "| `id`            | object      | Foreign key linking to `titles.csv`, identifying which title the person is associated with. |\n",
        "| `name`          | object      | Name of the actor or director. |\n",
        "| `character`     | object      | Character name played by the actor (NaN for directors). |\n",
        "| `role`          | object      | Role type – either **ACTOR** or **DIRECTOR**. |\n",
        "\n",
        "#### **Statistical Observations:**\n",
        "- **`person_id`**: Unique IDs assigned to cast/crew members, ranging up to **2.37 million**.  \n",
        "- **`character`**: Some actors appear multiple times, often playing different roles.  \n",
        "- **`role`**: More **ACTORS** than **DIRECTORS**, which is expected in entertainment datasets.  \n",
        "- **Duplicates & Missing Values**: Some `character` fields are missing, possibly for background or voice actors.  \n",
        "\n",
        "---\n",
        "\n",
        "### **Key Takeaways**\n",
        "- **Most content is from recent decades**, aligning with the rise of streaming services.  \n",
        "- **IMDb and TMDB scores show a positive trend**, but missing ratings indicate incomplete data.  \n",
        "- **A small number of actors and directors dominate the platform**, which may limit diversity.  \n",
        "- **Most TV shows have 1-3 seasons**, suggesting that long-running series are less common on Amazon Prime.  "
      ],
      "metadata": {
        "id": "aJV4KIxSnxay"
      }
    },
    {
      "cell_type": "markdown",
      "source": [
        "### Check Unique Values for each variable."
      ],
      "metadata": {
        "id": "u3PMJOP6ngxN"
      }
    },
    {
      "cell_type": "code",
      "source": [
        "# Check Unique Values for each variable.\n",
        "\n",
        "# Check unique values for each variable in titles.csv\n",
        "titles_unique_values = titles_df.nunique()\n",
        "\n",
        "# Check unique values for each variable in credits.csv\n",
        "credits_unique_values = credits_df.nunique()\n",
        "\n",
        "titles_unique_values,credits_unique_values"
      ],
      "metadata": {
        "id": "zms12Yq5n-jE"
      },
      "execution_count": null,
      "outputs": []
    },
    {
      "cell_type": "markdown",
      "source": [
        "## 3. ***Data Wrangling***"
      ],
      "metadata": {
        "id": "dauF4eBmngu3"
      }
    },
    {
      "cell_type": "markdown",
      "source": [
        "### Data Wrangling Code"
      ],
      "metadata": {
        "id": "bKJF3rekwFvQ"
      }
    },
    {
      "cell_type": "code",
      "source": [
        "import pandas as pd\n",
        "\n",
        "# Load datasets\n",
        "titles_df = pd.read_csv(\"titles.csv\")\n",
        "credits_df = pd.read_csv(\"credits.csv\")\n",
        "\n",
        "# Remove duplicates\n",
        "titles_df.drop_duplicates(inplace=True)\n",
        "credits_df.drop_duplicates(inplace=True)\n",
        "\n",
        "# Ensure we are working with a full copy of the DataFrame\n",
        "titles_df = titles_df.copy()\n",
        "credits_df = credits_df.copy()\n",
        "\n",
        "# Fill missing numerical values with median\n",
        "titles_df['imdb_score'] = titles_df['imdb_score'].fillna(titles_df['imdb_score'].median())\n",
        "titles_df['imdb_votes'] = titles_df['imdb_votes'].fillna(titles_df['imdb_votes'].median())\n",
        "titles_df['tmdb_score'] = titles_df['tmdb_score'].fillna(titles_df['tmdb_score'].median())\n",
        "\n",
        "# Fill missing categorical values with \"Unknown\"\n",
        "titles_df['age_certification'] = titles_df['age_certification'].fillna(\"Unknown\")\n",
        "credits_df['character'] = credits_df['character'].fillna(\"Unknown\")\n",
        "\n",
        "# Convert 'release_year' to datetime format\n",
        "titles_df['release_year'] = pd.to_numeric(titles_df['release_year'], errors='coerce')\n",
        "titles_df['release_year'] = pd.to_datetime(titles_df['release_year'], format='%Y', errors='coerce')\n",
        "\n",
        "# Display post-cleaning changes\n",
        "print(\"\\nAfter Cleaning:\")\n",
        "print(\"Titles DataFrame - Missing Values:\\n\", titles_df.isnull().sum())\n",
        "print(\"Credits DataFrame - Missing Values:\\n\", credits_df.isnull().sum())\n",
        "print(\"\\nTitles DataFrame - Duplicates:\", titles_df.duplicated().sum())\n",
        "print(\"Credits DataFrame - Duplicates:\", credits_df.duplicated().sum())"
      ],
      "metadata": {
        "id": "wk-9a2fpoLcV"
      },
      "execution_count": null,
      "outputs": []
    },
    {
      "cell_type": "code",
      "source": [
        "# Save cleaned data to new CSV files\n",
        "titles_df.to_csv(\"titles_cleaned.csv\", index=False)\n",
        "credits_df.to_csv(\"credits_cleaned.csv\", index=False)"
      ],
      "metadata": {
        "id": "EMYYVn_bJAbI"
      },
      "execution_count": null,
      "outputs": []
    },
    {
      "cell_type": "markdown",
      "source": [
        "### What all manipulations have you done and insights you found?"
      ],
      "metadata": {
        "id": "MSa1f5Uengrz"
      }
    },
    {
      "cell_type": "markdown",
      "source": [
        "### **Data Wrangling: Manipulations & Insights**  \n",
        "\n",
        "#### **1. Data Cleaning Steps Performed**\n",
        "The following manipulations were applied to clean and preprocess the data:  \n",
        "\n",
        "1. **Loaded Datasets**: Imported `titles.csv` and `credits.csv`.  \n",
        "2. **Removed Duplicate Entries**:  \n",
        "   - **Before:** `titles.csv` had 3 duplicate rows, and `credits.csv` had 56 duplicates.  \n",
        "   - **After:** All duplicates were removed, ensuring data consistency.  \n",
        "3. **Missing Value Treatment:**  \n",
        "   - **Numerical Columns:**  \n",
        "     - `imdb_score`, `imdb_votes`, and `tmdb_score` were filled with their median values.  \n",
        "   - **Categorical Columns:**  \n",
        "     - `age_certification` (age ratings) and `character` (in `credits.csv`) were filled with `\"Unknown\"` to avoid losing valuable rows.  \n",
        "4. **Converted `release_year` to Datetime Format**:  \n",
        "   - **Ensured consistency in date representation** for better time-based analysis.  \n",
        "5. **Final Check for Missing Values & Duplicates:**  \n",
        "   - **Missing Values in `credits.csv`:**  Fully handled.  \n",
        "   - **Missing Values in `titles.csv`:**  \n",
        "     - `description`, `seasons`, `imdb_id`, and `tmdb_popularity` still have some missing values.  \n",
        "   - **Duplicates:** None remained after cleaning.  \n",
        "\n",
        "---\n",
        "\n",
        "#### **2. Insights Found from Data Wrangling**\n",
        "1. **IMDb & TMDB Score Insights:**  \n",
        "   - Since missing scores were filled with the median, it suggests that **some content did not have ratings** due to low popularity or limited audience engagement.  \n",
        "   - Median IMDb Score (~6.1) suggests **most content is of average quality**.  \n",
        "\n",
        "2. **Age Certification Gaps:**  \n",
        "   - A **significant portion (~6,487 entries) had missing `age_certification`** before cleaning.  \n",
        "   - This indicates that **many movies or shows were not classified with appropriate age ratings**, which may impact parental control and audience targeting.  \n",
        "\n",
        "3. **Seasons Data Issue:**  \n",
        "   - **8,511 missing values in `seasons`** indicate that a majority of the dataset consists of movies (since seasons only apply to TV shows).  \n",
        "   - Amazon Prime may have **more movies than TV shows**, highlighting a potential gap in episodic content.  \n",
        "\n",
        "4. **Potential Issues with Content Metadata:**  \n",
        "   - `imdb_id` missing for **667 titles** means that **some content lacks IMDb integration**, possibly affecting its visibility and discoverability.  \n",
        "   - `tmdb_popularity` missing for **547 titles** suggests that **certain movies/shows have little engagement or no public data on TMDB**.  \n",
        "\n",
        "5. **Character Names Missing in `credits.csv`**:  \n",
        "   - Many character names were originally missing (16,287 entries before cleaning).  \n",
        "   - After filling them with `\"Unknown\"`, it became evident that **some actors were not assigned specific character names**, possibly for minor roles or uncredited appearances.  "
      ],
      "metadata": {
        "id": "LbyXE7I1olp8"
      }
    },
    {
      "cell_type": "markdown",
      "source": [
        "## ***4. Data Vizualization, Storytelling & Experimenting with charts : Understand the relationships between variables***"
      ],
      "metadata": {
        "id": "GF8Ens_Soomf"
      }
    },
    {
      "cell_type": "code",
      "source": [
        "#Read the cleaned datsets\n",
        "titles_dff = pd.read_csv(\"titles_cleaned.csv\")\n",
        "credits_dff = pd.read_csv(\"credits_cleaned.csv\")"
      ],
      "metadata": {
        "id": "lFM7OPF4KdQO"
      },
      "execution_count": null,
      "outputs": []
    },
    {
      "cell_type": "markdown",
      "source": [
        "#### Chart - 1"
      ],
      "metadata": {
        "id": "0wOQAZs5pc--"
      }
    },
    {
      "cell_type": "code",
      "source": [
        "# Chart - 1 visualization code\n",
        "\n",
        "# Visualization 1: Count of Movies vs. TV Shows\n",
        "plt.figure(figsize=(8, 5))\n",
        "sns.countplot(data=titles_dff, x='type', palette='coolwarm')\n",
        "plt.title(\"Distribution of Movies vs. TV Shows\")\n",
        "plt.xlabel(\"Type\")\n",
        "plt.ylabel(\"Count\")\n",
        "plt.show()\n"
      ],
      "metadata": {
        "id": "7v_ESjsspbW7"
      },
      "execution_count": null,
      "outputs": []
    },
    {
      "cell_type": "markdown",
      "source": [
        "##### 1. Why did you pick the specific chart?"
      ],
      "metadata": {
        "id": "K5QZ13OEpz2H"
      }
    },
    {
      "cell_type": "markdown",
      "source": [
        " A bar chart is effective for categorical comparisons, showing the count of movies vs. TV shows clearly."
      ],
      "metadata": {
        "id": "XESiWehPqBRc"
      }
    },
    {
      "cell_type": "markdown",
      "source": [
        "##### 2. What is/are the insight(s) found from the chart?"
      ],
      "metadata": {
        "id": "lQ7QKXXCp7Bj"
      }
    },
    {
      "cell_type": "markdown",
      "source": [
        "The dataset has a higher number of movies compared to TV shows."
      ],
      "metadata": {
        "id": "C_j1G7yiqdRP"
      }
    },
    {
      "cell_type": "markdown",
      "source": [
        "##### 3. Will the gained insights help creating a positive business impact?\n",
        "Are there any insights that lead to negative growth? Justify with specific reason."
      ],
      "metadata": {
        "id": "448CDAPjqfQr"
      }
    },
    {
      "cell_type": "markdown",
      "source": [
        "If more movies are present, Amazon Prime could focus on exclusive TV show content to balance the offering.\n",
        "\n",
        "**Negative Growth Insight:**\n",
        "If TV shows are significantly fewer, it may indicate that users looking for long-term content engagement might switch to competitors like Netflix."
      ],
      "metadata": {
        "id": "3cspy4FjqxJW"
      }
    },
    {
      "cell_type": "markdown",
      "source": [
        "#### Chart - 2"
      ],
      "metadata": {
        "id": "KSlN3yHqYklG"
      }
    },
    {
      "cell_type": "code",
      "source": [
        "# Chart - 2 visualization code\n",
        "\n",
        "# Visualization 2: Top 10 Genres\n",
        "genres_list = titles_dff['genres'].explode().value_counts().head(10)\n",
        "plt.figure(figsize=(10, 5))\n",
        "sns.barplot(x=genres_list.index, y=genres_list.values, palette='viridis')\n",
        "plt.xticks(rotation=45)\n",
        "plt.title(\"Top 10 Most Common Genres\")\n",
        "plt.xlabel(\"Genre\")\n",
        "plt.ylabel(\"Count\")\n",
        "plt.show()\n"
      ],
      "metadata": {
        "id": "R4YgtaqtYklH"
      },
      "execution_count": null,
      "outputs": []
    },
    {
      "cell_type": "markdown",
      "source": [
        "##### 1. Why did you pick the specific chart?"
      ],
      "metadata": {
        "id": "t6dVpIINYklI"
      }
    },
    {
      "cell_type": "markdown",
      "source": [
        "A bar chart helps to visualize the most frequently occurring genres effectively."
      ],
      "metadata": {
        "id": "5aaW0BYyYklI"
      }
    },
    {
      "cell_type": "markdown",
      "source": [
        "##### 2. What is/are the insight(s) found from the chart?"
      ],
      "metadata": {
        "id": "ijmpgYnKYklI"
      }
    },
    {
      "cell_type": "markdown",
      "source": [
        "Certain genres like \"Drama\" and \"Comedy\" are dominant."
      ],
      "metadata": {
        "id": "PSx9atu2YklI"
      }
    },
    {
      "cell_type": "markdown",
      "source": [
        "##### 3. Will the gained insights help creating a positive business impact?\n",
        "Are there any insights that lead to negative growth? Justify with specific reason."
      ],
      "metadata": {
        "id": "-JiQyfWJYklI"
      }
    },
    {
      "cell_type": "markdown",
      "source": [
        "Amazon Prime can prioritize acquiring or producing content in these high-demand genres.\n",
        "\n",
        "**Negative Growth Insight:**If some genres (e.g., Sci-Fi, Documentaries) have lower representation, it might alienate audiences interested in those categories, potentially driving them to competitors."
      ],
      "metadata": {
        "id": "BcBbebzrYklV"
      }
    },
    {
      "cell_type": "markdown",
      "source": [
        "#### Chart - 3"
      ],
      "metadata": {
        "id": "EM7whBJCYoAo"
      }
    },
    {
      "cell_type": "code",
      "source": [
        "# Chart - 3 visualization code\n",
        "# Visualization 3: IMDB Score Distribution\n",
        "plt.figure(figsize=(10, 5))\n",
        "sns.histplot(titles_dff['imdb_score'], bins=30, kde=True, color='green')\n",
        "plt.title(\"Distribution of IMDB Scores\")\n",
        "plt.xlabel(\"IMDB Score\")\n",
        "plt.ylabel(\"Count\")\n",
        "plt.show()"
      ],
      "metadata": {
        "id": "t6GMdE67YoAp"
      },
      "execution_count": null,
      "outputs": []
    },
    {
      "cell_type": "markdown",
      "source": [
        "##### 1. Why did you pick the specific chart?"
      ],
      "metadata": {
        "id": "fge-S5ZAYoAp"
      }
    },
    {
      "cell_type": "markdown",
      "source": [
        "A histogram shows how ratings are spread across movies and TV shows."
      ],
      "metadata": {
        "id": "5dBItgRVYoAp"
      }
    },
    {
      "cell_type": "markdown",
      "source": [
        "##### 2. What is/are the insight(s) found from the chart?"
      ],
      "metadata": {
        "id": "85gYPyotYoAp"
      }
    },
    {
      "cell_type": "markdown",
      "source": [
        "Most IMDB scores are in the 6-8 range, suggesting a mid-to-high quality catalog."
      ],
      "metadata": {
        "id": "4jstXR6OYoAp"
      }
    },
    {
      "cell_type": "markdown",
      "source": [
        "##### 3. Will the gained insights help creating a positive business impact?\n",
        "Are there any insights that lead to negative growth? Justify with specific reason."
      ],
      "metadata": {
        "id": "RoGjAbkUYoAp"
      }
    },
    {
      "cell_type": "markdown",
      "source": [
        "High ratings can attract more subscribers.\n",
        "\n",
        "**Negative Growth Insight:**If a large portion has lower ratings (e.g., below 5), it may indicate quality issues, leading to negative user retention."
      ],
      "metadata": {
        "id": "zfJ8IqMcYoAp"
      }
    },
    {
      "cell_type": "markdown",
      "source": [
        "#### Chart - 4"
      ],
      "metadata": {
        "id": "4Of9eVA-YrdM"
      }
    },
    {
      "cell_type": "code",
      "source": [
        "# Chart - 4 visualization code\n",
        "\n",
        "# Visualization 4: TMDB Score vs. IMDB Score\n",
        "plt.figure(figsize=(8, 5))\n",
        "sns.scatterplot(data=titles_dff, x='imdb_score', y='tmdb_score', alpha=0.5)\n",
        "plt.title(\"IMDB Score vs. TMDB Score\")\n",
        "plt.xlabel(\"IMDB Score\")\n",
        "plt.ylabel(\"TMDB Score\")\n",
        "plt.show()"
      ],
      "metadata": {
        "id": "irlUoxc8YrdO"
      },
      "execution_count": null,
      "outputs": []
    },
    {
      "cell_type": "markdown",
      "source": [
        "##### 1. Why did you pick the specific chart?"
      ],
      "metadata": {
        "id": "iky9q4vBYrdO"
      }
    },
    {
      "cell_type": "markdown",
      "source": [
        " Scatter Plot helps to analyze correlation between two scoring systems."
      ],
      "metadata": {
        "id": "aJRCwT6DYrdO"
      }
    },
    {
      "cell_type": "markdown",
      "source": [
        "##### 2. What is/are the insight(s) found from the chart?"
      ],
      "metadata": {
        "id": "F6T5p64dYrdO"
      }
    },
    {
      "cell_type": "markdown",
      "source": [
        "Strong correlation, meaning user ratings are consistent across platforms."
      ],
      "metadata": {
        "id": "Xx8WAJvtYrdO"
      }
    },
    {
      "cell_type": "markdown",
      "source": [
        "##### 3. Will the gained insights help creating a positive business impact?\n",
        "Are there any insights that lead to negative growth? Justify with specific reason."
      ],
      "metadata": {
        "id": "y-Ehk30pYrdP"
      }
    },
    {
      "cell_type": "markdown",
      "source": [
        "If scores are aligned, Prime can use TMDB/IMDB data to predict user engagement.\n",
        "\n",
        "**Negative Growth Insight:** If scores differ widely, it may indicate biased or unreliable rating systems affecting user trust."
      ],
      "metadata": {
        "id": "jLNxxz7MYrdP"
      }
    },
    {
      "cell_type": "markdown",
      "source": [
        "#### Chart - 5"
      ],
      "metadata": {
        "id": "bamQiAODYuh1"
      }
    },
    {
      "cell_type": "code",
      "source": [
        "# Chart - 5 visualization code\n",
        "\n",
        "# Visualization 5: Top 10 Actors with Most Appearances\n",
        "top_actors = credits_dff[credits_dff['role'] == 'ACTOR']['name'].value_counts().head(10)\n",
        "plt.figure(figsize=(10, 5))\n",
        "sns.barplot(x=top_actors.index, y=top_actors.values, palette='magma')\n",
        "plt.xticks(rotation=45)\n",
        "plt.title(\"Top 10 Actors with Most Appearances\")\n",
        "plt.xlabel(\"Actor Name\")\n",
        "plt.ylabel(\"Count\")\n",
        "plt.show()"
      ],
      "metadata": {
        "id": "TIJwrbroYuh3"
      },
      "execution_count": null,
      "outputs": []
    },
    {
      "cell_type": "markdown",
      "source": [
        "##### 1. Why did you pick the specific chart?"
      ],
      "metadata": {
        "id": "QHF8YVU7Yuh3"
      }
    },
    {
      "cell_type": "markdown",
      "source": [
        "A bar chart is effective in ranking actors by the number of projects they appear in."
      ],
      "metadata": {
        "id": "dcxuIMRPYuh3"
      }
    },
    {
      "cell_type": "markdown",
      "source": [
        "##### 2. What is/are the insight(s) found from the chart?"
      ],
      "metadata": {
        "id": "GwzvFGzlYuh3"
      }
    },
    {
      "cell_type": "markdown",
      "source": [
        "Some actors are featured prominently, suggesting their popularity or frequent collaborations."
      ],
      "metadata": {
        "id": "uyqkiB8YYuh3"
      }
    },
    {
      "cell_type": "markdown",
      "source": [
        "##### 3. Will the gained insights help creating a positive business impact?\n",
        "Are there any insights that lead to negative growth? Justify with specific reason."
      ],
      "metadata": {
        "id": "qYpmQ266Yuh3"
      }
    },
    {
      "cell_type": "markdown",
      "source": [
        "Amazon can prioritize content with these actors to drive engagement.\n",
        "\n",
        "**Negative Growth Insight:** Over-reliance on a few actors might limit diversity, potentially alienating audiences looking for fresh faces."
      ],
      "metadata": {
        "id": "_WtzZ_hCYuh4"
      }
    },
    {
      "cell_type": "markdown",
      "source": [
        "#### Chart - 6"
      ],
      "metadata": {
        "id": "OH-pJp9IphqM"
      }
    },
    {
      "cell_type": "code",
      "source": [
        "# Chart - 6 visualization code\n",
        "\n",
        "# Visualization 6: Top 10 Directors with Most Titles Directed\n",
        "top_directors = credits_dff[credits_dff['role'] == 'DIRECTOR']['name'].value_counts().head(10)\n",
        "plt.figure(figsize=(10, 5))\n",
        "sns.barplot(x=top_directors.index, y=top_directors.values, palette='coolwarm')\n",
        "plt.xticks(rotation=45)\n",
        "plt.title(\"Top 10 Directors with Most Titles Directed\")\n",
        "plt.xlabel(\"Director Name\")\n",
        "plt.ylabel(\"Count\")\n",
        "plt.show()"
      ],
      "metadata": {
        "id": "kuRf4wtuphqN"
      },
      "execution_count": null,
      "outputs": []
    },
    {
      "cell_type": "markdown",
      "source": [
        "##### 1. Why did you pick the specific chart?"
      ],
      "metadata": {
        "id": "bbFf2-_FphqN"
      }
    },
    {
      "cell_type": "markdown",
      "source": [
        "A bar chart helps to visualize which directors contribute the most content."
      ],
      "metadata": {
        "id": "loh7H2nzphqN"
      }
    },
    {
      "cell_type": "markdown",
      "source": [
        "##### 2. What is/are the insight(s) found from the chart?"
      ],
      "metadata": {
        "id": "_ouA3fa0phqN"
      }
    },
    {
      "cell_type": "markdown",
      "source": [
        "Some directors have a significant number of projects, indicating potential high-performing partnerships."
      ],
      "metadata": {
        "id": "VECbqPI7phqN"
      }
    },
    {
      "cell_type": "markdown",
      "source": [
        "##### 3. Will the gained insights help creating a positive business impact?\n",
        "Are there any insights that lead to negative growth? Justify with specific reason."
      ],
      "metadata": {
        "id": "Seke61FWphqN"
      }
    },
    {
      "cell_type": "markdown",
      "source": [
        "Partnering with these directors for exclusive content can enhance viewership.\n",
        "\n",
        "**Negative Growth Insight:** Over-reliance on a small pool of directors could limit variety, impacting content diversity."
      ],
      "metadata": {
        "id": "DW4_bGpfphqN"
      }
    },
    {
      "cell_type": "markdown",
      "source": [
        "#### Chart - 7"
      ],
      "metadata": {
        "id": "PIIx-8_IphqN"
      }
    },
    {
      "cell_type": "code",
      "source": [
        "# Chart - 7 visualization code\n",
        "\n",
        "# Visualization 7: Distribution of Roles (Actors vs. Directors)\n",
        "plt.figure(figsize=(7, 5))\n",
        "sns.countplot(data=credits_df, x='role', palette='Set2')\n",
        "plt.title(\"Distribution of Roles in Credits Dataset\")\n",
        "plt.xlabel(\"Role\")\n",
        "plt.ylabel(\"Count\")\n",
        "plt.show()"
      ],
      "metadata": {
        "id": "lqAIGUfyphqO"
      },
      "execution_count": null,
      "outputs": []
    },
    {
      "cell_type": "markdown",
      "source": [
        "##### 1. Why did you pick the specific chart?"
      ],
      "metadata": {
        "id": "t27r6nlMphqO"
      }
    },
    {
      "cell_type": "markdown",
      "source": [
        "A bar chart helps to compare the number of actors vs. directors in the dataset."
      ],
      "metadata": {
        "id": "iv6ro40sphqO"
      }
    },
    {
      "cell_type": "markdown",
      "source": [
        "##### 2. What is/are the insight(s) found from the chart?"
      ],
      "metadata": {
        "id": "r2jJGEOYphqO"
      }
    },
    {
      "cell_type": "markdown",
      "source": [
        "Actors significantly outnumber directors."
      ],
      "metadata": {
        "id": "Po6ZPi4hphqO"
      }
    },
    {
      "cell_type": "markdown",
      "source": [
        "##### 3. Will the gained insights help creating a positive business impact?\n",
        "Are there any insights that lead to negative growth? Justify with specific reason."
      ],
      "metadata": {
        "id": "b0JNsNcRphqO"
      }
    },
    {
      "cell_type": "markdown",
      "source": [
        "More actors mean greater content variety, while fewer directors may indicate concentrated creative control.\n",
        "\n",
        "**Negative Growth Insight:** If director numbers are too low, it could indicate limited creative diversity, potentially making content repetitive."
      ],
      "metadata": {
        "id": "xvSq8iUTphqO"
      }
    },
    {
      "cell_type": "markdown",
      "source": [
        "#### Chart - 8"
      ],
      "metadata": {
        "id": "BZR9WyysphqO"
      }
    },
    {
      "cell_type": "code",
      "source": [
        "# Chart - 8 visualization code\n",
        "\n",
        "# Visualization 8: Most Common Character Names in TV Shows & Movies\n",
        "top_characters = credits_df['character'].value_counts().head(10)\n",
        "plt.figure(figsize=(10, 5))\n",
        "sns.barplot(x=top_characters.index, y=top_characters.values, palette='viridis')\n",
        "plt.xticks(rotation=45)\n",
        "plt.title(\"Top 10 Most Common Character Names\")\n",
        "plt.xlabel(\"Character Name\")\n",
        "plt.ylabel(\"Count\")\n",
        "plt.show()"
      ],
      "metadata": {
        "id": "TdPTWpAVphqO"
      },
      "execution_count": null,
      "outputs": []
    },
    {
      "cell_type": "markdown",
      "source": [
        "##### 1. Why did you pick the specific chart?"
      ],
      "metadata": {
        "id": "jj7wYXLtphqO"
      }
    },
    {
      "cell_type": "markdown",
      "source": [
        "A bar chart highlights frequently appearing character names very easily."
      ],
      "metadata": {
        "id": "Ob8u6rCTphqO"
      }
    },
    {
      "cell_type": "markdown",
      "source": [
        "##### 2. What is/are the insight(s) found from the chart?"
      ],
      "metadata": {
        "id": "eZrbJ2SmphqO"
      }
    },
    {
      "cell_type": "markdown",
      "source": [
        "Certain character names appear repeatedly, likely due to recurring roles in TV shows."
      ],
      "metadata": {
        "id": "mZtgC_hjphqO"
      }
    },
    {
      "cell_type": "markdown",
      "source": [
        "##### 3. Will the gained insights help creating a positive business impact?\n",
        "Are there any insights that lead to negative growth? Justify with specific reason."
      ],
      "metadata": {
        "id": "rFu4xreNphqO"
      }
    },
    {
      "cell_type": "markdown",
      "source": [
        "Helps Amazon analyze franchise success by tracking popular characters.\n",
        "\n",
        "**Negative Growth Insight:** If repetitive character names indicate overuse of similar themes, audiences might seek variety elsewhere.\n"
      ],
      "metadata": {
        "id": "ey_0qi68phqO"
      }
    },
    {
      "cell_type": "markdown",
      "source": [
        "#### Chart - 9"
      ],
      "metadata": {
        "id": "YJ55k-q6phqO"
      }
    },
    {
      "cell_type": "code",
      "source": [
        "# Chart - 9 visualization code\n",
        "\n",
        "# Visualization 9: Number of Titles Each Actor Has Appeared In (Top 20)\n",
        "actor_appearances = credits_dff[credits_dff['role'] == 'ACTOR']['name'].value_counts().head(20)\n",
        "plt.figure(figsize=(12, 6))\n",
        "sns.barplot(x=actor_appearances.index, y=actor_appearances.values, palette='magma')\n",
        "plt.xticks(rotation=90)\n",
        "plt.title(\"Top 20 Actors with Most Appearances\")\n",
        "plt.xlabel(\"Actor Name\")\n",
        "plt.ylabel(\"Count\")\n",
        "plt.show()"
      ],
      "metadata": {
        "id": "B2aS4O1ophqO"
      },
      "execution_count": null,
      "outputs": []
    },
    {
      "cell_type": "markdown",
      "source": [
        "##### 1. Why did you pick the specific chart?"
      ],
      "metadata": {
        "id": "gCFgpxoyphqP"
      }
    },
    {
      "cell_type": "markdown",
      "source": [
        "A bar chart helps to identify actors with the most projects."
      ],
      "metadata": {
        "id": "TVxDimi2phqP"
      }
    },
    {
      "cell_type": "markdown",
      "source": [
        "##### 2. What is/are the insight(s) found from the chart?"
      ],
      "metadata": {
        "id": "OVtJsKN_phqQ"
      }
    },
    {
      "cell_type": "markdown",
      "source": [
        "Some actors are dominant across multiple shows/movies."
      ],
      "metadata": {
        "id": "ngGi97qjphqQ"
      }
    },
    {
      "cell_type": "markdown",
      "source": [
        "##### 3. Will the gained insights help creating a positive business impact?\n",
        "Are there any insights that lead to negative growth? Justify with specific reason."
      ],
      "metadata": {
        "id": "lssrdh5qphqQ"
      }
    },
    {
      "cell_type": "markdown",
      "source": [
        "Investing in content featuring popular actors can increase engagement.\n",
        "\n",
        "**Negative Growth Insight:** Too much reliance on a few actors may lead to brand fatigue."
      ],
      "metadata": {
        "id": "tBpY5ekJphqQ"
      }
    },
    {
      "cell_type": "markdown",
      "source": [
        "#### Chart - 10"
      ],
      "metadata": {
        "id": "U2RJ9gkRphqQ"
      }
    },
    {
      "cell_type": "code",
      "source": [
        "# Chart - 10 visualization code\n",
        "\n",
        "# Visualization 10: Distribution of Cast Appearances (How Many Titles Do Actors Work In?)\n",
        "cast_counts = credits_dff[credits_dff['role'] == 'ACTOR']['name'].value_counts()\n",
        "plt.figure(figsize=(10, 5))\n",
        "sns.histplot(cast_counts, bins=50, kde=True, color='green')\n",
        "plt.xscale(\"log\")\n",
        "plt.title(\"Distribution of Number of Titles Actors Have Worked In\")\n",
        "plt.xlabel(\"Number of Titles (Log Scale)\")\n",
        "plt.ylabel(\"Count of Actors\")\n",
        "plt.show()"
      ],
      "metadata": {
        "id": "GM7a4YP4phqQ"
      },
      "execution_count": null,
      "outputs": []
    },
    {
      "cell_type": "markdown",
      "source": [
        "##### 1. Why did you pick the specific chart?"
      ],
      "metadata": {
        "id": "1M8mcRywphqQ"
      }
    },
    {
      "cell_type": "markdown",
      "source": [
        "A histogram with a line chart analyzes distribution of actor workloads."
      ],
      "metadata": {
        "id": "8agQvks0phqQ"
      }
    },
    {
      "cell_type": "markdown",
      "source": [
        "##### 2. What is/are the insight(s) found from the chart?"
      ],
      "metadata": {
        "id": "tgIPom80phqQ"
      }
    },
    {
      "cell_type": "markdown",
      "source": [
        "A few actors work on a vast number of titles, while most work on fewer."
      ],
      "metadata": {
        "id": "Qp13pnNzphqQ"
      }
    },
    {
      "cell_type": "markdown",
      "source": [
        "##### 3. Will the gained insights help creating a positive business impact?\n",
        "Are there any insights that lead to negative growth? Justify with specific reason."
      ],
      "metadata": {
        "id": "JMzcOPDDphqR"
      }
    },
    {
      "cell_type": "markdown",
      "source": [
        "Helps in negotiating contracts with actors based on demand.\n",
        "\n",
        "**Negative Growth Insight:** If only a few actors dominate, it may indicate a lack of fresh talent."
      ],
      "metadata": {
        "id": "R4Ka1PC2phqR"
      }
    },
    {
      "cell_type": "markdown",
      "source": [
        "## **5. Solution to Business Objective**"
      ],
      "metadata": {
        "id": "JcMwzZxoAimU"
      }
    },
    {
      "cell_type": "markdown",
      "source": [
        "#### What do you suggest the client to achieve Business Objective ?\n",
        "Explain Briefly."
      ],
      "metadata": {
        "id": "8G2x9gOozGDZ"
      }
    },
    {
      "cell_type": "markdown",
      "source": [
        "To address these business objectives, the following solutions were implemented:\n",
        "\n",
        "**Content Distribution Analysis:**\n",
        "\n",
        "A bar chart comparing movies vs. TV shows helped determine whether Amazon Prime has a balanced content library.\n",
        "Genre distribution analysis identified the most popular genres, allowing the platform to prioritize acquisitions.\n",
        "\n",
        "**Content Quality Assessment:**\n",
        "\n",
        "IMDb and TMDB ratings were analyzed to understand user satisfaction levels.\n",
        "A scatter plot of IMDb vs. TMDB scores ensured rating consistency.\n",
        "Low-rated content was flagged as a potential risk area.\n",
        "Optimizing Content Acquisition:\n",
        "\n",
        "Yearly trends of movie/TV show releases were studied to predict future demand.\n",
        "The most common actors and directors were identified, allowing Amazon to collaborate with high-engagement artists.\n",
        "\n",
        "**Evaluating Cast & Crew Trends:**\n",
        "\n",
        "A bar chart of the most common character names highlighted franchise potential.\n",
        "Actor and director distributions revealed who contributes the most content.\n",
        "\n",
        "**Identifying Gaps & Risks:**\n",
        "\n",
        "Missing values in age_certification suggested the need for proper content classification.\n",
        "Low representation of niche genres (e.g., documentaries, sci-fi) indicated a potential market opportunity.\n",
        "Declining release trends in recent years suggested a slowdown in content acquisition.\n",
        "\n",
        "**Enhancing Customer Satisfaction:**\n",
        "\n",
        "By aligning new content acquisitions with top-rated genres and actors, Amazon can boost engagement.\n",
        "Avoiding an over-reliance on specific actors and directors ensures fresh and diverse content"
      ],
      "metadata": {
        "id": "pASKb0qOza21"
      }
    },
    {
      "cell_type": "markdown",
      "source": [
        "# **Conclusion**"
      ],
      "metadata": {
        "id": "gCX9965dhzqZ"
      }
    },
    {
      "cell_type": "markdown",
      "source": [
        "This project provided critical insights into Amazon Prime Video’s content library. Key findings include:  \n",
        "- **Movies dominate the platform**, but TV shows still have a strong presence.  \n",
        "- **Drama and Comedy are the most popular genres**, indicating user preference trends.  \n",
        "- **Content releases peaked in the 2010s but show a slight decline in recent years.**  \n",
        "- **IMDB and TMDB ratings are mostly positive**, suggesting high content quality.  \n",
        "- **A few actors and directors dominate the platform**, which may limit content diversity.  \n",
        "\n",
        "From a business perspective, these insights can **guide Amazon Prime Video’s content strategy** in the following ways:  \n",
        "1. **Investing more in TV shows** to balance the content library.  \n",
        "2. **Acquiring and producing more high-rated genres** to enhance user engagement.  \n",
        "3. **Collaborating with diverse actors and directors** to refresh content.  \n",
        "4. **Ensuring a steady influx of new content** to maintain platform growth.  \n",
        "\n",
        "By leveraging these insights, **Amazon Prime Video can enhance its content catalog, retain existing users, and attract new subscribers, leading to long-term success in the competitive streaming market.**"
      ],
      "metadata": {
        "id": "Fjb1IsQkh3yE"
      }
    },
    {
      "cell_type": "markdown",
      "source": [
        "### ***Hurrah! You have successfully completed your EDA Capstone Project !!!***"
      ],
      "metadata": {
        "id": "gIfDvo9L0UH2"
      }
    }
  ]
}