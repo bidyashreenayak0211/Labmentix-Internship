{
  "nbformat": 4,
  "nbformat_minor": 0,
  "metadata": {
    "colab": {
      "private_outputs": true,
      "provenance": [],
      "collapsed_sections": [
        "vncDsAP0Gaoa",
        "FJNUwmbgGyua",
        "w6K7xa23Elo4",
        "yQaldy8SH6Dl",
        "PH-0ReGfmX4f",
        "mDgbUHAGgjLW",
        "O_i_v8NEhb9l",
        "HhfV-JJviCcP",
        "Y3lxredqlCYt",
        "3RnN4peoiCZX",
        "x71ZqKXriCWQ",
        "7hBIi_osiCS2",
        "JlHwYmJAmNHm",
        "35m5QtbWiB9F",
        "PoPl-ycgm1ru",
        "H0kj-8xxnORC",
        "nA9Y7ga8ng1Z",
        "PBTbrJXOngz2",
        "u3PMJOP6ngxN",
        "dauF4eBmngu3",
        "bKJF3rekwFvQ",
        "MSa1f5Uengrz",
        "GF8Ens_Soomf",
        "0wOQAZs5pc--",
        "K5QZ13OEpz2H",
        "lQ7QKXXCp7Bj",
        "448CDAPjqfQr",
        "KSlN3yHqYklG",
        "t6dVpIINYklI",
        "ijmpgYnKYklI",
        "-JiQyfWJYklI",
        "EM7whBJCYoAo",
        "fge-S5ZAYoAp",
        "85gYPyotYoAp",
        "RoGjAbkUYoAp",
        "4Of9eVA-YrdM",
        "iky9q4vBYrdO",
        "F6T5p64dYrdO",
        "y-Ehk30pYrdP",
        "bamQiAODYuh1",
        "QHF8YVU7Yuh3",
        "GwzvFGzlYuh3",
        "qYpmQ266Yuh3",
        "OH-pJp9IphqM",
        "bbFf2-_FphqN",
        "_ouA3fa0phqN",
        "Seke61FWphqN",
        "PIIx-8_IphqN",
        "t27r6nlMphqO",
        "r2jJGEOYphqO",
        "b0JNsNcRphqO",
        "BZR9WyysphqO",
        "jj7wYXLtphqO",
        "eZrbJ2SmphqO",
        "rFu4xreNphqO",
        "YJ55k-q6phqO",
        "gCFgpxoyphqP",
        "OVtJsKN_phqQ",
        "lssrdh5qphqQ",
        "U2RJ9gkRphqQ",
        "1M8mcRywphqQ",
        "tgIPom80phqQ",
        "JMzcOPDDphqR",
        "x-EpHcCOp1ci",
        "X_VqEhTip1ck",
        "8zGJKyg5p1ck",
        "PVzmfK_Ep1ck",
        "n3dbpmDWp1ck",
        "ylSl6qgtp1ck",
        "ZWILFDl5p1ck",
        "M7G43BXep1ck",
        "Ag9LCva-p1cl",
        "E6MkPsBcp1cl",
        "2cELzS2fp1cl",
        "3MPXvC8up1cl",
        "NC_X3p0fY2L0",
        "UV0SzAkaZNRQ",
        "YPEH6qLeZNRQ",
        "q29F0dvdveiT",
        "EXh0U9oCveiU",
        "22aHeOlLveiV",
        "JcMwzZxoAimU",
        "8G2x9gOozGDZ",
        "gCX9965dhzqZ",
        "gIfDvo9L0UH2"
      ],
      "include_colab_link": true
    },
    "kernelspec": {
      "name": "python3",
      "display_name": "Python 3"
    },
    "language_info": {
      "name": "python"
    }
  },
  "cells": [
    {
      "cell_type": "markdown",
      "metadata": {
        "id": "view-in-github",
        "colab_type": "text"
      },
      "source": [
        "<a href=\"https://colab.research.google.com/github/bidyashreenayak0211/Labmentix-Internship/blob/main/Medibuddy_Project_EDA.ipynb\" target=\"_parent\"><img src=\"https://colab.research.google.com/assets/colab-badge.svg\" alt=\"Open In Colab\"/></a>"
      ]
    },
    {
      "cell_type": "markdown",
      "source": [
        "# **Project Name**    - **MediBuddy Project EDA**\n",
        "\n"
      ],
      "metadata": {
        "id": "vncDsAP0Gaoa"
      }
    },
    {
      "cell_type": "markdown",
      "source": [
        "##### **Project Type**    - EDA\n",
        "##### **Contribution**    - Individual\n",
        "##### **Name -** Bidyashree Nayak"
      ],
      "metadata": {
        "id": "beRrZCGUAJYm"
      }
    },
    {
      "cell_type": "markdown",
      "source": [
        "# **Project Summary -**"
      ],
      "metadata": {
        "id": "FJNUwmbgGyua"
      }
    },
    {
      "cell_type": "markdown",
      "source": [
        "The Medibuddy Insurance Claim Analysis project focuses on extracting valuable insights from health insurance claim data to support data-driven decision-making in the insurance sector. This analysis aims to uncover the underlying factors that impact the amount of claims submitted by customers, while also exploring patterns in customer behavior, demographic influences, and healthcare spending trends.\n",
        "\n",
        "By leveraging Python for exploratory data analysis (EDA), the project systematically investigates the dataset to understand distributions, detect anomalies, and identify correlations among variables. The process includes feature engineering to enhance model performance and data visualization techniques to communicate findings effectively.\n",
        "\n",
        "The ultimate goal is to highlight key drivers behind high claim amounts, detect fraudulent or outlier claims, and propose recommendations that could help insurers refine their policy structures, minimize risk exposure, and improve customer engagement. Through comprehensive analysis, this project provides strategic insights that can contribute to better resource allocation, pricing models, and customer satisfaction in the health insurance domain.\n",
        "\n"
      ],
      "metadata": {
        "id": "F6v_1wHtG2nS"
      }
    },
    {
      "cell_type": "markdown",
      "source": [
        "# **GitHub Link -**"
      ],
      "metadata": {
        "id": "w6K7xa23Elo4"
      }
    },
    {
      "cell_type": "markdown",
      "source": [
        "Provide your GitHub Link here."
      ],
      "metadata": {
        "id": "h1o69JH3Eqqn"
      }
    },
    {
      "cell_type": "markdown",
      "source": [
        "# **Problem Statement**\n"
      ],
      "metadata": {
        "id": "yQaldy8SH6Dl"
      }
    },
    {
      "cell_type": "markdown",
      "source": [
        "The insurance sector is increasingly challenged by the need to control escalating claim expenses, accurately evaluate risk factors, and develop sustainable pricing strategies. To remain competitive and financially viable, insurers must consider how various customer attributes—such as demographics, health habits, and regional differences—affect the cost of insurance claims.\n",
        "\n",
        "This project is centered on conducting a detailed analysis of Medibuddy’s insurance claim dataset to uncover the primary drivers behind claim expenditures. By analyzing features such as age, body mass index (BMI), smoking habits, geographic location, and household size, the project aims to:\n",
        "\n",
        "Pinpoint demographic segments that are associated with higher average claim costs\n",
        "\n",
        "Identify health and lifestyle risks—such as smoking or elevated BMI—that contribute to larger claims\n",
        "\n",
        "Explore how regional differences and the number of dependents (children) influence medical expenses\n",
        "\n",
        "Generate actionable, data-backed recommendations to support more accurate risk modeling and premium pricing\n",
        "\n",
        "Through these analyses, the project seeks to equip Medibuddy with meaningful insights that can guide improvements in policy structuring, help tailor premiums to individual risk profiles, and support data-informed business strategies. The ultimate objective is to enhance profitability while delivering fair and customer-centric insurance solutions.\n",
        "\n"
      ],
      "metadata": {
        "id": "DpeJGUA3kjGy"
      }
    },
    {
      "cell_type": "markdown",
      "source": [
        "#### **Define Your Business Objective?**"
      ],
      "metadata": {
        "id": "PH-0ReGfmX4f"
      }
    },
    {
      "cell_type": "markdown",
      "source": [
        "1. **Refine Risk Evaluation and Pricing Models**  \n",
        "   - Identify customer segments that pose a higher risk—such as individuals with elevated BMI or smoking habits—based on historical claim patterns.  \n",
        "   - Propose risk-adjusted premium strategies aimed at reducing financial exposure and boosting profitability.\n",
        "\n",
        "2. **Enhance Customer Segmentation and Personalization**  \n",
        "   - Segment the policyholder base by key demographics such as age, region, and health metrics to uncover behavioral trends in claim submissions.  \n",
        "   - Support the development of tailored insurance plans and personalized pricing models to better align with customer needs and risk levels.\n",
        "\n",
        "3. **Analyze Cost Drivers and Lifestyle Impacts**  \n",
        "   - Examine the influence of personal habits and household characteristics (e.g., smoking, obesity, number of dependents) on claim expenditures.  \n",
        "   - Offer data-backed guidance to revise policy coverage or implement tiered pricing based on lifestyle-related risk factors.\n",
        "\n",
        "4. **Boost Customer Loyalty and Experience**  \n",
        "   - Leverage claim data insights to craft more relevant policy recommendations, tailored to each customer's risk profile.  \n",
        "   - Foster trust and satisfaction by offering competitively priced, equitable insurance products.\n",
        "\n",
        "5. **Detect Anomalies and Uncover Fraudulent Patterns**  \n",
        "   - Spot unusual or excessive claim amounts and behavioral anomalies that may suggest fraud or misuse.  \n",
        "   - Strengthen Medibuddy’s fraud detection framework using analytical methods and predictive tools.\n",
        "\n",
        "6. **Support Strategic Planning Through Analytics**  \n",
        "   - Deliver actionable insights to inform key business decisions, such as adjusting coverage caps or introducing new plan tiers.  \n",
        "   - Utilize predictive modeling to anticipate future claim volumes and support financial planning.\n",
        "\n",
        "By aligning these objectives with analytical outcomes, Medibuddy can streamline its operations, reinforce financial health, and deliver customer-focused insurance solutions more effectively."
      ],
      "metadata": {
        "id": "PhDvGCAqmjP1"
      }
    },
    {
      "cell_type": "markdown",
      "source": [
        "# **General Guidelines** : -  "
      ],
      "metadata": {
        "id": "mDgbUHAGgjLW"
      }
    },
    {
      "cell_type": "markdown",
      "source": [
        "1.   Well-structured, formatted, and commented code is required.\n",
        "2.   Exception Handling, Production Grade Code & Deployment Ready Code will be a plus. Those students will be awarded some additional credits.\n",
        "     \n",
        "     The additional credits will have advantages over other students during Star Student selection.\n",
        "       \n",
        "             [ Note: - Deployment Ready Code is defined as, the whole .ipynb notebook should be executable in one go\n",
        "                       without a single error logged. ]\n",
        "\n",
        "3.   Each and every logic should have proper comments.\n",
        "4. You may add as many number of charts you want. Make Sure for each and every chart the following format should be answered.\n",
        "        \n",
        "\n",
        "```\n",
        "# Chart visualization code\n",
        "```\n",
        "            \n",
        "\n",
        "*   Why did you pick the specific chart?\n",
        "*   What is/are the insight(s) found from the chart?\n",
        "* Will the gained insights help creating a positive business impact?\n",
        "Are there any insights that lead to negative growth? Justify with specific reason.\n",
        "\n",
        "5. You have to create at least 20 logical & meaningful charts having important insights.\n",
        "\n",
        "\n",
        "[ Hints : - Do the Vizualization in  a structured way while following \"UBM\" Rule.\n",
        "\n",
        "U - Univariate Analysis,\n",
        "\n",
        "B - Bivariate Analysis (Numerical - Categorical, Numerical - Numerical, Categorical - Categorical)\n",
        "\n",
        "M - Multivariate Analysis\n",
        " ]\n",
        "\n",
        "\n",
        "\n"
      ],
      "metadata": {
        "id": "ZrxVaUj-hHfC"
      }
    },
    {
      "cell_type": "markdown",
      "source": [
        "# ***Let's Begin !***"
      ],
      "metadata": {
        "id": "O_i_v8NEhb9l"
      }
    },
    {
      "cell_type": "markdown",
      "source": [
        "## ***1. Know Your Data***"
      ],
      "metadata": {
        "id": "HhfV-JJviCcP"
      }
    },
    {
      "cell_type": "markdown",
      "source": [
        "### Import Libraries"
      ],
      "metadata": {
        "id": "Y3lxredqlCYt"
      }
    },
    {
      "cell_type": "code",
      "source": [
        "# Import Libraries\n",
        "import pandas as pd  # For data manipulation and analysis\n",
        "import numpy as np  # For numerical operations\n",
        "import matplotlib.pyplot as plt  # For basic plotting\n",
        "import seaborn as sns  # For statistical data visualization\n",
        "pd.set_option('display.max_columns', None)  # Show all columns in output\n",
        "pd.set_option('display.width', 1000)        # Increase output width if needed"
      ],
      "metadata": {
        "id": "M8Vqi-pPk-HR"
      },
      "execution_count": null,
      "outputs": []
    },
    {
      "cell_type": "markdown",
      "source": [
        "### Dataset Loading"
      ],
      "metadata": {
        "id": "3RnN4peoiCZX"
      }
    },
    {
      "cell_type": "code",
      "source": [
        "# Load Dataset\n",
        "df1 = pd.read_excel('/content/Medibuddy Insurance Data Price (1) (2).xlsx') #Load the Price Dataset\n",
        "df2 = pd.read_excel('/content/Medibuddy insurance data personal details (1) (2).xlsx') #Load the Personal Details Dataset"
      ],
      "metadata": {
        "id": "4CkvbW_SlZ_R"
      },
      "execution_count": null,
      "outputs": []
    },
    {
      "cell_type": "code",
      "source": [
        "# Merge the two dfs on the \"Policy no. column\"\n",
        "merged_df = pd.merge(df1, df2, on=\"Policy no.\")"
      ],
      "metadata": {
        "id": "PZsitNAAYdHQ"
      },
      "execution_count": null,
      "outputs": []
    },
    {
      "cell_type": "markdown",
      "source": [
        "### Dataset First View"
      ],
      "metadata": {
        "id": "x71ZqKXriCWQ"
      }
    },
    {
      "cell_type": "code",
      "source": [
        "# Dataset First Look\n",
        "merged_df.head()"
      ],
      "metadata": {
        "id": "LWNFOSvLl09H"
      },
      "execution_count": null,
      "outputs": []
    },
    {
      "cell_type": "markdown",
      "source": [
        "### Dataset Rows & Columns count"
      ],
      "metadata": {
        "id": "7hBIi_osiCS2"
      }
    },
    {
      "cell_type": "code",
      "source": [
        "# Dataset Rows & Columns count\n",
        "print(\"Number of rows:\", merged_df.shape[0])\n",
        "print(\"Number of columns:\", merged_df.shape[1])"
      ],
      "metadata": {
        "id": "Kllu7SJgmLij"
      },
      "execution_count": null,
      "outputs": []
    },
    {
      "cell_type": "markdown",
      "source": [
        "### Dataset Information"
      ],
      "metadata": {
        "id": "JlHwYmJAmNHm"
      }
    },
    {
      "cell_type": "code",
      "source": [
        "# Dataset Info\n",
        "merged_df.info()"
      ],
      "metadata": {
        "id": "e9hRXRi6meOf"
      },
      "execution_count": null,
      "outputs": []
    },
    {
      "cell_type": "markdown",
      "source": [
        "#### Duplicate Values"
      ],
      "metadata": {
        "id": "35m5QtbWiB9F"
      }
    },
    {
      "cell_type": "code",
      "source": [
        "# Dataset Duplicate Value Count\n",
        "print(\"Number of duplicate rows:\", merged_df.duplicated().sum())"
      ],
      "metadata": {
        "id": "1sLdpKYkmox0"
      },
      "execution_count": null,
      "outputs": []
    },
    {
      "cell_type": "markdown",
      "source": [
        "#### Missing Values/Null Values"
      ],
      "metadata": {
        "id": "PoPl-ycgm1ru"
      }
    },
    {
      "cell_type": "code",
      "source": [
        "# Missing Values/Null Values Count\n",
        "print(\"Number of Null/Missing Values in Dataset =\",merged_df.isnull().sum().sum())"
      ],
      "metadata": {
        "id": "GgHWkxvamxVg"
      },
      "execution_count": null,
      "outputs": []
    },
    {
      "cell_type": "code",
      "source": [
        "# Visualizing the missing values\n",
        "sns.heatmap(merged_df.isnull(), cbar=False, cmap='viridis')\n",
        "plt.title('Missing Values Heatmap')\n",
        "plt.show()"
      ],
      "metadata": {
        "id": "3q5wnI3om9sJ"
      },
      "execution_count": null,
      "outputs": []
    },
    {
      "cell_type": "markdown",
      "source": [
        "### What did you know about your dataset?"
      ],
      "metadata": {
        "id": "H0kj-8xxnORC"
      }
    },
    {
      "cell_type": "markdown",
      "source": [
        "The dataset comprises **1,338 rows and 8 columns**, representing insurance-related information for a group of individuals. Each row corresponds to a unique policyholder, as indicated by the non-null **Policy no.**, and there are no duplicate or missing entries, ensuring the dataset is complete and clean. The columns include demographic details such as **age**, **sex**, **number of children**, **smoking status**, and **region**. Additionally, it provides health-related data like **BMI (Body Mass Index)** and financial data like **insurance charges (in INR)**. The absence of missing values and duplicates makes this dataset reliable for analysis. The mix of categorical (e.g., sex, smoker, region) and numerical variables (e.g., age, bmi, charges) suggests it's well-suited for exploring patterns in healthcare costs, performing statistical analysis, or building predictive models related to insurance pricing."
      ],
      "metadata": {
        "id": "gfoNAAC-nUe_"
      }
    },
    {
      "cell_type": "markdown",
      "source": [
        "## ***2. Understanding Your Variables***"
      ],
      "metadata": {
        "id": "nA9Y7ga8ng1Z"
      }
    },
    {
      "cell_type": "code",
      "source": [
        "# Dataset Columns\n",
        "merged_df.columns"
      ],
      "metadata": {
        "id": "j7xfkqrt5Ag5"
      },
      "execution_count": null,
      "outputs": []
    },
    {
      "cell_type": "code",
      "source": [
        "# Dataset Describe\n",
        "merged_df.describe()"
      ],
      "metadata": {
        "id": "DnOaZdaE5Q5t"
      },
      "execution_count": null,
      "outputs": []
    },
    {
      "cell_type": "markdown",
      "source": [
        "### Variables Description"
      ],
      "metadata": {
        "id": "PBTbrJXOngz2"
      }
    },
    {
      "cell_type": "markdown",
      "source": [
        "1. **`Policy no.`**\n",
        "   - **Type:** `object` (string)\n",
        "   - **Description:** A unique identifier assigned to each insurance policy. It serves as a reference number and ensures that each record in the dataset is distinct.\n",
        "   - **Role:** Identifier (not used in modeling or analysis directly, but useful for tracking).\n",
        "\n",
        "2. **`age`**\n",
        "   - **Type:** `int64` (integer)\n",
        "   - **Description:** The age of the policyholder in years.\n",
        "   - **Importance:** A critical factor in determining insurance risk and pricing, as healthcare costs often increase with age.\n",
        "\n",
        "3. **`sex`**\n",
        "   - **Type:** `object` (string)\n",
        "   - **Values:** Typically `'male'` or `'female'`\n",
        "   - **Description:** The gender of the policyholder.\n",
        "   - **Importance:** Used to study demographic patterns and can also influence insurance premiums due to differing risk profiles.\n",
        "\n",
        "4. **`bmi` (Body Mass Index)**\n",
        "   - **Type:** `float64` (floating point number)\n",
        "   - **Description:** A measure of body fat calculated from weight and height. It helps categorize individuals as underweight, normal, overweight, or obese.\n",
        "   - **Importance:** Higher BMI can indicate health risks, which in turn can affect insurance premiums.\n",
        "\n",
        "5. **`charges in INR`**\n",
        "   - **Type:** `float64`\n",
        "   - **Description:** The amount charged by the insurance company for providing health coverage. This is likely the target variable in pricing or prediction tasks.\n",
        "   - **Importance:** Represents the cost of health insurance; central to any cost-related analysis or prediction.\n",
        "\n",
        "6. **`children`**\n",
        "   - **Type:** `int64`\n",
        "   - **Description:** The number of dependent children covered under the insurance policy.\n",
        "   - **Importance:** More dependents may influence policy costs and risk assessments.\n",
        "\n",
        "7. **`smoker`**\n",
        "   - **Type:** `object` (string)\n",
        "   - **Values:** `'yes'` or `'no'`\n",
        "   - **Description:** Indicates whether the policyholder is a smoker.\n",
        "   - **Importance:** A major risk factor in health insurance, significantly affecting premium amounts due to higher associated health risks.\n",
        "\n",
        "8. **`region`**\n",
        "   - **Type:** `object` (string)\n",
        "   - **Description:** The geographic region in which the policyholder resides (likely within India, though the dataset doesn't specify).\n",
        "   - **Importance:** Regional differences in healthcare costs and practices may influence insurance pricing."
      ],
      "metadata": {
        "id": "aJV4KIxSnxay"
      }
    },
    {
      "cell_type": "markdown",
      "source": [
        "### Check Unique Values for each variable."
      ],
      "metadata": {
        "id": "u3PMJOP6ngxN"
      }
    },
    {
      "cell_type": "code",
      "source": [
        "# Check Unique Values for each variable.\n",
        "print(\"Number of Unique values for each column in Dataset-\")\n",
        "print(merged_df.nunique())"
      ],
      "metadata": {
        "id": "zms12Yq5n-jE"
      },
      "execution_count": null,
      "outputs": []
    },
    {
      "cell_type": "markdown",
      "source": [
        "## 3. ***Data Wrangling***"
      ],
      "metadata": {
        "id": "dauF4eBmngu3"
      }
    },
    {
      "cell_type": "markdown",
      "source": [
        "### Data Wrangling Code"
      ],
      "metadata": {
        "id": "bKJF3rekwFvQ"
      }
    },
    {
      "cell_type": "code",
      "source": [
        "# Write your code to make your dataset analysis ready.\n",
        "import pandas as pd\n",
        "import numpy as np\n",
        "\n",
        "# 📄 1. Make a fresh copy of the merged DataFrame\n",
        "df_cleaned = merged_df.copy()\n",
        "\n",
        "# 🔄 2. Format and round numerical values\n",
        "df_cleaned['bmi'] = df_cleaned['bmi'].round(2)\n",
        "df_cleaned['charges in INR'] = df_cleaned['charges in INR'].round(2)\n",
        "\n",
        "# ✅ 3. Create a binary flag for smoking status\n",
        "df_cleaned['is_smoker'] = df_cleaned['smoker'].map({'yes': 1, 'no': 0})\n",
        "\n",
        "# 📊 4. Group age into defined age ranges\n",
        "age_bins = [18, 30, 40, 50, 60, 70]\n",
        "age_labels = ['18-29', '30-39', '40-49', '50-59', '60+']\n",
        "df_cleaned['Age_Bracket'] = pd.cut(df_cleaned['age'], bins=age_bins, labels=age_labels, include_lowest=True)\n",
        "\n",
        "# 🧮 5. Define function to classify BMI values\n",
        "def classify_bmi(value):\n",
        "    if value < 18.5:\n",
        "        return 'Underweight'\n",
        "    elif 18.5 <= value < 25:\n",
        "        return 'Normal'\n",
        "    elif 25 <= value < 30:\n",
        "        return 'Overweight'\n",
        "    else:\n",
        "        return 'Obese'\n",
        "\n",
        "# 🏷️ 6. Apply BMI classification\n",
        "df_cleaned['BMI_Group'] = df_cleaned['bmi'].apply(classify_bmi)\n",
        "\n",
        "# 💸 7. Group insurance charges into INR ranges\n",
        "inr_bins = [0, 10000, 20000, 30000, 40000, 50000, 60000, np.inf]\n",
        "inr_labels = ['<10k', '10k-20k', '20k-30k', '30k-40k', '40k-50k', '50k-60k', '60k+']\n",
        "df_cleaned['Charges_Band'] = pd.cut(df_cleaned['charges in INR'], bins=inr_bins, labels=inr_labels)\n",
        "\n",
        "# 👶 8. Categorize number of children\n",
        "def children_group(n):\n",
        "    if n == 0:\n",
        "        return 'No Children'\n",
        "    elif n in [1, 2]:\n",
        "        return '1-2 Children'\n",
        "    else:\n",
        "        return '3+ Children'\n",
        "\n",
        "df_cleaned['Children_Group'] = df_cleaned['children'].apply(children_group)\n",
        "\n",
        "# 🧾 9. Average claim amount per policy number\n",
        "avg_claims_by_policy = df_cleaned.groupby('Policy no.')['charges in INR'].mean()\n",
        "\n",
        "# 📉 10. Compute claim amount relative to BMI\n",
        "df_cleaned['Claim_per_BMI'] = df_cleaned['charges in INR'] / df_cleaned['bmi']\n",
        "\n",
        "# 💾 Save cleaned DataFrame to CSV\n",
        "df_cleaned.to_csv('cleaned_insurance_data.csv', index=False)\n"
      ],
      "metadata": {
        "id": "wk-9a2fpoLcV"
      },
      "execution_count": null,
      "outputs": []
    },
    {
      "cell_type": "markdown",
      "source": [
        "### What all manipulations have you done and insights you found?"
      ],
      "metadata": {
        "id": "MSa1f5Uengrz"
      }
    },
    {
      "cell_type": "markdown",
      "source": [
        "### 🔧 **Manipulations (Data Transformations):**\n",
        "\n",
        "1. **🆕 Data Copy:**\n",
        "   - A fresh copy of the original `merged_df` was created as `df_cleaned` to ensure the original data remains untouched during manipulation.\n",
        "\n",
        "2. **🔄 Rounded Numerical Values:**\n",
        "   - Rounded `bmi` and `charges in INR` to two decimal places for consistency and easier readability.\n",
        "\n",
        "3. **✅ Created `is_smoker`:**\n",
        "   - Converted the `smoker` column to a binary flag:\n",
        "     - `yes` → 1\n",
        "     - `no` → 0\n",
        "\n",
        "4. **📊 Age Bracketing:**\n",
        "   - Grouped `age` into 5 ranges:\n",
        "     - `18-29`, `30-39`, `40-49`, `50-59`, `60+`\n",
        "\n",
        "5. **🧮 BMI Classification:**\n",
        "   - Used BMI value to categorize individuals into:\n",
        "     - `Underweight`, `Normal`, `Overweight`, `Obese`\n",
        "\n",
        "6. **💸 Charges Band:**\n",
        "   - Grouped `charges in INR` into ranges like:\n",
        "     - `<10k`, `10k–20k`, ..., `60k+`\n",
        "\n",
        "7. **👶 Children Grouping:**\n",
        "   - Grouped `children` count into:\n",
        "     - `No Children`, `1–2 Children`, `3+ Children`\n",
        "\n",
        "8. **🧾 Average Claims:**\n",
        "   - Computed average insurance charges per `Policy no.` — useful for analyzing typical costs by policy.\n",
        "\n",
        "9. **📉 Claim per BMI:**\n",
        "   - Created a ratio of `charges in INR` to `bmi`:\n",
        "     - Indicates how much cost is incurred per BMI unit — a potential risk indicator.\n",
        "\n",
        "---\n",
        "\n",
        "### 🔍 **Insights You Can Extract from This Data:**\n",
        "\n",
        "1. **💨 Smokers vs Non-Smokers:**\n",
        "   - Analyze how smoking status (`is_smoker`) correlates with charges. Smokers are likely to have significantly higher claims.\n",
        "\n",
        "2. **📈 Age and Charges:**\n",
        "   - Using `Age_Bracket` and `Charges_Band`, you can study how charges increase with age.\n",
        "\n",
        "3. **⚖️ BMI and Risk:**\n",
        "   - By looking at `BMI_Group` vs `charges`, you can assess whether obesity or underweight individuals incur more costs.\n",
        "\n",
        "4. **👨‍👩‍👧‍👦 Children Impact:**\n",
        "   - Compare average charges across `Children_Group` — possibly more dependents mean higher healthcare usage.\n",
        "\n",
        "5. **💰 High-Risk Segments:**\n",
        "   - Combining `is_smoker`, `BMI_Group`, and `Age_Bracket` may reveal the most expensive customer segments.\n",
        "\n",
        "6. **📊 Insurance Cost Efficiency:**\n",
        "   - `Claim_per_BMI` can help identify inefficiencies — high ratios might indicate individuals with higher-than-expected claims."
      ],
      "metadata": {
        "id": "LbyXE7I1olp8"
      }
    },
    {
      "cell_type": "markdown",
      "source": [
        "## ***4. Data Vizualization, Storytelling & Experimenting with charts : Understand the relationships between variables***"
      ],
      "metadata": {
        "id": "GF8Ens_Soomf"
      }
    },
    {
      "cell_type": "code",
      "source": [
        "import matplotlib.pyplot as plt\n",
        "import seaborn as sns\n",
        "\n",
        "# Ensure the dataset is loaded\n",
        "import pandas as pd\n",
        "df = pd.read_csv('/content/cleaned_insurance_data.csv')"
      ],
      "metadata": {
        "id": "uC3qTjyygGys"
      },
      "execution_count": null,
      "outputs": []
    },
    {
      "cell_type": "markdown",
      "source": [
        "###**Question - 1. Does the gender of the person matter for the company as a constraint for extending policies?**"
      ],
      "metadata": {
        "id": "0wOQAZs5pc--"
      }
    },
    {
      "cell_type": "code",
      "source": [
        "# Set figure size\n",
        "plt.figure(figsize=(14, 6))\n",
        "\n",
        "# Set custom colors: light blue for females, orange for males\n",
        "gender_colors = {'female': '#5DADE2', 'male': '#F5B041'}\n",
        "\n",
        "# Bar plot for average claim amount by gender\n",
        "sns.barplot(\n",
        "    x='sex',\n",
        "    y='charges in INR',\n",
        "    data=df,\n",
        "    estimator='mean',\n",
        "    ci=None,\n",
        "    palette=gender_colors\n",
        ")\n",
        "\n",
        "# Labels and title\n",
        "plt.title('Average Claim Amount by Gender', fontsize=18, fontweight='bold')\n",
        "plt.xlabel('Gender', fontsize=12)\n",
        "plt.ylabel('Average Claim Amount (INR)', fontsize=12)\n",
        "\n",
        "# Display values on top of bars\n",
        "ax = plt.gca()\n",
        "for p in ax.patches:\n",
        "    height = p.get_height()\n",
        "    ax.annotate(f'{height:.2f}',\n",
        "                (p.get_x() + p.get_width() / 2., height),\n",
        "                ha='center', va='bottom',\n",
        "                fontsize=10, color='black')\n",
        "\n",
        "plt.grid(axis='y', linestyle='--', alpha=0.6)\n",
        "plt.tight_layout()\n",
        "plt.show()\n"
      ],
      "metadata": {
        "id": "7v_ESjsspbW7"
      },
      "execution_count": null,
      "outputs": []
    },
    {
      "cell_type": "markdown",
      "source": [
        "### **Answer:**\n",
        "\n",
        "From the visualization, gender does not appear to be a major constraint when it comes to extending insurance policies. The average claim amount for males is ₹13,956.75, while for females, it is slightly lower at ₹12,569.58.\n",
        "\n",
        "Although males tend to claim slightly more, the difference of approximately ₹1,387.17 is relatively modest in the context of healthcare costs and insurance claims. This narrow gap suggests that gender alone does not significantly influence the magnitude of claims made by policyholders.\n",
        "\n",
        "This implies that gender may not be a critical factor in risk assessment or premium calculation, at least not in isolation. Other factors—such as smoking status, BMI, age, and pre-existing conditions—are likely to have a more substantial impact on claim behavior and overall risk.\n",
        "\n",
        "Therefore, policy extension or premium decisions should ideally be guided by a holistic view of health and lifestyle attributes, rather than gender alone."
      ],
      "metadata": {
        "id": "K5QZ13OEpz2H"
      }
    },
    {
      "cell_type": "markdown",
      "source": [
        "###**Question - 2. What is the average amount of money the company spent over each policy cover?**"
      ],
      "metadata": {
        "id": "KSlN3yHqYklG"
      }
    },
    {
      "cell_type": "code",
      "source": [
        "# Grouping by policy and calculating average claim\n",
        "avg_claim = df.groupby('Policy no.')['charges in INR'].mean().reset_index()\n",
        "\n",
        "# Sorting for better color mapping\n",
        "avg_claim = avg_claim.sort_values(by='charges in INR', ascending=False).reset_index(drop=True)\n",
        "\n",
        "# Set figure size\n",
        "plt.figure(figsize=(16, 5))\n",
        "\n",
        "# Create a color palette (gradient)\n",
        "colors = sns.color_palette(\"viridis\", len(avg_claim))\n",
        "\n",
        "# Plotting bar chart with gradient colors\n",
        "bars = plt.bar(avg_claim['Policy no.'].astype(str), avg_claim['charges in INR'], color=colors)\n",
        "\n",
        "# Adding labels and title\n",
        "plt.xlabel('Policy No', fontsize=12)\n",
        "plt.ylabel('Average Claim Amount (INR)', fontsize=12)\n",
        "plt.title('Average Claim Amount per Policy', fontsize=18, fontweight='bold')\n",
        "\n",
        "# Hide x-ticks to avoid clutter (optional: show selected ticks for clarity)\n",
        "plt.xticks([])\n",
        "\n",
        "# Grid lines for readability\n",
        "plt.grid(axis='y', linestyle='--', alpha=0.6)\n",
        "\n",
        "plt.tight_layout()\n",
        "plt.show()\n",
        "\n"
      ],
      "metadata": {
        "id": "R4YgtaqtYklH"
      },
      "execution_count": null,
      "outputs": []
    },
    {
      "cell_type": "markdown",
      "source": [
        "### **Answer:**\n",
        "\n",
        "From the bar plot, it is evident that the **average claim amount varies significantly across different policy numbers**. This wide range of claim values points to a **highly irregular distribution** of healthcare expenses among policyholders.\n",
        "\n",
        "While a few policies show **substantially higher average claim amounts**, a larger number of policies reflect **moderate to low claim values**. This disparity suggests that **certain individuals or groups may be incurring significantly higher medical costs**, possibly due to chronic illnesses, surgeries, or high-risk profiles (e.g., smokers, older age, high BMI).\n",
        "\n",
        "The absence of a consistent trend or pattern in claim amounts indicates that there is **no uniformity in the average amount spent per policy**. This could be influenced by a variety of factors, such as:\n",
        "- Differences in health conditions,\n",
        "- Varying family sizes under each policy,\n",
        "- Lifestyle choices,\n",
        "- Frequency of medical utilization,\n",
        "- Or even policy coverage limits.\n",
        "\n",
        "Such a **non-uniform distribution** of claim amounts is critical from a risk management and pricing perspective. It emphasizes the need for:\n",
        "- **Individualized policy assessments,**\n",
        "- **Tiered premium structures**, and\n",
        "- **Preventive healthcare strategies** to minimize high-risk claims."
      ],
      "metadata": {
        "id": "t6dVpIINYklI"
      }
    },
    {
      "cell_type": "code",
      "source": [
        "# Set figure size\n",
        "plt.figure(figsize=(14, 5))\n",
        "\n",
        "# Plotting histogram with custom color and styling\n",
        "sns.histplot(\n",
        "    df['charges in INR'],\n",
        "    bins=30,\n",
        "    kde=True,\n",
        "    color='#2E86AB',        # Elegant blue tone\n",
        "    edgecolor='white',      # Makes bars visually distinct\n",
        "    linewidth=1.2\n",
        ")\n",
        "\n",
        "# Adding labels and title with styling\n",
        "plt.title('Distribution of Claim Amount', fontsize=18, fontweight='bold', color='black')\n",
        "plt.xlabel('Claim Amount (INR)', fontsize=12, color='#34495E')\n",
        "plt.ylabel('Frequency', fontsize=12, color='#34495E')\n",
        "\n",
        "# Grid styling\n",
        "plt.grid(axis='y', linestyle='--', alpha=0.6)\n",
        "\n",
        "# Tight layout for clean spacing\n",
        "plt.tight_layout()\n",
        "plt.show()\n"
      ],
      "metadata": {
        "id": "t6GMdE67YoAp"
      },
      "execution_count": null,
      "outputs": []
    },
    {
      "cell_type": "markdown",
      "source": [
        "### **Answer:**\n",
        "\n",
        "From the histogram visualizing the distribution of claim amounts, it is clear that the data is **right-skewed** (positively skewed). This means that **most policyholders submit relatively low-value claims**, while **a smaller number of policies account for high-value claims** on the far right of the distribution curve.\n",
        "\n",
        "The bulk of the claims are concentrated **below ₹20,000**, indicating that routine medical expenses like minor treatments, consultations, or outpatient services dominate the claim profile. This forms the **peak of the distribution**, showing high frequency in this cost range.\n",
        "\n",
        "As the claim amount increases, the frequency of such cases drops significantly. Only a small fraction of the data lies **beyond ₹40,000**, suggesting that **large medical claims are relatively rare**. These high-end claims might be associated with:\n",
        "- Major surgeries,\n",
        "- Chronic or critical illnesses,\n",
        "- Hospitalizations, or\n",
        "- Specialized treatments.\n",
        "\n",
        "This skewed distribution implies that the insurance company’s **overall expenditure is heavily driven by many low-cost claims**, punctuated by **a few high-cost outliers**. From a financial planning perspective, this pattern is typical in healthcare insurance and reinforces the importance of:\n",
        "- **Risk pooling**, where the low-cost claims help offset the burden of occasional high-cost ones,\n",
        "- **Premium structuring**, to ensure that rare but expensive events are still covered sustainably,\n",
        "- **Predictive modeling**, to better anticipate and plan for outlier cases."
      ],
      "metadata": {
        "id": "fge-S5ZAYoAp"
      }
    },
    {
      "cell_type": "markdown",
      "source": [
        "###**Question - 3. Could you advice if the company needs to offer separate policies based upon the geographic location of the person?**"
      ],
      "metadata": {
        "id": "4Of9eVA-YrdM"
      }
    },
    {
      "cell_type": "code",
      "source": [
        "# Set figure size\n",
        "plt.figure(figsize=(14, 5))\n",
        "\n",
        "# Plotting bar chart with a vibrant color palette\n",
        "sns.barplot(x='region', y='charges in INR', data=df, palette='coolwarm')\n",
        "\n",
        "# Adding labels and title with refined styling\n",
        "plt.title('Average Claim Amount by Region', fontsize=18, fontweight='bold', color='black')\n",
        "plt.xlabel('Region', fontsize=12, color='#34495E')\n",
        "plt.ylabel('Average Claim Amount (INR)', fontsize=12, color='#34495E')\n",
        "\n",
        "# Displaying values on top of bars with spacing\n",
        "for bar in plt.gca().patches:\n",
        "    height = bar.get_height()\n",
        "    plt.text(\n",
        "        bar.get_x() + bar.get_width() / 2.,\n",
        "        height + 500,\n",
        "        f'{height:.2f}',\n",
        "        ha='center',\n",
        "        va='bottom',\n",
        "        fontsize=10,\n",
        "        fontweight='semibold',\n",
        "        color='black'\n",
        "    )\n",
        "\n",
        "# Removed grid lines\n",
        "\n",
        "# Clean spacing\n",
        "plt.tight_layout()\n",
        "plt.show()"
      ],
      "metadata": {
        "id": "irlUoxc8YrdO"
      },
      "execution_count": null,
      "outputs": []
    },
    {
      "cell_type": "markdown",
      "source": [
        "### **Answer:**\n",
        "\n",
        "From the bar plot, it's evident that **average claim amounts differ across regions**, indicating potential regional disparities in healthcare utilization or costs.\n",
        "\n",
        "The **Southeast region records the highest average claim amount** at approximately **₹14,735.41**, suggesting higher medical expenses or more frequent claims in that area. In contrast, the **Southwest shows the lowest average** at around **₹12,346.94**, implying lower healthcare spending or fewer claims filed.\n",
        "\n",
        "These differences may stem from various **regional factors**, such as:\n",
        "- Cost of medical services,\n",
        "- Access to healthcare facilities,\n",
        "- Lifestyle and demographic differences,\n",
        "- Prevalence of chronic conditions.\n",
        "\n",
        "This variation highlights the potential value in implementing **region-specific pricing models or policy structures**, which could help balance risk, improve affordability, and ensure more accurate premium calculations.\n",
        "\n",
        "In short, understanding these **regional patterns** can aid insurers in developing **more customized and fair policy offerings**."
      ],
      "metadata": {
        "id": "iky9q4vBYrdO"
      }
    },
    {
      "cell_type": "code",
      "source": [
        "# Set figure size\n",
        "plt.figure(figsize=(10, 8))\n",
        "\n",
        "# Counting Regions\n",
        "region_counts = df['region'].value_counts()\n",
        "\n",
        "# Plotting pie chart with a new color palette\n",
        "plt.pie(\n",
        "    region_counts,\n",
        "    labels=region_counts.index,\n",
        "    autopct='%1.1f%%',\n",
        "    colors=sns.color_palette('Set2'),  # Changed palette\n",
        "    startangle=140\n",
        ")\n",
        "\n",
        "# Adding title\n",
        "plt.title('Policyholders by Region', fontsize=18, fontweight='bold')\n",
        "\n",
        "# Add legend for clarity\n",
        "plt.legend(title='Region', loc='upper left', bbox_to_anchor=(1, 0, 0.5, 1))\n",
        "\n",
        "# Show Plot\n",
        "plt.tight_layout()\n",
        "plt.show()"
      ],
      "metadata": {
        "id": "WlAOpRUxk4P5"
      },
      "execution_count": null,
      "outputs": []
    },
    {
      "cell_type": "markdown",
      "source": [
        "### **Answer:**\n",
        "\n",
        "From the pie chart, we observe that the **distribution of policyholders across regions is relatively balanced**, with only slight variations. The **Southeast region holds the largest share at approximately 27.2%**, while the **Southwest, Northwest, and Northeast** each account for around **24%** of the total policyholders.\n",
        "\n",
        "This indicates that **regional population density or policy reach is not drastically uneven**, suggesting that the insurer has a **fairly consistent presence across all regions**.\n",
        "\n",
        "Given this balanced distribution, the company should focus less on the number of policyholders per region and more on the **regional differences in claim behavior**. For instance:\n",
        "- **Southeast** has both a **higher share of policyholders** *and* **higher average claims**, signaling the need for **careful risk assessment** and **possibly adjusted premiums**.\n",
        "- **Regions with lower average claims** may allow for more competitive or subsidized pricing.\n",
        "\n",
        "Thus, **policy customization based on claim patterns rather than customer volume** could help improve profitability while maintaining fairness.!"
      ],
      "metadata": {
        "id": "FvGvfdVClE3s"
      }
    },
    {
      "cell_type": "markdown",
      "source": [
        "###**Question - 4. Does the no. of dependents make a difference in the amount claimed?**"
      ],
      "metadata": {
        "id": "bamQiAODYuh1"
      }
    },
    {
      "cell_type": "code",
      "source": [
        "import pandas as pd\n",
        "import matplotlib.pyplot as plt\n",
        "import seaborn as sns\n",
        "\n",
        "# Correctly load the dataset\n",
        "df = pd.read_csv('/content/cleaned_insurance_data.csv')\n",
        "\n",
        "# Optional: check the column names\n",
        "# print(df.columns)\n",
        "\n",
        "# Make sure 'Children_Category' exists; if not, create it\n",
        "if 'Children_Category' not in df.columns:\n",
        "    def categorize_children(n):\n",
        "        if n == 0:\n",
        "            return 'No Children'\n",
        "        elif n in [1, 2]:\n",
        "            return '1-2 Children'\n",
        "        else:\n",
        "            return '3+ Children'\n",
        "\n",
        "    df['Children_Category'] = df['children'].apply(categorize_children)\n",
        "\n",
        "# Set Figure Size\n",
        "plt.figure(figsize=(16, 5))\n",
        "\n",
        "# Create Bar Plot\n",
        "sns.barplot(x='Children_Category', y='charges in INR', data=df, palette='crest')\n",
        "\n",
        "# Add title and labels\n",
        "plt.title('Average Claim Amount by Children Category', fontsize=18, fontweight='bold', color='black')\n",
        "plt.xlabel('Children Category', fontsize=12, color='#34495E')\n",
        "plt.ylabel('Average Claim Amount (INR)', fontsize=12, color='#34495E')\n",
        "\n",
        "# Annotate values on bars\n",
        "for bar in plt.gca().patches:\n",
        "    height = bar.get_height()\n",
        "    plt.text(\n",
        "        bar.get_x() + bar.get_width() / 2.,\n",
        "        height + 500,\n",
        "        f'{height:.2f}',\n",
        "        ha='center',\n",
        "        va='bottom',\n",
        "        fontsize=10,\n",
        "        fontweight='medium',\n",
        "        color='black'\n",
        "    )\n",
        "\n",
        "# Remove grid if you want a cleaner look\n",
        "plt.grid(False)\n",
        "\n",
        "# Clean layout\n",
        "plt.tight_layout()\n",
        "plt.show()\n"
      ],
      "metadata": {
        "id": "TIJwrbroYuh3"
      },
      "execution_count": null,
      "outputs": []
    },
    {
      "cell_type": "markdown",
      "source": [
        "###**Answer –**\n",
        "\n",
        "The analysis reveals a clear correlation between the number of children and the average claim amount. As the number of dependents increases, so does the financial burden on healthcare, leading to higher insurance claims.\n",
        "\n",
        "- **Policyholders with no children** have the lowest average claim amount at **₹12,365.98**, likely due to fewer family-related medical expenses.\n",
        "- Those with **1–2 children** show a noticeable rise in average claims, reaching **₹13,727.93**, reflecting moderate family healthcare needs.\n",
        "- Policyholders with **3 or more children** claim the highest on average at **₹14,576.00**, indicating that larger families incur significantly higher medical costs.\n",
        "\n",
        "This trend suggests that insurance providers may consider family size when designing personalized premium structures, as household size has a direct influence on healthcare expenditures and claim behavior."
      ],
      "metadata": {
        "id": "QHF8YVU7Yuh3"
      }
    },
    {
      "cell_type": "markdown",
      "source": [
        "###**Question - 5. Does a study of persons BMI get the company any idea for the insurance claim that it would extend?**"
      ],
      "metadata": {
        "id": "OH-pJp9IphqM"
      }
    },
    {
      "cell_type": "code",
      "source": [
        "# Set aesthetic theme\n",
        "sns.set(style=\"whitegrid\")\n",
        "\n",
        "# Set figure size\n",
        "plt.figure(figsize=(14, 6))\n",
        "\n",
        "# Scatter plot with a hue based on BMI groups (optional if 'BMI_Group' exists)\n",
        "# Otherwise, using a color gradient based on 'bmi'\n",
        "scatter = sns.scatterplot(\n",
        "    x='bmi',\n",
        "    y='charges in INR',\n",
        "    data=df,\n",
        "    palette='flare',   # You can try 'coolwarm', 'rocket', 'Spectral' for variation\n",
        "    hue='bmi',         # Adds a color gradient based on BMI value\n",
        "    size=5,\n",
        "    alpha=0.7,\n",
        "    edgecolor='w',\n",
        "    legend=False\n",
        ")\n",
        "\n",
        "# Title and labels\n",
        "plt.title('BMI vs. Claim Amount', fontsize=18, fontweight='bold', color='black')\n",
        "plt.xlabel('Body Mass Index (BMI)', fontsize=12, color='#34495E')\n",
        "plt.ylabel('Claim Amount (INR)', fontsize=12, color='#34495E')\n",
        "\n",
        "# Grid and layout\n",
        "plt.grid(True, which='both', linestyle='--', linewidth=0.5, alpha=0.5)\n",
        "plt.tight_layout()\n",
        "\n",
        "# Show plot\n",
        "plt.show()\n"
      ],
      "metadata": {
        "id": "kuRf4wtuphqN"
      },
      "execution_count": null,
      "outputs": []
    },
    {
      "cell_type": "markdown",
      "source": [
        "###**Answer –**\n",
        "\n",
        "The scatter plot analysis of **BMI vs. Claim Amount** reveals a noticeable trend: as BMI increases, particularly beyond **30 (classified as obese)**, the **insurance claim amounts also tend to rise**. While there's some variability, the upper range of BMI consistently aligns with **higher claim values**.\n",
        "\n",
        "This correlation suggests that individuals with elevated BMI may be at greater risk of health issues, leading to more frequent or costlier medical interventions. For insurers, this highlights BMI as a **valuable risk indicator**. Incorporating BMI into **risk assessment models or premium calculations** could help better align policy pricing with expected healthcare costs."
      ],
      "metadata": {
        "id": "bbFf2-_FphqN"
      }
    },
    {
      "cell_type": "markdown",
      "source": [
        "### **Question - 6. Is it needed for the company to understand whether the person covered is a smoker or a non-smoker?**"
      ],
      "metadata": {
        "id": "PIIx-8_IphqN"
      }
    },
    {
      "cell_type": "code",
      "source": [
        "# Set aesthetic style\n",
        "sns.set(style=\"whitegrid\")\n",
        "\n",
        "# Set Figure Size\n",
        "plt.figure(figsize=(14, 5))\n",
        "\n",
        "# Create Bar Plot with updated palette and edge color\n",
        "sns.barplot(\n",
        "    x='smoker',\n",
        "    y='charges in INR',\n",
        "    data=df,\n",
        "    palette='Set2',\n",
        "    edgecolor='black'\n",
        ")\n",
        "\n",
        "# Add labels and title with enhanced styling\n",
        "plt.title('Average Claim Amount by Smoker Status', fontsize=18, fontweight='bold', color='#2C3E50')\n",
        "plt.xlabel('Smoker Status', fontsize=12, color='#34495E')\n",
        "plt.ylabel('Average Claim Amount (INR)', fontsize=12, color='#34495E')\n",
        "\n",
        "# Displaying values on top of bars\n",
        "for bar in plt.gca().patches:\n",
        "    height = bar.get_height()\n",
        "    plt.text(\n",
        "        bar.get_x() + bar.get_width() / 2,\n",
        "        height + 500,\n",
        "        f'{height:.2f}',\n",
        "        ha='center',\n",
        "        va='bottom',\n",
        "        fontsize=10,\n",
        "        fontweight='semibold'\n",
        "    )\n",
        "\n",
        "# Remove grid lines for a cleaner look or comment this out to keep them\n",
        "plt.grid(False)\n",
        "\n",
        "# Tight layout for neatness\n",
        "plt.tight_layout()\n",
        "\n",
        "# Show plot\n",
        "plt.show()\n"
      ],
      "metadata": {
        "id": "lqAIGUfyphqO"
      },
      "execution_count": null,
      "outputs": []
    },
    {
      "cell_type": "markdown",
      "source": [
        "###**Answer –**\n",
        "\n",
        "The comparison between smokers and non-smokers clearly highlights a **substantial disparity in average claim amounts**. Smokers incur **over ₹32,000** on average, whereas non-smokers average just **above ₹8,000** in claims.\n",
        "\n",
        "This sharp contrast signals that **smoker status is a major risk factor**, likely due to increased susceptibility to chronic illnesses and lifestyle-related conditions. For the insurance company, this insight is critical—it justifies implementing **higher premiums or tailored policy terms** for smokers to balance the elevated risk and potential healthcare costs they bring. Incorporating this factor ensures **fair pricing and sustainable risk management**."
      ],
      "metadata": {
        "id": "t27r6nlMphqO"
      }
    },
    {
      "cell_type": "markdown",
      "source": [
        "### **Question - 7. Does age have any barrier on the insurance claimed?**"
      ],
      "metadata": {
        "id": "BZR9WyysphqO"
      }
    },
    {
      "cell_type": "code",
      "source": [
        "# Set Seaborn style\n",
        "sns.set(style=\"whitegrid\")\n",
        "\n",
        "# Set Figure Size\n",
        "plt.figure(figsize=(14, 6))\n",
        "\n",
        "# Create Scatter Plot with enhanced styling\n",
        "sns.scatterplot(\n",
        "    x='age',\n",
        "    y='charges in INR',\n",
        "    data=df,\n",
        "    color='#1f77b4',  # Modern blue tone\n",
        "    s=90,             # Slightly larger markers\n",
        "    edgecolor='black',\n",
        "    linewidth=0.5,\n",
        "    alpha=0.8         # Transparency for overlapping points\n",
        ")\n",
        "\n",
        "# Add titles and axis labels\n",
        "plt.title('Age vs. Claim Amount', fontsize=18, fontweight='bold', color='#2C3E50')\n",
        "plt.xlabel('Age (Years)', fontsize=12, color='#34495E')\n",
        "plt.ylabel('Claim Amount (INR)', fontsize=12, color='#34495E')\n",
        "\n",
        "# Tweak tick parameters\n",
        "plt.xticks(fontsize=10)\n",
        "plt.yticks(fontsize=10)\n",
        "\n",
        "# Optional: Remove gridlines for cleaner look\n",
        "plt.grid(False)\n",
        "\n",
        "# Adjust layout\n",
        "plt.tight_layout()\n",
        "\n",
        "# Show Plot\n",
        "plt.show()\n"
      ],
      "metadata": {
        "id": "TdPTWpAVphqO"
      },
      "execution_count": null,
      "outputs": []
    },
    {
      "cell_type": "markdown",
      "source": [
        "**Answer –**\n",
        "\n",
        "Yes, **age significantly influences the insurance claim amount**.\n",
        "\n",
        "The scatter plot reveals a **positive correlation between age and claim values**—as individuals grow older, their average claim amounts tend to increase. This trend reflects **higher medical needs and expenses associated with aging**, such as chronic illness management, hospitalization, and age-related conditions.\n",
        "\n",
        "For the insurance company, this insight is crucial for **risk-based pricing**. Implementing **age-tiered premium structures** ensures that the coverage aligns with the projected healthcare needs, maintaining **both fairness for policyholders and financial sustainability for the insurer**."
      ],
      "metadata": {
        "id": "jj7wYXLtphqO"
      }
    },
    {
      "cell_type": "markdown",
      "source": [
        "### **Question - 8. Can the company extend certain discounts after checking the health status (BMI) in this case?**"
      ],
      "metadata": {
        "id": "YJ55k-q6phqO"
      }
    },
    {
      "cell_type": "code",
      "source": [
        "import matplotlib.pyplot as plt\n",
        "import seaborn as sns\n",
        "\n",
        "# Set a style\n",
        "sns.set_style(\"whitegrid\")\n",
        "\n",
        "# Set figure size\n",
        "plt.figure(figsize=(14, 5))\n",
        "\n",
        "# Bar plot with a vibrant color palette\n",
        "custom_palette = sns.color_palette(\"Set2\")\n",
        "barplot = sns.barplot(\n",
        "    x='BMI_Group',\n",
        "    y='charges in INR',\n",
        "    data=df,\n",
        "    palette=custom_palette,\n",
        "    estimator='mean'  # Ensure it plots average\n",
        ")\n",
        "\n",
        "# Title and labels with custom font styling\n",
        "plt.title('Average Claim Amount by BMI Category', fontsize=18, fontweight='bold', color='#333333')\n",
        "plt.xlabel('BMI Category', fontsize=13, fontweight='bold', color='#555555')\n",
        "plt.ylabel('Average Claim Amount (INR)', fontsize=13, fontweight='bold', color='#555555')\n",
        "\n",
        "# Displaying data labels with better alignment\n",
        "for p in barplot.patches:\n",
        "    barplot.annotate(f'{p.get_height():,.2f}',\n",
        "                     (p.get_x() + p.get_width() / 2., p.get_height()),\n",
        "                     ha='center', va='bottom',\n",
        "                     fontsize=10, color='black', fontweight='medium')\n",
        "\n",
        "# Gridlines only on y-axis for cleaner look\n",
        "plt.grid(axis='y', linestyle='--', alpha=0.6)\n",
        "\n",
        "# Remove top and right spines for a cleaner look\n",
        "sns.despine()\n",
        "\n",
        "# Final layout and display\n",
        "plt.tight_layout()\n",
        "plt.show()\n"
      ],
      "metadata": {
        "id": "B2aS4O1ophqO"
      },
      "execution_count": null,
      "outputs": []
    },
    {
      "cell_type": "markdown",
      "source": [
        "###**Answer:**\n",
        "\n",
        "Yes, the company can strategically offer discounts based on BMI categories to encourage healthier lifestyles and manage claim-related expenses.\n",
        "\n",
        "From the data analysis:\n",
        "\n",
        "- **Obese individuals** have the **highest average claim amount (₹15,552.34)**. This suggests they are at a higher risk of health issues, leading to increased medical costs and insurance claims.\n",
        "- **Underweight individuals** show the **lowest average claim amount (₹8,852.20)**, indicating fewer medical expenses.\n",
        "- **Normal-weight individuals** also have relatively lower claim amounts compared to the obese category.\n",
        "\n",
        "**Implications for policy design:**\n",
        "\n",
        "- The company could offer **premium discounts** or **wellness incentives** to policyholders in the **underweight and normal BMI groups**, encouraging healthy habits and lowering risk.\n",
        "- On the other hand, **obese policyholders** may be considered a higher risk group and could be subject to **higher premiums** or required to enroll in wellness programs to improve their health status.\n",
        "\n",
        "This segmentation not only promotes **preventive healthcare** but also helps the insurer **reduce long-term claim liabilities** while rewarding customers who maintain a healthier lifestyle."
      ],
      "metadata": {
        "id": "gCFgpxoyphqP"
      }
    },
    {
      "cell_type": "markdown",
      "source": [
        "####**Correlation Heatmap**"
      ],
      "metadata": {
        "id": "NC_X3p0fY2L0"
      }
    },
    {
      "cell_type": "code",
      "source": [
        "# Set seaborn style\n",
        "sns.set(style='white')\n",
        "\n",
        "# Set figure size\n",
        "plt.figure(figsize=((20, 10))\n",
        "\n",
        "# Create the heatmap with a diverging color palette\n",
        "heatmap = sns.heatmap(\n",
        "    df.corr(numeric_only=True),\n",
        "    annot=True,\n",
        "    fmt='.2f',\n",
        "    cmap='coolwarm',         # You can also try 'viridis', 'magma', 'Spectral'\n",
        "    linewidths=0.5,\n",
        "    linecolor='gray',\n",
        "    cbar_kws={\"shrink\": 0.75, \"label\": \"Correlation Coefficient\"},\n",
        "    square=True,\n",
        "    annot_kws={\"size\": 10, \"color\": \"black\", \"weight\": \"bold\"}\n",
        ")\n",
        "\n",
        "# Title with custom styling\n",
        "plt.title('Correlation Heatmap', fontsize=18, fontweight='bold', color='#333333')\n",
        "\n",
        "# Rotate axis labels for better readability\n",
        "plt.xticks(rotation=45, ha='right', fontsize=10)\n",
        "plt.yticks(rotation=0, fontsize=10)\n",
        "\n",
        "# Clean up spines for a sleek look\n",
        "sns.despine(left=True, bottom=True)\n",
        "\n",
        "# Adjust layout\n",
        "plt.tight_layout()\n",
        "plt.show()\n"
      ],
      "metadata": {
        "id": "xyC9zolEZNRQ"
      },
      "execution_count": null,
      "outputs": []
    },
    {
      "cell_type": "markdown",
      "source": [
        "### **Insights from the Correlation Heatmap**\n",
        "\n",
        "#### 🔹 **Strong Positive Correlations**\n",
        "\n",
        "- **Charges in INR & Claim_per_BMI (0.96):**  \n",
        "  There is a very strong positive correlation between total claim amount and claim per BMI. This indicates that as the overall charges increase, the claim relative to BMI also rises significantly, highlighting a direct dependency.\n",
        "\n",
        "- **Smoker Flag & Charges in INR (0.79):**  \n",
        "  Smokers tend to incur significantly higher medical expenses, confirming that smoking is a major contributor to increased insurance claim costs.\n",
        "\n",
        "- **Smoker Flag & Claim_per_BMI (0.81):**  \n",
        "  The correlation shows that smokers also have a higher claim per BMI, suggesting that smoking not only affects overall charges but amplifies risk relative to body composition.\n",
        "\n",
        "#### 🔸 **Moderate Positive Correlations**\n",
        "\n",
        "- **Age & Charges in INR (0.30):**  \n",
        "  Older individuals generally have higher claim amounts, reflecting the increased likelihood of health issues with age.\n",
        "\n",
        "- **Age & Claim_per_BMI (0.31):**  \n",
        "  A similar trend is observed with claim per BMI, reinforcing the idea that age contributes to elevated claim ratios, particularly when BMI is factored in.\n",
        "\n",
        "#### ⚪ **Weak or Negligible Correlations**\n",
        "\n",
        "- **BMI & Charges in INR (0.20):**  \n",
        "  Although BMI is often linked to health risks, the relatively low correlation suggests that BMI alone is not a strong standalone predictor of claim amounts.\n",
        "\n",
        "- **Children & Charges in INR (0.07):**  \n",
        "  The number of children has minimal impact on claim costs, indicating that dependents do not significantly influence the policyholder's medical expenses."
      ],
      "metadata": {
        "id": "UV0SzAkaZNRQ"
      }
    },
    {
      "cell_type": "markdown",
      "source": [
        "## **5. Solution to Business Objective**"
      ],
      "metadata": {
        "id": "JcMwzZxoAimU"
      }
    },
    {
      "cell_type": "markdown",
      "source": [
        "#### What do you suggest the client to achieve Business Objective ?\n",
        "Explain Briefly."
      ],
      "metadata": {
        "id": "8G2x9gOozGDZ"
      }
    },
    {
      "cell_type": "markdown",
      "source": [
        "### **Strategic Recommendations for Achieving Business Objectives**\n",
        "\n",
        "#### 1. **Risk-Based Premium Structuring**\n",
        "Implement a dynamic premium model that adjusts based on risk factors. Specifically:\n",
        "- **Higher premiums** for individuals who smoke or fall into the obese BMI category, as data shows they are associated with significantly higher claim amounts.\n",
        "- This pricing model can help offset higher healthcare costs while encouraging at-risk policyholders to adopt healthier lifestyles.\n",
        "\n",
        "#### 2. **Wellness Rewards for Healthier Policyholders**\n",
        "Introduce **discounts and incentives** for individuals with a normal or underweight BMI, who statistically pose lower health risks.\n",
        "- Offering **lower premiums or cashback benefits** to this group not only promotes healthier living but can also reduce overall claim volume in the long run.\n",
        "\n",
        "#### 3. **Region-Sensitive Policy Design**\n",
        "Geographical analysis reveals that policyholders from the **southeast region incur the highest average claims**.\n",
        "- Develop **location-specific pricing** or create **customized policy packages** that align with the healthcare cost trends of each region.\n",
        "- This can enhance fairness and improve profitability across different markets.\n",
        "\n",
        "#### 4. **Tailored Family Insurance Plans**\n",
        "Data indicates that claim amounts increase with the number of dependents.\n",
        "- Launch **family-centric insurance plans** that offer flexible benefits, dependent coverage options, and bundled pricing.\n",
        "- These plans can attract customers seeking comprehensive family protection while allowing better management of risk exposure.\n",
        "\n",
        "#### 5. **Age-Specific Policy Segmentation**\n",
        "Since older policyholders are more likely to make higher claims, it's crucial to:\n",
        "- Design **age-specific insurance products** with benefits tailored to different life stages (e.g., preventive care for younger groups, chronic disease management for seniors).\n",
        "- This segmentation allows for better customer satisfaction and more accurate pricing.\n",
        "\n",
        "#### 6. **Preventive Health Incentives**\n",
        "Promote wellness and reduce future claims by offering:\n",
        "- **Incentives for regular health check-ups**, gym memberships, fitness milestones, or wellness program participation.\n",
        "- These initiatives can lower the risk profile of insured individuals while fostering long-term customer engagement and loyalty."
      ],
      "metadata": {
        "id": "pASKb0qOza21"
      }
    },
    {
      "cell_type": "markdown",
      "source": [
        "# **Conclusion**"
      ],
      "metadata": {
        "id": "gCX9965dhzqZ"
      }
    },
    {
      "cell_type": "markdown",
      "source": [
        "The analysis highlights several key factors that significantly impact insurance claim amounts. Among these, smoker status and BMI category emerge as the most influential. Smokers and individuals classified as obese consistently exhibit higher claim amounts, underscoring the direct relationship between unhealthy lifestyle choices and increased healthcare costs.\n",
        "\n",
        "Geographical location also proves to be a crucial variable, with the southeast region recording the highest average claims. This could be attributed to regional disparities in healthcare access, lifestyle patterns, or local health risks. Furthermore, age and family size (number of dependents) have a clear positive correlation with claim amounts—older policyholders and those with more dependents tend to submit higher claims, likely due to more frequent or complex medical needs.\n",
        "\n",
        "To capitalize on these insights and enhance business performance, the company should consider adopting a risk-adjusted pricing strategy. By charging higher premiums to higher-risk groups (such as smokers and individuals with high BMI), while offering incentives or discounts to healthier individuals, the insurer can encourage positive behavior change and reduce the overall claims burden.\n",
        "\n",
        "Additionally, implementing region-specific policies would allow the company to better align premiums and coverage options with the unique healthcare cost dynamics of different areas. Customized insurance plans based on age brackets and family composition can further increase customer satisfaction and retention by offering more relevant and affordable options.\n",
        "\n",
        "Overall, by personalizing insurance offerings based on demographic and health profiles, the company stands to not only improve profitability but also strengthen customer engagement, manage risks more effectively, and contribute to better public health outcomes through incentivized wellness."
      ],
      "metadata": {
        "id": "Fjb1IsQkh3yE"
      }
    },
    {
      "cell_type": "markdown",
      "source": [
        "### ***Hurrah! You have successfully completed your EDA Capstone Project !!!***"
      ],
      "metadata": {
        "id": "gIfDvo9L0UH2"
      }
    }
  ]
}