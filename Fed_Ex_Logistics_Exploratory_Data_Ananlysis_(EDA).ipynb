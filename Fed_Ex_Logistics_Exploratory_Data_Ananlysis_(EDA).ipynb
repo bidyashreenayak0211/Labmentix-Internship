{
  "nbformat": 4,
  "nbformat_minor": 0,
  "metadata": {
    "colab": {
      "private_outputs": true,
      "provenance": [],
      "collapsed_sections": [
        "vncDsAP0Gaoa",
        "FJNUwmbgGyua",
        "w6K7xa23Elo4",
        "yQaldy8SH6Dl",
        "PH-0ReGfmX4f",
        "mDgbUHAGgjLW",
        "O_i_v8NEhb9l",
        "HhfV-JJviCcP",
        "Y3lxredqlCYt",
        "3RnN4peoiCZX",
        "x71ZqKXriCWQ",
        "7hBIi_osiCS2",
        "JlHwYmJAmNHm",
        "35m5QtbWiB9F",
        "PoPl-ycgm1ru",
        "H0kj-8xxnORC",
        "nA9Y7ga8ng1Z",
        "PBTbrJXOngz2",
        "u3PMJOP6ngxN",
        "dauF4eBmngu3",
        "bKJF3rekwFvQ",
        "MSa1f5Uengrz",
        "GF8Ens_Soomf",
        "0wOQAZs5pc--",
        "K5QZ13OEpz2H",
        "lQ7QKXXCp7Bj",
        "448CDAPjqfQr",
        "KSlN3yHqYklG",
        "t6dVpIINYklI",
        "ijmpgYnKYklI",
        "-JiQyfWJYklI",
        "EM7whBJCYoAo",
        "fge-S5ZAYoAp",
        "85gYPyotYoAp",
        "RoGjAbkUYoAp",
        "4Of9eVA-YrdM",
        "iky9q4vBYrdO",
        "F6T5p64dYrdO",
        "y-Ehk30pYrdP",
        "bamQiAODYuh1",
        "QHF8YVU7Yuh3",
        "GwzvFGzlYuh3",
        "qYpmQ266Yuh3",
        "OH-pJp9IphqM",
        "bbFf2-_FphqN",
        "_ouA3fa0phqN",
        "Seke61FWphqN",
        "PIIx-8_IphqN",
        "t27r6nlMphqO",
        "r2jJGEOYphqO",
        "b0JNsNcRphqO",
        "BZR9WyysphqO",
        "jj7wYXLtphqO",
        "eZrbJ2SmphqO",
        "rFu4xreNphqO",
        "YJ55k-q6phqO",
        "gCFgpxoyphqP",
        "OVtJsKN_phqQ",
        "lssrdh5qphqQ",
        "U2RJ9gkRphqQ",
        "1M8mcRywphqQ",
        "tgIPom80phqQ",
        "JMzcOPDDphqR",
        "x-EpHcCOp1ci",
        "X_VqEhTip1ck",
        "8zGJKyg5p1ck",
        "PVzmfK_Ep1ck",
        "n3dbpmDWp1ck",
        "ylSl6qgtp1ck",
        "ZWILFDl5p1ck",
        "M7G43BXep1ck",
        "Ag9LCva-p1cl",
        "E6MkPsBcp1cl",
        "2cELzS2fp1cl",
        "3MPXvC8up1cl",
        "NC_X3p0fY2L0",
        "UV0SzAkaZNRQ",
        "YPEH6qLeZNRQ",
        "q29F0dvdveiT",
        "EXh0U9oCveiU",
        "22aHeOlLveiV",
        "JcMwzZxoAimU",
        "8G2x9gOozGDZ",
        "gCX9965dhzqZ",
        "gIfDvo9L0UH2"
      ],
      "include_colab_link": true
    },
    "kernelspec": {
      "name": "python3",
      "display_name": "Python 3"
    },
    "language_info": {
      "name": "python"
    }
  },
  "cells": [
    {
      "cell_type": "markdown",
      "metadata": {
        "id": "view-in-github",
        "colab_type": "text"
      },
      "source": [
        "<a href=\"https://colab.research.google.com/github/bidyashreenayak0211/Labmentix-Internship/blob/main/Fed_Ex_Logistics_Exploratory_Data_Ananlysis_(EDA).ipynb\" target=\"_parent\"><img src=\"https://colab.research.google.com/assets/colab-badge.svg\" alt=\"Open In Colab\"/></a>"
      ]
    },
    {
      "cell_type": "markdown",
      "source": [
        "# **Project Name**    - **Fed-Ex Logistics Exploratory Data Ananlysis (EDA)**\n",
        "\n"
      ],
      "metadata": {
        "id": "vncDsAP0Gaoa"
      }
    },
    {
      "cell_type": "markdown",
      "source": [
        "##### **Project Type**    - EDA\n",
        "##### **Contribution**    - Individual\n",
        "##### **Name -** Bidyashree Nayak"
      ],
      "metadata": {
        "id": "beRrZCGUAJYm"
      }
    },
    {
      "cell_type": "markdown",
      "source": [
        "# **Project Summary -**"
      ],
      "metadata": {
        "id": "FJNUwmbgGyua"
      }
    },
    {
      "cell_type": "markdown",
      "source": [
        "The logistics industry plays a crucial role in enabling global trade and e-commerce, with companies like FedEx at the forefront of this transformation. This project explores the delivery performance and operational efficiency of FedEx by analyzing its shipment history and service capabilities through the lens of data analytics. The primary focus is on improving delivery outcomes and identifying patterns that impact service quality and customer satisfaction.\n",
        "\n",
        "Using a dataset titled “SCMS Delivery History,” which provides a comprehensive record of shipments—containing information on purchase orders, delivery status, planned versus actual delivery dates, item quantities, and consignee locations—this project seeks to uncover operational bottlenecks and identify strategies to optimize delivery operations. The data has been examined to detect delivery delays, early arrivals, incomplete shipments, and overall compliance with expected timelines.\n",
        "\n",
        "The motivation for selecting FedEx stems from its reputation as a global logistics leader, its massive scale of operations, and the pivotal role it plays in the modern supply chain. Despite being a benchmark in the industry, even top-tier companies face challenges in last-mile delivery, real-time tracking, and maintaining delivery accuracy in the face of fluctuating demand and global disruptions.\n",
        "\n",
        "This project uses exploratory data analysis (EDA), statistical evaluation, and visualization techniques to provide insights into performance metrics. Special attention has been given to trends such as the percentage of delayed deliveries, reasons behind delays, and shipment completion rates. Furthermore, the analysis reveals regional patterns, highlighting whether certain locations consistently experience delivery challenges.\n",
        "\n",
        "Additionally, by examining factors such as actual vs. planned delivery dates and the correlation with consignee regions or PO items, the project offers actionable insights to reduce delays and improve customer service. This data-driven approach helps in establishing a predictive model foundation, where FedEx could anticipate problem areas and act proactively.\n",
        "\n",
        "Through this analysis, FedEx’s operational strengths and weaknesses become evident, making it easier to align logistics strategies with customer expectations. The recommendations from the study could help FedEx better manage its supply chain, improve delivery reliability, and enhance overall satisfaction for both B2B and B2C clients.\n",
        "\n",
        "In conclusion, the project is a deep dive into FedEx’s logistics performance using real-world delivery data. The findings from this study are not only beneficial for FedEx but also provide a replicable model for other logistics companies seeking to improve their service levels using data science."
      ],
      "metadata": {
        "id": "F6v_1wHtG2nS"
      }
    },
    {
      "cell_type": "markdown",
      "source": [
        "# **GitHub Link -**"
      ],
      "metadata": {
        "id": "w6K7xa23Elo4"
      }
    },
    {
      "cell_type": "markdown",
      "source": [
        "https://github.com/bidyashreenayak0211/Labmentix-Internship/blob/main/Fed_Ex_Logistics_Exploratory_Data_Ananlysis_(EDA).ipynb"
      ],
      "metadata": {
        "id": "h1o69JH3Eqqn"
      }
    },
    {
      "cell_type": "markdown",
      "source": [
        "# **Problem Statement**\n"
      ],
      "metadata": {
        "id": "yQaldy8SH6Dl"
      }
    },
    {
      "cell_type": "markdown",
      "source": [
        "Despite FedEx’s longstanding reputation for reliability, extensive global network, and robust logistics infrastructure, the company continues to encounter significant challenges in ensuring consistent and timely delivery of shipments. These challenges manifest in several ways: frequent variances between planned and actual delivery dates, incomplete deliveries, and inconsistent service quality across different geographic locations. Such discrepancies not only hinder operational efficiency but also erode customer trust and satisfaction—critical components of success in the highly competitive logistics industry.\n",
        "\n",
        "One of the most pressing issues contributing to these challenges is a lack of end-to-end visibility and predictability in delivery performance. With an increasingly complex supply chain landscape—driven by e-commerce growth, fluctuating demand patterns, and rising customer expectations—FedEx struggles to maintain seamless coordination between its upstream and downstream logistics operations. Volume surges during peak seasons and holidays further strain its resources and capacity, while last-mile delivery, often the most unpredictable and costly segment, remains a major bottleneck due to traffic congestion, delivery density variations, and address accessibility issues.\n",
        "\n",
        "This absence of real-time, actionable insights makes it difficult for FedEx to proactively identify delays, anticipate delivery failures, or dynamically adjust operations to meet service-level agreements. Consequently, the company faces higher operating costs, increased risk of missed deadlines, and diminished competitive advantage."
      ],
      "metadata": {
        "id": "DpeJGUA3kjGy"
      }
    },
    {
      "cell_type": "markdown",
      "source": [
        "#### **Define Your Business Objective?**"
      ],
      "metadata": {
        "id": "PH-0ReGfmX4f"
      }
    },
    {
      "cell_type": "markdown",
      "source": [
        "#### 1. **Identify and Quantify Delivery Delays**\n",
        "The first objective focuses on uncovering the frequency, duration, and severity of delivery delays across the FedEx network. By comparing scheduled delivery dates with actual delivery timestamps, the project will quantify how often and by how much deliveries are delayed. This analysis will provide key performance indicators (KPIs) such as average delay time, delay frequency by service type, and standard deviation in delivery performance. The results will help pinpoint operational inefficiencies, enabling the company to address systemic issues such as route bottlenecks, inadequate staffing, or misaligned hub-and-spoke schedules.\n",
        "\n",
        "#### 2. **Improve Shipment Completion Rates**\n",
        "A high rate of incomplete deliveries—such as packages returned to sender, failed drop-offs, or partial shipments—indicates process gaps or logistical challenges. This objective aims to examine the root causes of these failures. By analyzing factors like incorrect addresses, consignee unavailability, weather disruptions, or inventory inaccuracies, FedEx can develop targeted solutions to improve completion rates. Enhanced shipment fulfillment not only reduces operational costs and resource waste but also builds customer trust and reliability.\n",
        "\n",
        "#### 3. **Evaluate Regional Performance**\n",
        "Delivery performance often varies by region due to infrastructure differences, weather conditions, population density, and resource availability. This objective seeks to perform a geographic analysis to identify patterns of underperformance or regional inconsistencies. Through visual analytics such as heatmaps and geo-clustering, FedEx can isolate areas where service issues are most prevalent. Understanding these patterns allows for location-specific improvements, such as fleet reallocation, staff training, or route optimization tailored to regional characteristics.\n",
        "\n",
        "#### 4. **Optimize Delivery Timelines**\n",
        "By analyzing the discrepancies between planned and actual delivery times, the project aims to uncover inefficiencies in route planning, hub operations, or driver scheduling. The goal is to identify where and why delays occur within the delivery lifecycle—from dispatch to last-mile drop-off. Insights gained will support the redesign of delivery timelines, enhance predictability, and minimize the gap between promise and performance. This optimization contributes directly to meeting service-level agreements (SLAs) and elevating operational precision.\n",
        "\n",
        "#### 5. **Support Data-Driven Decision-Making**\n",
        "FedEx operates in a fast-paced, data-intensive environment. This objective emphasizes the use of advanced analytics and reporting tools to provide stakeholders with actionable insights. By leveraging historical data, predictive modeling, and performance dashboards, decision-makers can prioritize investments, reallocate resources, and develop forward-looking strategies. This empowers leadership to make informed, strategic decisions rooted in quantitative evidence rather than intuition alone.\n",
        "\n",
        "#### 6. **Enhance Customer Satisfaction**\n",
        "At the core of FedEx’s success is its commitment to customer satisfaction. Delays, incomplete deliveries, and inconsistent service directly affect customer experience and loyalty. This objective aligns operational performance improvements with customer-centric outcomes. By ensuring shipments arrive on time and in full, FedEx can enhance reliability, reduce customer complaints, and boost retention. Ultimately, improved delivery performance leads to stronger brand reputation and a competitive edge in the logistics market."
      ],
      "metadata": {
        "id": "PhDvGCAqmjP1"
      }
    },
    {
      "cell_type": "markdown",
      "source": [
        "# **General Guidelines** : -  "
      ],
      "metadata": {
        "id": "mDgbUHAGgjLW"
      }
    },
    {
      "cell_type": "markdown",
      "source": [
        "1.   Well-structured, formatted, and commented code is required.\n",
        "2.   Exception Handling, Production Grade Code & Deployment Ready Code will be a plus. Those students will be awarded some additional credits.\n",
        "     \n",
        "     The additional credits will have advantages over other students during Star Student selection.\n",
        "       \n",
        "             [ Note: - Deployment Ready Code is defined as, the whole .ipynb notebook should be executable in one go\n",
        "                       without a single error logged. ]\n",
        "\n",
        "3.   Each and every logic should have proper comments.\n",
        "4. You may add as many number of charts you want. Make Sure for each and every chart the following format should be answered.\n",
        "        \n",
        "\n",
        "```\n",
        "# Chart visualization code\n",
        "```\n",
        "            \n",
        "\n",
        "*   Why did you pick the specific chart?\n",
        "*   What is/are the insight(s) found from the chart?\n",
        "* Will the gained insights help creating a positive business impact?\n",
        "Are there any insights that lead to negative growth? Justify with specific reason.\n",
        "\n",
        "5. You have to create at least 20 logical & meaningful charts having important insights.\n",
        "\n",
        "\n",
        "[ Hints : - Do the Vizualization in  a structured way while following \"UBM\" Rule.\n",
        "\n",
        "U - Univariate Analysis,\n",
        "\n",
        "B - Bivariate Analysis (Numerical - Categorical, Numerical - Numerical, Categorical - Categorical)\n",
        "\n",
        "M - Multivariate Analysis\n",
        " ]\n",
        "\n",
        "\n",
        "\n"
      ],
      "metadata": {
        "id": "ZrxVaUj-hHfC"
      }
    },
    {
      "cell_type": "markdown",
      "source": [
        "# ***Let's Begin !***"
      ],
      "metadata": {
        "id": "O_i_v8NEhb9l"
      }
    },
    {
      "cell_type": "markdown",
      "source": [
        "## ***1. Know Your Data***"
      ],
      "metadata": {
        "id": "HhfV-JJviCcP"
      }
    },
    {
      "cell_type": "markdown",
      "source": [
        "### Import Libraries"
      ],
      "metadata": {
        "id": "Y3lxredqlCYt"
      }
    },
    {
      "cell_type": "code",
      "source": [
        "# Import Libraries\n",
        "import pandas as pd\n",
        "import numpy as np\n",
        "import matplotlib.pyplot as plt\n",
        "import seaborn as sns"
      ],
      "metadata": {
        "id": "M8Vqi-pPk-HR"
      },
      "execution_count": null,
      "outputs": []
    },
    {
      "cell_type": "markdown",
      "source": [
        "### Dataset Loading"
      ],
      "metadata": {
        "id": "3RnN4peoiCZX"
      }
    },
    {
      "cell_type": "code",
      "source": [
        "# Load Dataset\n",
        "df = pd.read_csv('/content/SCMS_Delivery_History_Dataset.csv')"
      ],
      "metadata": {
        "id": "4CkvbW_SlZ_R"
      },
      "execution_count": null,
      "outputs": []
    },
    {
      "cell_type": "markdown",
      "source": [
        "### Dataset First View"
      ],
      "metadata": {
        "id": "x71ZqKXriCWQ"
      }
    },
    {
      "cell_type": "code",
      "source": [
        "# Dataset First Look\n",
        "df.head()"
      ],
      "metadata": {
        "id": "LWNFOSvLl09H"
      },
      "execution_count": null,
      "outputs": []
    },
    {
      "cell_type": "markdown",
      "source": [
        "### Dataset Rows & Columns count"
      ],
      "metadata": {
        "id": "7hBIi_osiCS2"
      }
    },
    {
      "cell_type": "code",
      "source": [
        "# Dataset Rows & Columns count\n",
        "rows, columns = df.shape\n",
        "\n",
        "print(f\"Number of rows: {rows}\")\n",
        "print(f\"Number of columns: {columns}\")"
      ],
      "metadata": {
        "id": "Kllu7SJgmLij"
      },
      "execution_count": null,
      "outputs": []
    },
    {
      "cell_type": "markdown",
      "source": [
        "### Dataset Information"
      ],
      "metadata": {
        "id": "JlHwYmJAmNHm"
      }
    },
    {
      "cell_type": "code",
      "source": [
        "# Dataset Info\n",
        "df.info()"
      ],
      "metadata": {
        "id": "e9hRXRi6meOf"
      },
      "execution_count": null,
      "outputs": []
    },
    {
      "cell_type": "markdown",
      "source": [
        "#### Duplicate Values"
      ],
      "metadata": {
        "id": "35m5QtbWiB9F"
      }
    },
    {
      "cell_type": "code",
      "source": [
        "# Dataset Duplicate Value Count\n",
        "duplicate_rows = df.duplicated()\n",
        "duplicate_count = duplicate_rows.sum()\n",
        "\n",
        "print(f\"Number of duplicate rows: {duplicate_count}\")"
      ],
      "metadata": {
        "id": "1sLdpKYkmox0"
      },
      "execution_count": null,
      "outputs": []
    },
    {
      "cell_type": "markdown",
      "source": [
        "#### Missing Values/Null Values"
      ],
      "metadata": {
        "id": "PoPl-ycgm1ru"
      }
    },
    {
      "cell_type": "code",
      "source": [
        "# Missing Values/Null Values Count\n",
        "missing_values = df.isnull().sum()\n",
        "\n",
        "print(\"Missing Values:\")\n",
        "print(missing_values)"
      ],
      "metadata": {
        "id": "GgHWkxvamxVg"
      },
      "execution_count": null,
      "outputs": []
    },
    {
      "cell_type": "code",
      "source": [
        "# Visualizing the missing values\n",
        "plt.figure(figsize=(10, 6))\n",
        "sns.heatmap(df.isnull(), cmap='coolwarm', cbar=False)\n",
        "plt.title('Missing Values Heatmap')\n",
        "plt.show()"
      ],
      "metadata": {
        "id": "3q5wnI3om9sJ"
      },
      "execution_count": null,
      "outputs": []
    },
    {
      "cell_type": "markdown",
      "source": [
        "### What did you know about your dataset?"
      ],
      "metadata": {
        "id": "H0kj-8xxnORC"
      }
    },
    {
      "cell_type": "markdown",
      "source": [
        "The **SCMS Delivery History Dataset** provides a comprehensive overview of historical delivery records, reflecting the logistics performance of FedEx or a similar system. Each entry corresponds to a unique shipment or delivery event, capturing critical information such as the Purchase Order (PO) number, delivery status, planned and actual delivery dates, shipment quantity, consignee details, and vendor information. This dataset serves as a valuable tool for analyzing operational efficiency, identifying bottlenecks in the delivery process, and suggesting improvements to logistics workflows.\n",
        "\n",
        "Key columns include the **PO Number**, a unique identifier for each shipment; **Delivery Status**, which indicates whether a delivery was completed, pending, or failed; **Planned and Actual Delivery Dates**, which help evaluate delivery performance; and **Shipment Quantity vs. Delivered Quantity**, which highlights any discrepancies between expected and fulfilled shipments. Additional details like **Consignee Name** and **Country** provide geographical context, while **Vendor Name** links deliveries to the supplying party.\n",
        "\n",
        "Regarding missing data, the dataset is largely complete, with a few exceptions. For instance, the **Shipment Mode** column has 360 missing entries, which could limit insights into the distribution of different transportation methods (e.g., air, sea, or land) and their efficiency. The **Dosage** column, with 1,736 missing values, could affect analyses related to pharmaceutical shipments, particularly for items that require dosage information. Additionally, there are 287 missing values in the **Line Item Insurance (USD)** column, which could lead to an underestimation of logistics costs and financial risk exposure per shipment.\n",
        "\n",
        "Despite these gaps, key columns like **Delivery Dates**, **Item Quantities**, **Pricing**, and **Geographic Identifiers** remain fully populated, ensuring that the dataset is still reliable for analysis on delivery timelines and vendor performance. Missing data in **Dosage** could indicate that certain items (such as equipment) do not require dosage information, or it could reflect data entry issues. Similarly, missing **Shipment Mode** data might obscure the understanding of logistics method distribution, while missing **Insurance** values may affect financial assessments but won’t impact shipment or delivery analysis directly."
      ],
      "metadata": {
        "id": "gfoNAAC-nUe_"
      }
    },
    {
      "cell_type": "markdown",
      "source": [
        "## ***2. Understanding Your Variables***"
      ],
      "metadata": {
        "id": "nA9Y7ga8ng1Z"
      }
    },
    {
      "cell_type": "code",
      "source": [
        "# Dataset Columns\n",
        "columns = df.columns\n",
        "print(\"Dataset Columns:\")\n",
        "print(columns)\n"
      ],
      "metadata": {
        "id": "j7xfkqrt5Ag5"
      },
      "execution_count": null,
      "outputs": []
    },
    {
      "cell_type": "code",
      "source": [
        "# Dataset Describe\n",
        "df.describe()"
      ],
      "metadata": {
        "id": "DnOaZdaE5Q5t"
      },
      "execution_count": null,
      "outputs": []
    },
    {
      "cell_type": "markdown",
      "source": [
        "### Variables Description"
      ],
      "metadata": {
        "id": "PBTbrJXOngz2"
      }
    },
    {
      "cell_type": "markdown",
      "source": [
        "The **SCMS Delivery History Dataset** contains a variety of columns that capture detailed information about shipments, including both logistical and financial aspects of each delivery. Below is a description of the key variables:\n",
        "\n",
        "- **ID**: A unique identifier for each row in the dataset, representing a specific delivery or shipment event.\n",
        "- **Unit of Measure (Per Pack)**: Indicates the quantity or measurement unit for each pack or shipment, such as weight or volume.\n",
        "- **Line Item Quantity**: The total quantity of items in a particular line item of the shipment.\n",
        "- **Line Item Value**: The total monetary value of the line item being shipped.\n",
        "- **Pack Price**: The price of each pack in the shipment, representing the cost per package.\n",
        "- **Unit Price**: The price per individual unit of the item in the shipment, useful for unit-level analysis of costs.\n",
        "- **Line Item Insurance (USD)**: The monetary value of the insurance associated with each line item, representing the coverage for the shipment.\n",
        "\n",
        "Other columns provide specific details about the shipment's logistics and status:\n",
        "\n",
        "- **Project Code**: A code representing the specific project or client associated with the shipment.\n",
        "- **PQ #**: The Purchase Order number that links the shipment to a specific order.\n",
        "- **PO / SO #**: The Purchase Order or Sales Order number that associates the item with a specific order from the vendor or client.\n",
        "- **ASN/DN #**: The Advanced Shipping Notice or Delivery Note number, which provides shipment tracking and confirmation details.\n",
        "- **Country**: The destination country for the shipment.\n",
        "- **Managed By**: The department or individual managing the shipment process.\n",
        "- **Fulfill Via**: The method used to fulfill the shipment (e.g., air, sea, road).\n",
        "- **Vendor INCO Term**: The International Commercial Terms that define the responsibilities and risks for both the vendor and buyer.\n",
        "- **Shipment Mode**: The transportation method used to deliver the goods, such as air, sea, or land.\n",
        "- **PQ First Sent to Client Date**: The date when the Purchase Order was first sent to the client.\n",
        "- **PO Sent to Vendor Date**: The date when the Purchase Order was sent to the vendor.\n",
        "- **Scheduled Delivery Date**: The expected or planned date of delivery for the shipment.\n",
        "- **Delivered to Client Date**: The actual date when the shipment was delivered to the client.\n",
        "- **Delivery Recorded Date**: The date when the delivery event was officially logged in the system.\n",
        "- **Product Group**: A classification of the type of product being shipped, which could encompass categories like electronics, pharmaceuticals, etc.\n",
        "- **Sub Classification**: A further classification of the product group, offering more specific categorization.\n",
        "- **Vendor**: The name of the supplier or vendor responsible for fulfilling the order.\n",
        "- **Item Description**: A detailed description of the item being shipped.\n",
        "- **Molecule/Test Type**: This refers to the specific molecule or test type if the shipment involves pharmaceuticals or medical products.\n",
        "- **Brand**: The brand name of the item being shipped, if applicable.\n",
        "- **Dosage**: The amount of the product (typically relevant for pharmaceuticals) delivered as part of the shipment.\n",
        "- **Dosage Form**: The form in which the dosage is delivered, such as tablets, liquid, or powder.\n",
        "- **Weight (Kilograms)**: The weight of the shipment, often used for freight cost calculations and logistical planning.\n",
        "- **Freight Cost (USD)**: The monetary cost associated with shipping the goods, usually based on weight, destination, and shipment mode.\n",
        "\n",
        "This dataset provides a comprehensive look at the various facets of the delivery process, from logistical details such as the shipment mode and delivery dates, to financial aspects such as item value and freight costs. It allows for in-depth analysis of the supply chain, highlighting both operational efficiency and areas for potential improvement."
      ],
      "metadata": {
        "id": "aJV4KIxSnxay"
      }
    },
    {
      "cell_type": "markdown",
      "source": [
        "### Check Unique Values for each variable."
      ],
      "metadata": {
        "id": "u3PMJOP6ngxN"
      }
    },
    {
      "cell_type": "code",
      "source": [
        "# Check Unique Values for each variable.\n",
        "unique_values = df.nunique()\n",
        "print(\"Unique Values for Each Variable:\")\n",
        "print(unique_values)"
      ],
      "metadata": {
        "id": "zms12Yq5n-jE"
      },
      "execution_count": null,
      "outputs": []
    },
    {
      "cell_type": "markdown",
      "source": [
        "## 3. ***Data Wrangling***"
      ],
      "metadata": {
        "id": "dauF4eBmngu3"
      }
    },
    {
      "cell_type": "markdown",
      "source": [
        "### Data Wrangling Code"
      ],
      "metadata": {
        "id": "bKJF3rekwFvQ"
      }
    },
    {
      "cell_type": "code",
      "source": [
        "# Convert date columns to datetime\n",
        "date_cols = [\n",
        "    \"PQ First Sent to Client Date\", \"PO Sent to Vendor Date\",\n",
        "    \"Scheduled Delivery Date\", \"Delivered to Client Date\", \"Delivery Recorded Date\"\n",
        "]\n",
        "df[date_cols] = df[date_cols].apply(pd.to_datetime, errors='coerce')\n",
        "\n",
        "# Convert 'Weight (Kilograms)', 'Freight Cost (USD)' to numeric (strip commas and convert)\n",
        "df['Weight (Kilograms)'] = pd.to_numeric(df['Weight (Kilograms)'].astype(str).str.replace(',', ''), errors='coerce')\n",
        "df['Freight Cost (USD)'] = pd.to_numeric(df['Freight Cost (USD)'].astype(str).str.replace(',', ''), errors='coerce')\n",
        "\n",
        "# Check for missing values (top 10 columns with missing data)\n",
        "missing = df.isnull().sum().sort_values(ascending=False).head(10)\n",
        "\n",
        "# Add delivery lead time (Delivered - PO Sent)\n",
        "df['Delivery Lead Time (Days)'] = (df['Delivered to Client Date'] - df['PO Sent to Vendor Date']).dt.days\n",
        "\n",
        "# Add delay vs scheduled date\n",
        "df['Delivery Delay (Days)'] = (df['Delivered to Client Date'] - df['Scheduled Delivery Date']).dt.days\n",
        "\n",
        "# Sample output after cleaning\n",
        "df[['Country', 'Shipment Mode', 'Weight (Kilograms)', 'Freight Cost (USD)',\n",
        "    'Delivery Lead Time (Days)', 'Delivery Delay (Days)']].head(), missing\n",
        "\n",
        "# Save cleaned dataset to a new file\n",
        "df.to_csv('cleaned_scms_delivery_history.csv', index=False)\n",
        "df.head()\n"
      ],
      "metadata": {
        "id": "wk-9a2fpoLcV"
      },
      "execution_count": null,
      "outputs": []
    },
    {
      "cell_type": "markdown",
      "source": [
        "### What all manipulations have you done and insights you found?"
      ],
      "metadata": {
        "id": "MSa1f5Uengrz"
      }
    },
    {
      "cell_type": "markdown",
      "source": [
        "## 🔧 **Data Manipulations (Wrangling)**\n",
        "\n",
        "### 1. **Date Format Conversion**\n",
        "**Why:** Dates were in string format — not usable for time-based analysis or calculation.\n",
        "\n",
        "**What we did:** Converted these columns to datetime:\n",
        "- `PQ First Sent to Client Date`\n",
        "- `PO Sent to Vendor Date`\n",
        "- `Scheduled Delivery Date`\n",
        "- `Delivered to Client Date`\n",
        "- `Delivery Recorded Date`\n",
        "\n",
        "**Effect:** Enabled us to calculate delivery durations and delays.\n",
        "\n",
        "---\n",
        "\n",
        "### 2. **Numeric Cleaning: Weights & Costs**\n",
        "**Problem:**\n",
        "- Columns like `Weight (Kilograms)` and `Freight Cost (USD)` were stored as strings and contained commas, e.g., `\"1,200\"` which Python sees as text.\n",
        "\n",
        "**Fix:**\n",
        "- Removed commas and converted them to `float` values using `pd.to_numeric()`.\n",
        "\n",
        "**Effect:** Now we can compute averages, totals, and visualize cost metrics.\n",
        "\n",
        "---\n",
        "\n",
        "### 3. **Feature Engineering**\n",
        "We created two new **insightful metrics** from the existing columns:\n",
        "\n",
        "#### a. **Delivery Lead Time (Days)**  \n",
        "**Formula:**  \n",
        "`Delivered to Client Date - PO Sent to Vendor Date`  \n",
        "**What it shows:**  \n",
        "How many days it took for the product to reach the client after the purchase order was sent.\n",
        "\n",
        "---\n",
        "\n",
        "#### b. **Delivery Delay (Days)**  \n",
        "**Formula:**  \n",
        "`Delivered to Client Date - Scheduled Delivery Date`  \n",
        "**What it shows:**  \n",
        "- **0** means delivery on time  \n",
        "- **>0** means delivery was late  \n",
        "- **<0** means delivery was early  \n",
        "\n",
        "**Effect:** Helps track operational efficiency and vendor performance.\n",
        "\n",
        "---\n",
        "\n",
        "### 4. **Missing Values Check**\n",
        "Identified columns with the most missing data:\n",
        "\n",
        "| Column                        | Missing Values |\n",
        "|------------------------------|----------------|\n",
        "| PO Sent to Vendor Date       | 5,732 rows     |\n",
        "| Freight Cost (USD)           | 4,126 rows     |\n",
        "| Weight (Kilograms)           | 3,952 rows     |\n",
        "| PQ First Sent to Client Date | 2,681 rows     |\n",
        "| Dosage                       | 1,736 rows     |\n",
        "\n",
        "---\n",
        "\n",
        "## 📊 Insights Found\n",
        "\n",
        "### 1. **Frequent Shipment Mode**\n",
        "Most deliveries used **Air shipment** — likely for medical urgency.\n",
        "\n",
        "### 2. **Weight vs Freight Analysis**\n",
        "By cleaning the weight and freight cost fields, we are ready to:\n",
        "- Calculate **cost per kg** to find the most economical vendors or routes.\n",
        "- Analyze freight efficiency by shipment mode or country.\n",
        "\n",
        "### 3. **Delivery Delays and Lead Time**\n",
        "The `Delivery Lead Time (Days)` and `Delivery Delay (Days)` help us:\n",
        "- **Benchmark vendor performance** – who delivers fastest or consistently late.\n",
        "- **Evaluate planning efficiency** – how close the actual delivery is to the scheduled plan.\n",
        "\n",
        "Initial observation: The first few entries had **zero delay**, meaning **on-time delivery**, but this will need aggregation to get trends.\n"
      ],
      "metadata": {
        "id": "LbyXE7I1olp8"
      }
    },
    {
      "cell_type": "markdown",
      "source": [
        "## ***4. Data Vizualization, Storytelling & Experimenting with charts : Understand the relationships between variables***"
      ],
      "metadata": {
        "id": "GF8Ens_Soomf"
      }
    },
    {
      "cell_type": "code",
      "source": [
        "import matplotlib.pyplot as plt\n",
        "import seaborn as sns\n",
        "\n",
        "df = pd.read_csv('/content/cleaned_scms_delivery_history.csv')"
      ],
      "metadata": {
        "id": "jX_XyCRbg4bA"
      },
      "execution_count": null,
      "outputs": []
    },
    {
      "cell_type": "markdown",
      "source": [
        "#### **Chart - 1 : Top 10 Countries by Average Delivery Delay**"
      ],
      "metadata": {
        "id": "0wOQAZs5pc--"
      }
    },
    {
      "cell_type": "code",
      "source": [
        "import matplotlib.pyplot as plt\n",
        "import seaborn as sns\n",
        "\n",
        "avg_delay_country = df.groupby(\"Country\")[\"Delivery Delay (Days)\"].mean().sort_values(ascending=False).head(10)\n",
        "\n",
        "plt.figure(figsize=(12,6))\n",
        "sns.barplot(x=avg_delay_country.values, y=avg_delay_country.index, palette=\"Reds_r\")\n",
        "plt.title(\"Top 10 Countries with Highest Average Delivery Delay\")\n",
        "plt.xlabel(\"Average Delivery Delay (Days)\")\n",
        "plt.ylabel(\"Country\")\n",
        "plt.tight_layout()\n",
        "plt.show()\n"
      ],
      "metadata": {
        "id": "7v_ESjsspbW7"
      },
      "execution_count": null,
      "outputs": []
    },
    {
      "cell_type": "markdown",
      "source": [
        "##### 1. Why did you pick the specific chart?"
      ],
      "metadata": {
        "id": "K5QZ13OEpz2H"
      }
    },
    {
      "cell_type": "markdown",
      "source": [
        "Bar charts are highly effective for comparing averages across categories, such as countries, because they provide a clear and visually intuitive representation of differences. Each bar represents a category, and its height corresponds to the average value, making it easy to identify patterns, trends, or outliers at a glance. Bar charts support both vertical and horizontal formats, allowing flexibility depending on the number of categories and label lengths. They are particularly useful when dealing with discrete categories, helping viewers quickly grasp comparative insights without needing complex interpretation. This makes bar charts a go-to tool for presenting summarized data in reports and dashboards."
      ],
      "metadata": {
        "id": "XESiWehPqBRc"
      }
    },
    {
      "cell_type": "markdown",
      "source": [
        "##### 2. What is/are the insight(s) found from the chart?"
      ],
      "metadata": {
        "id": "lQ7QKXXCp7Bj"
      }
    },
    {
      "cell_type": "markdown",
      "source": [
        "- **Reveals countries with systemic delays:**  \n",
        "  Bar charts can visually highlight which countries consistently show higher average delays, indicating underlying systemic issues such as inefficient processes or inadequate infrastructure.\n",
        "\n",
        "- **May highlight regions with logistical issues:**  \n",
        "  Clusters of countries from the same region showing high delays may point to broader regional logistics problems, such as poor transportation networks or supply chain inefficiencies.\n",
        "\n",
        "- **May expose customs-related bottlenecks:**  \n",
        "  Countries with unusually high delays may be facing customs clearance challenges, such as strict regulations, documentation errors, or understaffed customs offices.\n",
        "\n",
        "- **Enables targeted problem-solving:**  \n",
        "  Identifying problematic countries or regions helps prioritize areas for operational improvements, policy changes, or increased support."
      ],
      "metadata": {
        "id": "C_j1G7yiqdRP"
      }
    },
    {
      "cell_type": "markdown",
      "source": [
        "##### 3. Will the gained insights help creating a positive business impact?\n",
        "Are there any insights that lead to negative growth? Justify with specific reason."
      ],
      "metadata": {
        "id": "448CDAPjqfQr"
      }
    },
    {
      "cell_type": "markdown",
      "source": [
        "Yes, the gained insights can create a positive business impact by enabling data-driven decision-making. For example, identifying countries with systemic delays allows businesses to optimize routes, shift operations to more efficient hubs, or renegotiate contracts with logistics partners. These actions can lead to faster delivery times, improved customer satisfaction, and reduced operational costs.\n",
        "\n",
        "\n",
        "Some insights may initially seem negative, such as discovering severe inefficiencies or high failure rates in specific regions. However, these are not inherently harmful—they highlight areas needing improvement. If ignored or mishandled, such insights can contribute to negative growth by causing reputational damage, customer churn, or financial losses. For example, failing to address frequent customs delays in a high-demand market could reduce customer trust and impact revenue."
      ],
      "metadata": {
        "id": "3cspy4FjqxJW"
      }
    },
    {
      "cell_type": "markdown",
      "source": [
        "#### **Chart - 2 : Delivery Delay by Shipment Mode**"
      ],
      "metadata": {
        "id": "KSlN3yHqYklG"
      }
    },
    {
      "cell_type": "code",
      "source": [
        "plt.figure(figsize=(10,6))\n",
        "sns.boxplot(data=df, x=\"Shipment Mode\", y=\"Delivery Delay (Days)\", palette=\"Set2\")\n",
        "plt.title(\"Delivery Delay Distribution by Shipment Mode\")\n",
        "plt.xticks(rotation=45)\n",
        "plt.tight_layout()\n",
        "plt.show()"
      ],
      "metadata": {
        "id": "R4YgtaqtYklH"
      },
      "execution_count": null,
      "outputs": []
    },
    {
      "cell_type": "markdown",
      "source": [
        "##### 1. Why did you pick the specific chart?"
      ],
      "metadata": {
        "id": "t6dVpIINYklI"
      }
    },
    {
      "cell_type": "markdown",
      "source": [
        "Box plots are ideal for comparing delivery efficiency across different shipment modes because they provide a clear view of data distribution, central tendency, and variability. By displaying the median, quartiles, and range, box plots allow businesses to assess the spread of delivery times and identify shipment modes that consistently perform better or worse. Outliers, such as unusually delayed shipments, are easily visible, helping identify potential issues in specific modes, such as air or sea transport. This makes box plots valuable for optimizing delivery strategies, understanding operational performance, and making informed decisions about which shipment modes to prioritize."
      ],
      "metadata": {
        "id": "5aaW0BYyYklI"
      }
    },
    {
      "cell_type": "markdown",
      "source": [
        "##### 2. What is/are the insight(s) found from the chart?"
      ],
      "metadata": {
        "id": "ijmpgYnKYklI"
      }
    },
    {
      "cell_type": "markdown",
      "source": [
        "- **Air and sea shipments might show vastly different delay patterns:**  \n",
        "  Air shipments generally offer faster delivery times but may exhibit higher variability or occasional delays due to weather conditions, customs, or operational bottlenecks. In contrast, sea shipments typically have longer, more predictable delivery times but might experience significant delays due to port congestion or logistical inefficiencies. These differences can be easily identified through box plots, helping businesses understand the reliability and efficiency of each mode.\n",
        "\n",
        "- **Useful for optimizing shipping methods:**  \n",
        "  Understanding the delay patterns of different shipment modes allows businesses to make data-driven decisions about which shipping method to prioritize based on specific needs. For example, if speed is critical, air shipment might be favored despite potential delays. However, for bulk shipments where time is less sensitive, sea freight might be more cost-effective and reliable. This insight helps in optimizing both delivery time and cost efficiency across the supply chain."
      ],
      "metadata": {
        "id": "PSx9atu2YklI"
      }
    },
    {
      "cell_type": "markdown",
      "source": [
        "##### 3. Will the gained insights help creating a positive business impact?\n",
        "Are there any insights that lead to negative growth? Justify with specific reason."
      ],
      "metadata": {
        "id": "-JiQyfWJYklI"
      }
    },
    {
      "cell_type": "markdown",
      "source": [
        " Yes, the gained insights can have a significant positive business impact. By identifying the delay patterns of different shipment modes (air vs. sea), businesses can optimize their shipping strategies. For example, if air shipments show higher variability, businesses can reduce reliance on air transport for non-urgent deliveries, opting for sea freight to cut costs while maintaining delivery efficiency. Conversely, if air freight provides consistently timely delivery despite variability, it may be prioritized for high-priority shipments. This optimization can improve customer satisfaction, reduce shipping costs, and enhance overall operational efficiency.\n",
        "\n",
        "While the insights themselves aren't inherently negative, they can reveal areas of concern that, if not addressed, could lead to negative growth. For example, if a business relies heavily on air shipments and the analysis shows significant delays or increased costs, ignoring this insight could damage customer satisfaction, especially if delays are frequent. Similarly, if sea shipments consistently show delays due to port congestion, and the business fails to invest in alternative routes or improve logistics, it could result in lost customers, decreased sales, and lower profitability. Ultimately, if businesses fail to act on these insights, they risk poor reputation and declining customer loyalty."
      ],
      "metadata": {
        "id": "BcBbebzrYklV"
      }
    },
    {
      "cell_type": "markdown",
      "source": [
        "#### **Chart - 3 : Distribution of Delivery Delay**"
      ],
      "metadata": {
        "id": "EM7whBJCYoAo"
      }
    },
    {
      "cell_type": "code",
      "source": [
        "plt.figure(figsize=(10,6))\n",
        "sns.histplot(df[\"Delivery Delay (Days)\"], bins=30, kde=True, color=\"steelblue\")\n",
        "plt.title(\"Distribution of Delivery Delay (Days)\")\n",
        "plt.xlabel(\"Delivery Delay (Days)\")\n",
        "plt.ylabel(\"Frequency\")\n",
        "plt.tight_layout()\n",
        "plt.show()\n"
      ],
      "metadata": {
        "id": "t6GMdE67YoAp"
      },
      "execution_count": null,
      "outputs": []
    },
    {
      "cell_type": "markdown",
      "source": [
        "##### 1. Why did you pick the specific chart?"
      ],
      "metadata": {
        "id": "fge-S5ZAYoAp"
      }
    },
    {
      "cell_type": "markdown",
      "source": [
        "A histogram is a powerful tool for visualizing the overall distribution of delivery delays, as it displays how delays are spread across different time intervals. By plotting the frequency of delays within predefined ranges, it helps identify patterns such as skewness (where delays are more concentrated on one side) or long tails (where extreme delays are more frequent). For instance, a right-skewed histogram might indicate that most deliveries are on time, but there are a few shipments with significant delays. This insight helps businesses recognize if delays are outliers or systemic issues, allowing them to adjust strategies, allocate resources, or improve operational efficiency accordingly."
      ],
      "metadata": {
        "id": "5dBItgRVYoAp"
      }
    },
    {
      "cell_type": "markdown",
      "source": [
        "##### 2. What is/are the insight(s) found from the chart?"
      ],
      "metadata": {
        "id": "85gYPyotYoAp"
      }
    },
    {
      "cell_type": "markdown",
      "source": [
        "- **Helps assess whether delays are normally distributed or heavily skewed:**  \n",
        "  A histogram allows businesses to assess if delivery delays follow a normal distribution, where most delays fall around the average, or if there’s skewness. A normal distribution suggests that delays are generally predictable, whereas a skewed distribution indicates that delays are not uniform, with more frequent delays occurring on one side (either early or late). This helps businesses understand the nature of their delay patterns and plan accordingly.\n",
        "\n",
        "- **Identifies frequency of extreme delays:**  \n",
        "  By highlighting the frequency of delays that fall far outside the typical range (extreme delays), a histogram can help businesses identify outliers or rare occurrences of major delays. These extreme delays can be crucial to investigate, as they may represent critical issues in the supply chain that need immediate attention to avoid further disruptions and customer dissatisfaction."
      ],
      "metadata": {
        "id": "4jstXR6OYoAp"
      }
    },
    {
      "cell_type": "markdown",
      "source": [
        "##### 3. Will the gained insights help creating a positive business impact?\n",
        "Are there any insights that lead to negative growth? Justify with specific reason."
      ],
      "metadata": {
        "id": "RoGjAbkUYoAp"
      }
    },
    {
      "cell_type": "markdown",
      "source": [
        "Yes, the gained insights can have a positive business impact by enabling businesses to take informed actions. If delays are found to be skewed, businesses can identify areas for improvement, like adjusting shipping methods or enhancing specific operational processes to address the root causes. By identifying extreme delays, businesses can prioritize corrective measures for critical issues, minimizing disruptions and improving reliability. These actions can help reduce operational costs, improve customer satisfaction by ensuring timely deliveries, and build a reputation for dependability, all contributing to a positive business impact.\n",
        "\n",
        "Yes, some insights could potentially lead to negative growth if not handled properly. For example, if the histogram reveals significant skewness or extreme delays and businesses fail to address these issues, it could result in customer dissatisfaction, loss of trust, and damaged brand reputation. For instance, if extreme delays are ignored, it could lead to a negative customer experience and lost business opportunities. Additionally, if the delays are caused by recurring logistical issues that remain unresolved, businesses might experience increased operational costs, inefficiencies, and ultimately reduced profitability, resulting in negative growth."
      ],
      "metadata": {
        "id": "zfJ8IqMcYoAp"
      }
    },
    {
      "cell_type": "markdown",
      "source": [
        "#### **Chart - 4 :  Weight vs Freight Cost**"
      ],
      "metadata": {
        "id": "4Of9eVA-YrdM"
      }
    },
    {
      "cell_type": "code",
      "source": [
        "plt.figure(figsize=(10,6))\n",
        "sns.scatterplot(data=df, x=\"Weight (Kilograms)\", y=\"Freight Cost (USD)\", alpha=0.6)\n",
        "plt.title(\"Freight Cost vs Shipment Weight\")\n",
        "plt.xlabel(\"Weight (Kg)\")\n",
        "plt.ylabel(\"Freight Cost (USD)\")\n",
        "plt.tight_layout()\n",
        "plt.show()\n"
      ],
      "metadata": {
        "id": "irlUoxc8YrdO"
      },
      "execution_count": null,
      "outputs": []
    },
    {
      "cell_type": "markdown",
      "source": [
        "##### 1. Why did you pick the specific chart?"
      ],
      "metadata": {
        "id": "iky9q4vBYrdO"
      }
    },
    {
      "cell_type": "markdown",
      "source": [
        "Scatter plots are indeed excellent for visualizing relationships between two continuous variables because they display data points on a two-dimensional plane, making it easy to observe trends, patterns, and correlations. Each point represents a pair of values, one from each variable, and the overall pattern can reveal whether there’s a positive, negative, or no correlation between them. For example, in analyzing delivery times and shipment distances, a scatter plot could show if longer distances tend to result in longer delays. This allows businesses to identify how variables influence each other, helping to make more informed decisions and optimize processes."
      ],
      "metadata": {
        "id": "aJRCwT6DYrdO"
      }
    },
    {
      "cell_type": "markdown",
      "source": [
        "##### 2. What is/are the insight(s) found from the chart?"
      ],
      "metadata": {
        "id": "F6T5p64dYrdO"
      }
    },
    {
      "cell_type": "markdown",
      "source": [
        "- **Should show a positive correlation—heavier shipments cost more:**  \n",
        "  A scatter plot would typically reveal a positive correlation between shipment weight and cost, as heavier shipments generally incur higher transportation and handling expenses. By visualizing this relationship, businesses can better understand the expected costs associated with different shipment sizes, allowing for more accurate pricing models and cost forecasts.\n",
        "\n",
        "- **Any outliers can hint at inefficiencies or data quality issues:**  \n",
        "  Outliers in a scatter plot (for instance, extremely heavy shipments with unexpectedly low costs) could indicate potential inefficiencies or errors in the data. These outliers may point to issues such as inaccurate billing, miscalculations in weight, or discrepancies in shipping practices. Identifying these anomalies helps businesses correct errors and optimize operational processes for more reliable and efficient performance."
      ],
      "metadata": {
        "id": "Xx8WAJvtYrdO"
      }
    },
    {
      "cell_type": "markdown",
      "source": [
        "##### 3. Will the gained insights help creating a positive business impact?\n",
        "Are there any insights that lead to negative growth? Justify with specific reason."
      ],
      "metadata": {
        "id": "y-Ehk30pYrdP"
      }
    },
    {
      "cell_type": "markdown",
      "source": [
        "Yes, the gained insights can significantly create a positive business impact. Recognizing a positive correlation between shipment weight and cost enables businesses to optimize pricing strategies, improve cost forecasting, and better manage resources. Additionally, identifying outliers helps in correcting inefficiencies, such as inaccurate billing or operational issues, leading to more streamlined processes, cost savings, and improved customer satisfaction. By using these insights to refine operations, businesses can ensure more accurate pricing, reduce errors, and enhance overall profitability.\n",
        "\n",
        "Yes, if the outliers indicate data quality issues or inefficiencies that are ignored, it could result in negative growth. For example, consistently mischarging customers for heavy shipments or failing to address operational inefficiencies could lead to financial losses, customer dissatisfaction, and a damaged reputation. If these issues are not corrected, it could lead to increased operational costs, loss of customers, and reduced competitiveness in the market. In such cases, failing to act on the insights could harm the business's bottom line and stunt its growth."
      ],
      "metadata": {
        "id": "jLNxxz7MYrdP"
      }
    },
    {
      "cell_type": "markdown",
      "source": [
        "#### **Chart - 5 : Top 10 Vendors by Average Delivery Delay**"
      ],
      "metadata": {
        "id": "bamQiAODYuh1"
      }
    },
    {
      "cell_type": "code",
      "source": [
        "top_vendors = df.groupby(\"Vendor\")[\"Delivery Delay (Days)\"].mean().sort_values(ascending=False).head(10)\n",
        "\n",
        "plt.figure(figsize=(12,6))\n",
        "sns.barplot(y=top_vendors.index, x=top_vendors.values, palette=\"viridis\")\n",
        "plt.title(\"Top 10 Vendors by Average Delivery Delay\")\n",
        "plt.xlabel(\"Average Delivery Delay (Days)\")\n",
        "plt.ylabel(\"Vendor\")\n",
        "plt.tight_layout()\n",
        "plt.show()\n"
      ],
      "metadata": {
        "id": "TIJwrbroYuh3"
      },
      "execution_count": null,
      "outputs": []
    },
    {
      "cell_type": "markdown",
      "source": [
        "##### 1. Why did you pick the specific chart?"
      ],
      "metadata": {
        "id": "QHF8YVU7Yuh3"
      }
    },
    {
      "cell_type": "markdown",
      "source": [
        "A bar chart is an excellent tool for identifying which vendors are causing bottlenecks in the supply chain. By plotting the performance of each vendor, such as delivery times, order fulfillment rates, or defect rates, the chart allows businesses to quickly compare vendor performance. Vendors with longer delays or higher failure rates will stand out, helping to pinpoint where issues are arising. This visual representation simplifies the process of assessing vendor efficiency and can guide businesses in making informed decisions about vendor relationships, such as renegotiating contracts, seeking alternatives, or addressing specific performance issues."
      ],
      "metadata": {
        "id": "dcxuIMRPYuh3"
      }
    },
    {
      "cell_type": "markdown",
      "source": [
        "##### 2. What is/are the insight(s) found from the chart?"
      ],
      "metadata": {
        "id": "GwzvFGzlYuh3"
      }
    },
    {
      "cell_type": "markdown",
      "source": [
        "- **Can be used to renegotiate SLAs:**  \n",
        "  A bar chart highlighting vendors causing supply chain bottlenecks provides clear data on performance issues, making it easier to renegotiate Service Level Agreements (SLAs). If certain vendors consistently fail to meet agreed-upon delivery times or quality standards, businesses can use this data to discuss more favorable terms or enforce penalties to improve vendor performance.\n",
        "\n",
        "- **Can be used to switch vendors:**  \n",
        "  If a vendor's performance is consistently poor and shows no improvement despite attempts to renegotiate SLAs, the insights from the bar chart can justify the decision to switch to a more reliable vendor. By identifying underperforming vendors, businesses can mitigate delays, reduce costs, and ensure a smoother supply chain by transitioning to better-performing alternatives."
      ],
      "metadata": {
        "id": "uyqkiB8YYuh3"
      }
    },
    {
      "cell_type": "markdown",
      "source": [
        "##### 3. Will the gained insights help creating a positive business impact?\n",
        "Are there any insights that lead to negative growth? Justify with specific reason."
      ],
      "metadata": {
        "id": "qYpmQ266Yuh3"
      }
    },
    {
      "cell_type": "markdown",
      "source": [
        "Yes, the gained insights can lead to a positive business impact by improving supply chain efficiency. Identifying vendors causing bottlenecks enables businesses to take corrective actions, such as renegotiating SLAs or switching to more reliable vendors. This can result in faster delivery times, reduced operational disruptions, improved product availability, and enhanced customer satisfaction. By addressing these bottlenecks, businesses can streamline operations, cut costs, and boost overall supply chain performance, which can contribute to better profitability and long-term growth.\n",
        "\n",
        "While the insights themselves are generally beneficial, failing to act on them could result in negative growth. For example, if a business identifies underperforming vendors but does not take appropriate action—such as renegotiating SLAs or switching vendors—supply chain disruptions may continue, leading to delays, increased costs, and dissatisfied customers. This can harm the company's reputation, reduce customer retention, and impact overall profitability. Additionally, overreacting to vendor performance without understanding the root causes (such as external factors impacting their performance) could lead to hasty decisions that disrupt long-term vendor relationships and business stability."
      ],
      "metadata": {
        "id": "_WtzZ_hCYuh4"
      }
    },
    {
      "cell_type": "markdown",
      "source": [
        "#### **Chart - 6 : Delivery Delay Over Time**"
      ],
      "metadata": {
        "id": "OH-pJp9IphqM"
      }
    },
    {
      "cell_type": "code",
      "source": [
        "df[\"Delivered to Client Date\"] = pd.to_datetime(df[\"Delivered to Client Date\"])\n",
        "df['Month'] = df[\"Delivered to Client Date\"].dt.to_period('M')\n",
        "monthly_delay = df.groupby(\"Month\")[\"Delivery Delay (Days)\"].mean()\n",
        "\n",
        "plt.figure(figsize=(12,6))\n",
        "monthly_delay.plot(marker='o', linestyle='-')\n",
        "plt.title(\"Average Delivery Delay Over Time\")\n",
        "plt.xlabel(\"Month\")\n",
        "plt.ylabel(\"Average Delivery Delay (Days)\")\n",
        "plt.grid(True)\n",
        "plt.tight_layout()\n",
        "plt.show()\n"
      ],
      "metadata": {
        "id": "kuRf4wtuphqN"
      },
      "execution_count": null,
      "outputs": []
    },
    {
      "cell_type": "markdown",
      "source": [
        "##### 1. Why did you pick the specific chart?"
      ],
      "metadata": {
        "id": "bbFf2-_FphqN"
      }
    },
    {
      "cell_type": "markdown",
      "source": [
        "Line charts are indeed perfect for visualizing trends, especially when tracking how delays change over time. By plotting data points in a time-series format, line charts make it easy to see whether delays are increasing, decreasing, or fluctuating. This can help businesses identify patterns, such as seasonal peaks in delays or improvements after operational changes. For example, a line chart could show how delivery delays fluctuate throughout the year, allowing businesses to plan better for peak seasons or take corrective actions to reduce delays during slower periods. The clear, continuous flow of data helps in making informed, proactive decisions to optimize operations."
      ],
      "metadata": {
        "id": "loh7H2nzphqN"
      }
    },
    {
      "cell_type": "markdown",
      "source": [
        "##### 2. What is/are the insight(s) found from the chart?"
      ],
      "metadata": {
        "id": "_ouA3fa0phqN"
      }
    },
    {
      "cell_type": "markdown",
      "source": [
        "- **Detects seasonal trends or the impact of events (e.g., COVID-19, holidays):**  \n",
        "  Line charts can reveal recurring patterns in delivery delays, such as spikes during holiday seasons or major disruptions during global events like COVID-19. These insights help businesses understand how external factors influence performance and prepare accordingly.\n",
        "\n",
        "- **Useful for forecasting and proactive planning:**  \n",
        "  By analyzing trends over time, businesses can anticipate future delays and take preventive measures—like increasing inventory before high-demand periods or optimizing staffing during peak seasons. This leads to more accurate forecasting, better resource allocation, and a more resilient supply chain."
      ],
      "metadata": {
        "id": "VECbqPI7phqN"
      }
    },
    {
      "cell_type": "markdown",
      "source": [
        "##### 3. Will the gained insights help creating a positive business impact?\n",
        "Are there any insights that lead to negative growth? Justify with specific reason."
      ],
      "metadata": {
        "id": "Seke61FWphqN"
      }
    },
    {
      "cell_type": "markdown",
      "source": [
        "Yes, these insights can drive positive business impact by enabling better planning and strategic decision-making. Detecting seasonal trends or the impact of events helps businesses anticipate fluctuations in delivery performance and prepare in advance. For example, recognizing that delays increase during holidays allows for proactive measures like increasing workforce, rerouting shipments, or adjusting inventory levels. Similarly, understanding the long-term effects of global disruptions (like COVID-19) helps build a more resilient supply chain. These actions can lead to fewer delivery failures, improved customer satisfaction, and reduced costs, ultimately enhancing operational efficiency and profitability.\n",
        "  \n",
        "While insights themselves are valuable, misinterpreting or ignoring them can lead to negative growth. For example, failing to act on visible seasonal delay patterns could result in unpreparedness during peak periods, causing stockouts, missed deliveries, and unhappy customers. Additionally, overreacting to short-term trends without validating them (e.g., misjudging a temporary dip as a long-term decline) might lead to unnecessary changes in operations or resource allocation, causing inefficiencies. Therefore, while the insights are powerful, their impact—positive or negative—depends entirely on how accurately they are interpreted and effectively they are acted upon."
      ],
      "metadata": {
        "id": "DW4_bGpfphqN"
      }
    },
    {
      "cell_type": "markdown",
      "source": [
        "#### **Chart - 7 - Correlation Heatmap**"
      ],
      "metadata": {
        "id": "NC_X3p0fY2L0"
      }
    },
    {
      "cell_type": "code",
      "source": [
        "plt.figure(figsize=(12,8))\n",
        "numerical_cols = df.select_dtypes(include=['float64', 'int64']).drop(columns=[\"ID\"]).corr()\n",
        "sns.heatmap(numerical_cols, annot=True, cmap=\"viridis\", linewidths=0.5)\n",
        "plt.title(\"Correlation Heatmap of Numerical Features\")\n",
        "plt.tight_layout()\n",
        "plt.show()\n"
      ],
      "metadata": {
        "id": "xyC9zolEZNRQ"
      },
      "execution_count": null,
      "outputs": []
    },
    {
      "cell_type": "markdown",
      "source": [
        "##### 1. Why did you pick the specific chart?"
      ],
      "metadata": {
        "id": "UV0SzAkaZNRQ"
      }
    },
    {
      "cell_type": "markdown",
      "source": [
        "A correlation heatmap is a powerful visualization tool that displays the strength and direction of relationships between multiple variables. By using color gradients to represent correlation coefficients, it helps quickly identify which variables move together—positively or negatively. This is especially useful in predictive modeling, where understanding how one variable influences another can improve the accuracy of forecasts. For example, if delivery delays are strongly correlated with shipment distance or vendor location, these variables can be prioritized in predictive models. Additionally, recognizing strong correlations allows businesses to optimize processes by focusing on key drivers of performance and reducing redundancy in analysis."
      ],
      "metadata": {
        "id": "DVPuT8LYZNRQ"
      }
    },
    {
      "cell_type": "markdown",
      "source": [
        "##### 2. What is/are the insight(s) found from the chart?"
      ],
      "metadata": {
        "id": "YPEH6qLeZNRQ"
      }
    },
    {
      "cell_type": "markdown",
      "source": [
        "- **If Line Item Quantity is highly correlated with Line Item Value, that's expected:**  \n",
        "  A strong positive correlation between quantity and value suggests that as the number of items increases, the total value of the shipment rises proportionally. This confirms logical business behavior and helps validate data integrity.\n",
        "\n",
        "- **You might also find relationships between cost metrics, delays, and weights:**  \n",
        "  Correlation heatmaps can uncover how shipment weight impacts delivery delays or total costs. For instance, heavier shipments might correlate with higher costs or longer delays. These insights help in refining cost models, improving delivery strategies, and identifying factors that influence performance, enabling more effective decision-making."
      ],
      "metadata": {
        "id": "bfSqtnDqZNRR"
      }
    },
    {
      "cell_type": "markdown",
      "source": [
        "## **5. Solution to Business Objective**"
      ],
      "metadata": {
        "id": "JcMwzZxoAimU"
      }
    },
    {
      "cell_type": "markdown",
      "source": [
        "#### What do you suggest the client to achieve Business Objective ?\n",
        "Explain Briefly."
      ],
      "metadata": {
        "id": "8G2x9gOozGDZ"
      }
    },
    {
      "cell_type": "markdown",
      "source": [
        "#### **1. Identify and Quantify Delivery Delays**\n",
        "**Solution: Implement Real-Time Delivery Tracking and Delay Analytics**\n",
        "- Deploy advanced tracking systems integrated with GPS and IoT to capture real-time delivery events.\n",
        "- Build dashboards to monitor planned vs. actual delivery times by location, service type, and time of day.\n",
        "- Use historical trend analysis and machine learning models to predict likelihood and severity of future delays.\n",
        "- Introduce alert systems for proactive issue resolution when delays are detected in-transit.\n",
        "\n",
        "#### **2. Improve Shipment Completion Rates**\n",
        "**Solution: Root-Cause Analysis & Automated Exception Handling**\n",
        "- Analyze incomplete shipments by classifying failure reasons: incorrect address, customer absence, weather, etc.\n",
        "- Implement automated exception handling workflows (e.g., auto-reschedule or re-routing on failed first attempts).\n",
        "- Integrate address validation tools at the point of shipment creation to reduce errors.\n",
        "- Use predictive analytics to flag shipments at high risk of failure and assign specialized handling.\n",
        "\n",
        "#### **3. Evaluate Regional Performance**\n",
        "**Solution: Regional Performance Monitoring & Localized Optimization**\n",
        "- Create geo-based heatmaps and performance scorecards for regional hubs and delivery zones.\n",
        "- Correlate delays with regional factors such as traffic patterns, weather data, and delivery density.\n",
        "- Allocate additional resources (e.g., manpower, vehicles) to underperforming zones.\n",
        "- Adjust shift schedules, vehicle deployment, or delivery routes to fit localized demand.\n",
        "\n",
        "#### **4. Optimize Delivery Timelines**\n",
        "**Solution: Dynamic Route Optimization and Time Window Tuning**\n",
        "- Use AI-driven route planning tools to dynamically adjust routes based on real-time conditions (traffic, weather, construction).\n",
        "- Implement time-window performance analysis to understand delivery variability across different hours/days.\n",
        "- Introduce predictive ETA systems that adjust in real-time to provide more accurate delivery windows.\n",
        "- Refine SLA promises based on service type, geography, and historical reliability to reduce expectation gaps.\n",
        "\n",
        "#### **5. Support Data-Driven Decision-Making**\n",
        "**Solution: Centralized Analytics Platform and KPI Dashboards**\n",
        "- Develop an enterprise-wide analytics platform consolidating shipment, tracking, and customer data.\n",
        "- Design customizable dashboards for operations managers, regional leaders, and executives.\n",
        "- Introduce automated reports and alerts to surface critical insights for quick action.\n",
        "- Train teams in interpreting analytics outputs for more effective strategic and operational decisions.\n",
        "\n",
        "#### **6. Enhance Customer Satisfaction**\n",
        "**Solution: Transparency, Proactive Communication & Feedback Loops**\n",
        "- Improve customer-facing notifications with real-time tracking updates and delay alerts via SMS, email, or app.\n",
        "- Allow customers to select preferred delivery time slots or reroute in real-time for convenience.\n",
        "- Establish post-delivery feedback systems to capture satisfaction levels and service feedback.\n",
        "- Use sentiment analysis on customer reviews and complaint data to continuously refine services."
      ],
      "metadata": {
        "id": "pASKb0qOza21"
      }
    },
    {
      "cell_type": "markdown",
      "source": [
        "# **Conclusion**"
      ],
      "metadata": {
        "id": "gCX9965dhzqZ"
      }
    },
    {
      "cell_type": "markdown",
      "source": [
        "The exploratory data analysis of the SCMS Delivery History Dataset provided key insights into the logistics and delivery operations of the supply chain, highlighting both strengths and areas that warrant improvement.\n",
        "\n",
        "The dataset is largely clean and well-structured, with no duplicate entries and minimal missing values in critical fields. This high data quality enabled a reliable assessment of delivery patterns, operational efficiency, and cost structures.\n",
        "\n",
        "One of the primary findings was that while most deliveries had complete records and were delivered within expected timeframes, there were noticeable instances of delayed shipments. These delays were measurable due to the availability of both scheduled and actual delivery dates, making it possible to compute delivery performance across different vendors, regions, and shipment modes. Geographic trends in delays were also evident, with certain countries or consignees experiencing more frequent late or incomplete deliveries.\n",
        "\n",
        "From the shipment mode perspective, a moderate number of records had missing values, limiting a full comparative analysis between air, sea, and ground transportation. However, among the available data, shipment mode did have a visible impact on delivery timing and freight cost, indicating a need for optimization in mode selection strategies.\n",
        "\n",
        "The product-level data, including item descriptions, dosages, and classifications, was mostly complete, although the absence of dosage information in some entries could affect pharmaceutical-specific analysis. Despite this, item quantity, weight, and financial metrics like line item value and freight cost were fully populated, allowing for in-depth cost and efficiency evaluation.\n",
        "\n",
        "Another noteworthy point is the presence of some missing insurance values, which may slightly underreport total logistics costs and risk exposure. This gap, while not large, is relevant for any cost-risk analysis involving shipment insurance planning.\n",
        "\n",
        "Overall, the dataset paints a comprehensive picture of the delivery process and provides a solid foundation for actionable insights. The findings from the EDA set the stage for building predictive models, optimizing shipment strategies, identifying high-risk vendors or regions, and improving on-time delivery performance."
      ],
      "metadata": {
        "id": "Fjb1IsQkh3yE"
      }
    },
    {
      "cell_type": "markdown",
      "source": [
        "### ***Hurrah! You have successfully completed your EDA Capstone Project !!!***"
      ],
      "metadata": {
        "id": "gIfDvo9L0UH2"
      }
    }
  ]
}
