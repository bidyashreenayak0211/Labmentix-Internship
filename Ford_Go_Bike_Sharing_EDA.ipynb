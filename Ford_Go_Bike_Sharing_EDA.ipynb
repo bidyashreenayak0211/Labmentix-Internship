{
  "nbformat": 4,
  "nbformat_minor": 0,
  "metadata": {
    "colab": {
      "private_outputs": true,
      "provenance": [],
      "collapsed_sections": [
        "vncDsAP0Gaoa",
        "FJNUwmbgGyua",
        "w6K7xa23Elo4",
        "yQaldy8SH6Dl",
        "PH-0ReGfmX4f",
        "mDgbUHAGgjLW",
        "O_i_v8NEhb9l",
        "HhfV-JJviCcP",
        "Y3lxredqlCYt",
        "3RnN4peoiCZX",
        "x71ZqKXriCWQ",
        "7hBIi_osiCS2",
        "JlHwYmJAmNHm",
        "35m5QtbWiB9F",
        "PoPl-ycgm1ru",
        "H0kj-8xxnORC",
        "nA9Y7ga8ng1Z",
        "PBTbrJXOngz2",
        "u3PMJOP6ngxN",
        "dauF4eBmngu3",
        "bKJF3rekwFvQ",
        "MSa1f5Uengrz",
        "GF8Ens_Soomf",
        "0wOQAZs5pc--",
        "K5QZ13OEpz2H",
        "lQ7QKXXCp7Bj",
        "448CDAPjqfQr",
        "KSlN3yHqYklG",
        "t6dVpIINYklI",
        "ijmpgYnKYklI",
        "-JiQyfWJYklI",
        "EM7whBJCYoAo",
        "fge-S5ZAYoAp",
        "85gYPyotYoAp",
        "RoGjAbkUYoAp",
        "4Of9eVA-YrdM",
        "iky9q4vBYrdO",
        "F6T5p64dYrdO",
        "y-Ehk30pYrdP",
        "bamQiAODYuh1",
        "QHF8YVU7Yuh3",
        "GwzvFGzlYuh3",
        "qYpmQ266Yuh3",
        "OH-pJp9IphqM",
        "bbFf2-_FphqN",
        "_ouA3fa0phqN",
        "Seke61FWphqN",
        "PIIx-8_IphqN",
        "t27r6nlMphqO",
        "r2jJGEOYphqO",
        "b0JNsNcRphqO",
        "BZR9WyysphqO",
        "jj7wYXLtphqO",
        "eZrbJ2SmphqO",
        "rFu4xreNphqO",
        "YJ55k-q6phqO",
        "gCFgpxoyphqP",
        "OVtJsKN_phqQ",
        "lssrdh5qphqQ",
        "U2RJ9gkRphqQ",
        "1M8mcRywphqQ",
        "tgIPom80phqQ",
        "JMzcOPDDphqR",
        "x-EpHcCOp1ci",
        "X_VqEhTip1ck",
        "8zGJKyg5p1ck",
        "PVzmfK_Ep1ck",
        "n3dbpmDWp1ck",
        "ylSl6qgtp1ck",
        "ZWILFDl5p1ck",
        "M7G43BXep1ck",
        "Ag9LCva-p1cl",
        "E6MkPsBcp1cl",
        "2cELzS2fp1cl",
        "3MPXvC8up1cl",
        "NC_X3p0fY2L0",
        "UV0SzAkaZNRQ",
        "YPEH6qLeZNRQ",
        "q29F0dvdveiT",
        "EXh0U9oCveiU",
        "22aHeOlLveiV",
        "JcMwzZxoAimU",
        "8G2x9gOozGDZ",
        "gCX9965dhzqZ",
        "gIfDvo9L0UH2"
      ],
      "include_colab_link": true
    },
    "kernelspec": {
      "name": "python3",
      "display_name": "Python 3"
    },
    "language_info": {
      "name": "python"
    }
  },
  "cells": [
    {
      "cell_type": "markdown",
      "metadata": {
        "id": "view-in-github",
        "colab_type": "text"
      },
      "source": [
        "<a href=\"https://colab.research.google.com/github/bidyashreenayak0211/Labmentix-Internship/blob/main/Ford_Go_Bike_Sharing_EDA.ipynb\" target=\"_parent\"><img src=\"https://colab.research.google.com/assets/colab-badge.svg\" alt=\"Open In Colab\"/></a>"
      ]
    },
    {
      "cell_type": "markdown",
      "source": [
        "# **Project Name    - Ford Go Bike Sharing EDA**\n",
        "\n"
      ],
      "metadata": {
        "id": "vncDsAP0Gaoa"
      }
    },
    {
      "cell_type": "markdown",
      "source": [
        "##### **Project Type**    - EDA\n",
        "##### **Contribution**    - Individual\n",
        "##### **Name** - Bidyashree Nayak"
      ],
      "metadata": {
        "id": "beRrZCGUAJYm"
      }
    },
    {
      "cell_type": "markdown",
      "source": [
        "# **Project Summary -**"
      ],
      "metadata": {
        "id": "FJNUwmbgGyua"
      }
    },
    {
      "cell_type": "markdown",
      "source": [
        "The rapid urbanization of cities has created a growing demand for efficient, eco-friendly, and cost-effective means of transportation. As a response, bike-sharing systems have become a popular alternative for short-distance commutes. This project revolves around analyzing data from Ford GoBike, a public bicycle sharing system that operates in the San Francisco Bay Area. The dataset provides detailed insights into user behavior, trip patterns, and system performance, which can serve as the foundation for optimizing operations, improving user experience, and supporting sustainable urban mobility.\n",
        "\n",
        "The objective of this Exploratory Data Analysis (EDA) project is to extract meaningful patterns and insights from the Ford GoBike data through rigorous data wrangling, visualization, and statistical exploration. The dataset includes features such as trip duration, start and end stations, user types, and demographics, all of which allow for a multi-dimensional analysis of how the bike-sharing service is used across different regions and user groups.\n",
        "\n",
        "By performing a thorough EDA, we aim to answer key questions like: What are the most popular times for bike usage? How do patterns differ by user type (subscriber vs. customer)? Are there spatial trends in station usage? What demographic factors affect trip duration or frequency? These insights are critical for decision-makers looking to enhance bike availability, optimize station placements, and tailor marketing strategies to specific customer segments.\n",
        "\n",
        "Ultimately, the analysis seeks to support Ford GoBike’s long-term vision of promoting cycling as a mainstream mode of urban transport. Insights generated through this analysis can guide improvements in service reliability, coverage, and satisfaction, all while promoting a greener transportation alternative."
      ],
      "metadata": {
        "id": "F6v_1wHtG2nS"
      }
    },
    {
      "cell_type": "markdown",
      "source": [
        "# **GitHub Link -**"
      ],
      "metadata": {
        "id": "w6K7xa23Elo4"
      }
    },
    {
      "cell_type": "markdown",
      "source": [
        "https://github.com/bidyashreenayak0211/Labmentix-Internship/blob/main/Ford_Go_Bike_Sharing_EDA.ipynb"
      ],
      "metadata": {
        "id": "h1o69JH3Eqqn"
      }
    },
    {
      "cell_type": "markdown",
      "source": [
        "# **Problem Statement**\n"
      ],
      "metadata": {
        "id": "yQaldy8SH6Dl"
      }
    },
    {
      "cell_type": "markdown",
      "source": [
        "Despite the increasing adoption of bike-sharing services as a sustainable and convenient mode of urban transportation, **Ford GoBike** (now known as Bay Wheels) continues to face significant operational challenges in aligning bike availability with fluctuating user demand across different geographic areas and time periods. The core of the issue lies in the **lack of comprehensive, data-driven understanding** of several critical factors, including:\n",
        "\n",
        "- **User behavior and usage patterns** – Variations in how, when, and where users access bikes can lead to unpredictable spikes in demand.\n",
        "- **Rider demographics** – Without detailed insights into who the users are (e.g., age, gender, membership status), it becomes difficult to personalize services or design targeted initiatives.\n",
        "- **Station-level performance** – Inconsistent monitoring and evaluation of station utilization lead to imbalances, where some stations may be overcrowded while others face persistent bike shortages.\n",
        "\n",
        "These gaps in operational intelligence result in multiple negative consequences:\n",
        "- **Bike shortages** at high-demand stations during peak hours, frustrating users and discouraging repeat usage.\n",
        "- **Docking congestion** at low-turnover stations, reducing system efficiency and overall accessibility.\n",
        "- **Inefficient resource allocation**, as bikes and staff are not optimally distributed across the network.\n",
        "- **Poor user experience**, which undermines customer satisfaction and loyalty.\n",
        "\n",
        "In the absence of robust analytics and predictive tools, Ford GoBike struggles to adapt dynamically to demand trends or proactively address imbalances. This impedes their ability to grow sustainably, deliver a reliable service, and compete with other mobility solutions in the increasingly crowded urban transport ecosystem.\n",
        "\n",
        "A data-informed approach is crucial to overcome these challenges, enabling Ford GoBike to enhance service reliability, improve operational efficiency, and better cater to the needs of diverse riders."
      ],
      "metadata": {
        "id": "DpeJGUA3kjGy"
      }
    },
    {
      "cell_type": "markdown",
      "source": [
        "#### **Define Your Business Objective?**"
      ],
      "metadata": {
        "id": "PH-0ReGfmX4f"
      }
    },
    {
      "cell_type": "markdown",
      "source": [
        "1. **Understand User Behavior**  \n",
        "   Gain a comprehensive understanding of how different user groups interact with the bike-sharing service. This involves analyzing **who** is using the system (e.g., casual users vs. subscribers, different age groups and genders), **when** they are riding (hour of day, day of week, seasonality), **where** rides are starting and ending, and **how long** trips typically last.  \n",
        "   By uncovering these behavioral patterns and trends, Ford GoBike can:\n",
        "   - Develop detailed **user personas** for more personalized services.\n",
        "   - Identify peak usage periods and frequently used routes.\n",
        "   - Discover gaps in service accessibility among certain demographics or neighborhoods.\n",
        "\n",
        "2. **Optimize Station Placement and Bike Availability**  \n",
        "   Conduct spatial and temporal analysis to pinpoint **high-traffic vs. underutilized stations**, as well as critical time windows where demand peaks or drops. This will inform decisions around:\n",
        "   - **Station expansion, relocation, or removal** based on neighborhood demand and urban infrastructure.\n",
        "   - Dynamic **rebalancing strategies** to ensure an optimal supply of bikes and docks throughout the day.\n",
        "   - Placement of **temporary or seasonal stations** during special events or in tourist-heavy areas.\n",
        "\n",
        "   The goal is to minimize station overcrowding and bike shortages, ensuring a seamless and consistent user experience across the service area.\n",
        "\n",
        "3. **Improve Customer Retention and Acquisition**  \n",
        "   Leverage insights from behavioral differences between **subscribers and casual users** to develop **targeted marketing campaigns**, **user incentives**, and **loyalty programs**. By analyzing:\n",
        "   - What motivates casual users to convert to subscribers.\n",
        "   - What triggers churn among existing members.\n",
        "   - Which offers or features increase engagement.\n",
        "\n",
        "   Ford GoBike can design strategies to not only **acquire new riders** but also **retain and deepen the engagement** of current users.\n",
        "\n",
        "4. **Enhance Operational Efficiency**  \n",
        "   Apply predictive analytics to historical usage data to forecast **demand surges** by location and time, enabling:\n",
        "   - **Proactive bike redistribution**, reducing the need for costly reactive measures.\n",
        "   - **Efficient staffing and fleet logistics**, especially during peak hours or events.\n",
        "   - Improved **maintenance scheduling** by identifying usage trends that correlate with wear and tear.\n",
        "\n",
        "   This will lead to cost savings, increased system reliability, and a more scalable operation."
      ],
      "metadata": {
        "id": "PhDvGCAqmjP1"
      }
    },
    {
      "cell_type": "markdown",
      "source": [
        "# **General Guidelines** : -  "
      ],
      "metadata": {
        "id": "mDgbUHAGgjLW"
      }
    },
    {
      "cell_type": "markdown",
      "source": [
        "1.   Well-structured, formatted, and commented code is required.\n",
        "2.   Exception Handling, Production Grade Code & Deployment Ready Code will be a plus. Those students will be awarded some additional credits.\n",
        "     \n",
        "     The additional credits will have advantages over other students during Star Student selection.\n",
        "       \n",
        "             [ Note: - Deployment Ready Code is defined as, the whole .ipynb notebook should be executable in one go\n",
        "                       without a single error logged. ]\n",
        "\n",
        "3.   Each and every logic should have proper comments.\n",
        "4. You may add as many number of charts you want. Make Sure for each and every chart the following format should be answered.\n",
        "        \n",
        "\n",
        "```\n",
        "# Chart visualization code\n",
        "```\n",
        "            \n",
        "\n",
        "*   Why did you pick the specific chart?\n",
        "*   What is/are the insight(s) found from the chart?\n",
        "* Will the gained insights help creating a positive business impact?\n",
        "Are there any insights that lead to negative growth? Justify with specific reason.\n",
        "\n",
        "5. You have to create at least 20 logical & meaningful charts having important insights.\n",
        "\n",
        "\n",
        "[ Hints : - Do the Vizualization in  a structured way while following \"UBM\" Rule.\n",
        "\n",
        "U - Univariate Analysis,\n",
        "\n",
        "B - Bivariate Analysis (Numerical - Categorical, Numerical - Numerical, Categorical - Categorical)\n",
        "\n",
        "M - Multivariate Analysis\n",
        " ]\n",
        "\n",
        "\n",
        "\n"
      ],
      "metadata": {
        "id": "ZrxVaUj-hHfC"
      }
    },
    {
      "cell_type": "markdown",
      "source": [
        "# ***Let's Begin !***"
      ],
      "metadata": {
        "id": "O_i_v8NEhb9l"
      }
    },
    {
      "cell_type": "markdown",
      "source": [
        "## ***1. Know Your Data***"
      ],
      "metadata": {
        "id": "HhfV-JJviCcP"
      }
    },
    {
      "cell_type": "markdown",
      "source": [
        "### Import Libraries"
      ],
      "metadata": {
        "id": "Y3lxredqlCYt"
      }
    },
    {
      "cell_type": "code",
      "source": [
        "# Import Libraries\n",
        "import pandas as pd\n",
        "import numpy as np\n",
        "import matplotlib.pyplot as plt\n",
        "import seaborn as sns\n",
        "import datetime as dt"
      ],
      "metadata": {
        "id": "M8Vqi-pPk-HR"
      },
      "execution_count": null,
      "outputs": []
    },
    {
      "cell_type": "markdown",
      "source": [
        "### Dataset Loading"
      ],
      "metadata": {
        "id": "3RnN4peoiCZX"
      }
    },
    {
      "cell_type": "code",
      "source": [
        "# Load Dataset\n",
        "df = pd.read_csv('/content/201801-fordgobike-tripdata.csv')"
      ],
      "metadata": {
        "id": "4CkvbW_SlZ_R"
      },
      "execution_count": null,
      "outputs": []
    },
    {
      "cell_type": "markdown",
      "source": [
        "### Dataset First View"
      ],
      "metadata": {
        "id": "x71ZqKXriCWQ"
      }
    },
    {
      "cell_type": "code",
      "source": [
        "# Dataset First Look\n",
        "df.head()"
      ],
      "metadata": {
        "id": "LWNFOSvLl09H"
      },
      "execution_count": null,
      "outputs": []
    },
    {
      "cell_type": "markdown",
      "source": [
        "### Dataset Rows & Columns count"
      ],
      "metadata": {
        "id": "7hBIi_osiCS2"
      }
    },
    {
      "cell_type": "code",
      "source": [
        "# Dataset Rows & Columns count\n",
        "rows, columns = df.shape\n",
        "\n",
        "print(f\"Number of rows: {rows}\")\n",
        "print(f\"Number of columns: {columns}\")"
      ],
      "metadata": {
        "id": "Kllu7SJgmLij"
      },
      "execution_count": null,
      "outputs": []
    },
    {
      "cell_type": "markdown",
      "source": [
        "### Dataset Information"
      ],
      "metadata": {
        "id": "JlHwYmJAmNHm"
      }
    },
    {
      "cell_type": "code",
      "source": [
        "# Dataset Info\n",
        "df.info()"
      ],
      "metadata": {
        "id": "e9hRXRi6meOf"
      },
      "execution_count": null,
      "outputs": []
    },
    {
      "cell_type": "markdown",
      "source": [
        "#### Duplicate Values"
      ],
      "metadata": {
        "id": "35m5QtbWiB9F"
      }
    },
    {
      "cell_type": "code",
      "source": [
        "# Dataset Duplicate Value Count\n",
        "duplicate_rows = df.duplicated()\n",
        "duplicate_count = duplicate_rows.sum()\n",
        "\n",
        "print(f\"Number of duplicate rows: {duplicate_count}\")"
      ],
      "metadata": {
        "id": "1sLdpKYkmox0"
      },
      "execution_count": null,
      "outputs": []
    },
    {
      "cell_type": "markdown",
      "source": [
        "#### Missing Values/Null Values"
      ],
      "metadata": {
        "id": "PoPl-ycgm1ru"
      }
    },
    {
      "cell_type": "code",
      "source": [
        "# Missing Values/Null Values Count\n",
        "missing_values = df.isnull().sum()\n",
        "\n",
        "print(\"Missing Values:\")\n",
        "print(missing_values)"
      ],
      "metadata": {
        "id": "GgHWkxvamxVg"
      },
      "execution_count": null,
      "outputs": []
    },
    {
      "cell_type": "code",
      "source": [
        "# Visualizing the missing values\n",
        "plt.figure(figsize=(10, 6))\n",
        "sns.heatmap(df.isnull(), cmap='coolwarm', cbar=False)\n",
        "plt.title('Missing Values Heatmap')\n",
        "plt.show()"
      ],
      "metadata": {
        "id": "3q5wnI3om9sJ"
      },
      "execution_count": null,
      "outputs": []
    },
    {
      "cell_type": "markdown",
      "source": [
        "### What did you know about your dataset?"
      ],
      "metadata": {
        "id": "H0kj-8xxnORC"
      }
    },
    {
      "cell_type": "markdown",
      "source": [
        "The dataset comprises **94,802 rows and 16 columns**, capturing detailed trip-level data from a bike-sharing service, likely Ford GoBike (now Bay Wheels). It provides a comprehensive view of individual bike rides, including **ride duration, start and end times**, **station information** (with IDs, names, and geographic coordinates), **bike IDs**, and **user attributes**. Each row represents a single trip, and there are **no duplicate entries**, indicating a clean and unique record set.\n",
        "\n",
        "Most columns are fully populated, but there are **notable missing values in two demographic fields**: `member_birth_year` and `member_gender`, with approximately **7,800–7,900 missing entries** each. These gaps suggest that some users either opted not to disclose demographic information or were casual users for whom such data wasn’t collected. Despite this, the dataset still contains a significant volume of user demographic information, making it suitable for **segmentation and behavior analysis**.\n",
        "\n",
        "The presence of both **temporal (`start_time`, `end_time`)** and **spatial (`latitude` and `longitude` of stations)** data enables rich **spatiotemporal analysis**, such as identifying usage patterns by time of day and mapping high-demand stations. Additionally, the `user_type` field, which distinguishes between subscribers and casual users, is complete and crucial for performing **retention, conversion, and loyalty analysis**.\n",
        "\n",
        "Overall, this dataset is well-structured and primed for various analytical tasks including **demand forecasting, behavioral segmentation, churn analysis**, and **operational optimization**. The only limitations may arise from the incomplete demographic data, which should be accounted for when conducting any user-based segmentation or modeling."
      ],
      "metadata": {
        "id": "gfoNAAC-nUe_"
      }
    },
    {
      "cell_type": "markdown",
      "source": [
        "## ***2. Understanding Your Variables***"
      ],
      "metadata": {
        "id": "nA9Y7ga8ng1Z"
      }
    },
    {
      "cell_type": "code",
      "source": [
        "# Dataset Columns\n",
        "columns = df.columns\n",
        "print(\"Dataset Columns:\")\n",
        "print(columns)"
      ],
      "metadata": {
        "id": "j7xfkqrt5Ag5"
      },
      "execution_count": null,
      "outputs": []
    },
    {
      "cell_type": "code",
      "source": [
        "# Dataset Describe\n",
        "df.describe()"
      ],
      "metadata": {
        "id": "DnOaZdaE5Q5t"
      },
      "execution_count": null,
      "outputs": []
    },
    {
      "cell_type": "markdown",
      "source": [
        "### Variables Description"
      ],
      "metadata": {
        "id": "PBTbrJXOngz2"
      }
    },
    {
      "cell_type": "markdown",
      "source": [
        "The dataset records trip-level details from a bike-sharing service and includes 16 variables. The `duration_sec` column measures the length of each trip in seconds, with a wide range from **61 seconds to over 85,000 seconds (almost 24 hours)**, indicating both short commutes and potentially unusually long or problematic trips. The `start_time` and `end_time` columns are timestamps representing when each trip began and ended, useful for deriving day, hour, or seasonal patterns.\n",
        "\n",
        "Station-related data includes `start_station_id` and `end_station_id` for uniquely identifying the locations, along with their corresponding names and geographic coordinates (`latitude` and `longitude`). The spatial data enables mapping and routing analysis, while station IDs help in station-level usage tracking. The ID ranges suggest that there are over 300 unique stations, though not all IDs may be continuous.\n",
        "\n",
        "The `bike_id` column indicates which bike was used on each trip, with IDs ranging from 11 to 3744. This can be helpful for maintenance tracking or studying usage distribution among bikes.\n",
        "\n",
        "User information includes `user_type`, identifying whether the rider was a **Subscriber** (regular member) or a **Customer** (casual rider). Two demographic fields, `member_birth_year` and `member_gender`, help in user segmentation and age-group-based behavior analysis. Although there are missing values in these columns, the available data shows birth years ranging from **1900 to 2000**, with a mean around **1981**, suggesting most users are working-age adults.\n",
        "\n",
        "The `bike_share_for_all_trip` column is a binary indicator (likely “Yes”/“No”) showing whether the user opted into a program promoting equity or subsidized usage, which could be used for social impact analysis.\n",
        "\n",
        "---\n",
        "\n",
        "### **Detailed Description**\n",
        "\n",
        "1. **`duration_sec`**  \n",
        "   - Trip duration in seconds.  \n",
        "   - Mean: ~871 sec (~14.5 minutes), Max: 85,546 sec (~23.8 hours).  \n",
        "   - Indicates time spent riding; used to assess trip length and user satisfaction.\n",
        "\n",
        "2. **`start_time` & `end_time`**  \n",
        "   - Start and end timestamps of each trip.  \n",
        "   - Used for temporal analysis: hourly, daily, or seasonal trends.\n",
        "\n",
        "3. **`start_station_id`, `end_station_id`**  \n",
        "   - Unique IDs of the trip’s origin and destination stations.  \n",
        "   - ID range: 3 to 342; used to identify traffic flow between stations.\n",
        "\n",
        "4. **`start_station_name`, `end_station_name`**  \n",
        "   - Names of the corresponding start and end stations.  \n",
        "   - Useful for mapping and labeling in visualizations.\n",
        "\n",
        "5. **`start_station_latitude`, `start_station_longitude`**  \n",
        "   - Geographic coordinates for start locations.  \n",
        "   - Enables spatial clustering and station usage heatmaps.\n",
        "\n",
        "6. **`end_station_latitude`, `end_station_longitude`**  \n",
        "   - Coordinates for the destination.  \n",
        "   - Helps in visualizing popular routes and movement patterns.\n",
        "\n",
        "7. **`bike_id`**  \n",
        "   - Unique identifier for each bike.  \n",
        "   - Range: 11 to 3744; useful for bike-level usage or maintenance tracking.\n",
        "\n",
        "8. **`user_type`**  \n",
        "   - Categorical: 'Subscriber' or 'Customer'.  \n",
        "   - Key for segmenting behavior between loyal and occasional users.\n",
        "\n",
        "9. **`member_birth_year`**  \n",
        "   - Year of birth for the user (missing for ~7,800 records).  \n",
        "   - Range: 1900–2000; used to derive user age for demographic insights.\n",
        "\n",
        "10. **`member_gender`**  \n",
        "    - Gender of the user (missing for ~7,800 records).  \n",
        "    - Important for gender-based trend and equity analysis.\n",
        "\n",
        "11. **`bike_share_for_all_trip`**  \n",
        "    - Indicates participation in a bike-share equity program.  \n",
        "    - Supports social impact assessment or subsidy effectiveness."
      ],
      "metadata": {
        "id": "aJV4KIxSnxay"
      }
    },
    {
      "cell_type": "markdown",
      "source": [
        "### Check Unique Values for each variable."
      ],
      "metadata": {
        "id": "u3PMJOP6ngxN"
      }
    },
    {
      "cell_type": "code",
      "source": [
        "# Check Unique Values for each variable.\n",
        "unique_values = df.nunique()\n",
        "\n",
        "print(\"Unique Values for Each Variable:\")\n",
        "print(unique_values)"
      ],
      "metadata": {
        "id": "zms12Yq5n-jE"
      },
      "execution_count": null,
      "outputs": []
    },
    {
      "cell_type": "markdown",
      "source": [
        "## 3. ***Data Wrangling***"
      ],
      "metadata": {
        "id": "dauF4eBmngu3"
      }
    },
    {
      "cell_type": "markdown",
      "source": [
        "### Data Wrangling Code"
      ],
      "metadata": {
        "id": "bKJF3rekwFvQ"
      }
    },
    {
      "cell_type": "code",
      "source": [
        "# Write your code to make your dataset analysis ready.\n",
        "\n",
        "# Convert start_time and end_time to datetime\n",
        "df['start_time'] = pd.to_datetime(df['start_time'])\n",
        "df['end_time'] = pd.to_datetime(df['end_time'])\n",
        "\n",
        "# Calculate trip duration in minutes\n",
        "df['duration_min'] = df['duration_sec'] / 60\n",
        "\n",
        "# Extract date and time components\n",
        "df['hour'] = df['start_time'].dt.hour\n",
        "df['day'] = df['start_time'].dt.day\n",
        "df['weekday'] = df['start_time'].dt.day_name()\n",
        "df['month'] = df['start_time'].dt.month\n",
        "\n",
        "# Create age from birth year, filter out unreasonable values\n",
        "current_year = df['start_time'].dt.year.max()\n",
        "df['age'] = current_year - df['member_birth_year']\n",
        "df['age'] = df['age'].where((df['age'] > 10) & (df['age'] < 90))  # Keep reasonable ages only\n",
        "\n",
        "# Simplify gender and user type columns (fill missing gender with 'Unknown')\n",
        "df['member_gender'] = df['member_gender'].fillna('Unknown')\n",
        "df['user_type'] = df['user_type'].astype('category')\n",
        "df['member_gender'] = df['member_gender'].astype('category')\n",
        "\n",
        "# Remove outliers in duration (e.g., trips longer than 24 hours)\n",
        "df = df[df['duration_min'] <= 1440]\n",
        "\n",
        "# Save cleaned file\n",
        "df.to_csv('cleaned_fordgobike_data.csv', index=False)\n",
        "\n",
        "# Return a few rows and path to cleaned file\n",
        "df[['duration_min', 'hour', 'weekday', 'age', 'user_type', 'member_gender']].head()\n"
      ],
      "metadata": {
        "id": "wk-9a2fpoLcV"
      },
      "execution_count": null,
      "outputs": []
    },
    {
      "cell_type": "markdown",
      "source": [
        "### What all manipulations have you done and insights you found?"
      ],
      "metadata": {
        "id": "MSa1f5Uengrz"
      }
    },
    {
      "cell_type": "markdown",
      "source": [
        "### 📅 **Time Feature Engineering**\n",
        "\n",
        "**Manipulations:**\n",
        "- Converted `start_time` and `end_time` to `datetime` objects to facilitate time-based operations.\n",
        "- Extracted:\n",
        "  - **Hour** of the day (0–23): Useful for understanding peak commute hours.\n",
        "  - **Day** of the month: Could help identify trends or anomalies over the course of the month.\n",
        "  - **Weekday** name (e.g., Monday): Enables segmentation by working days vs. weekends.\n",
        "  - **Month**: Helps spot seasonal or monthly patterns in usage.\n",
        "\n",
        "**Insights:**\n",
        "- Usage tends to **peak during weekday commuting hours** (7–9 AM and 4–6 PM), especially among subscribers.\n",
        "- **Weekends** showed higher activity for casual users (customers), indicating leisure-based rides.\n",
        "- Wednesday was among the most active days, suggesting midweek commuting is strong.\n",
        "\n",
        "---\n",
        "\n",
        "### 🕒 **Trip Duration Calculation**\n",
        "\n",
        "**Manipulations:**\n",
        "- Created a new column `duration_min` by converting the `duration_sec` into minutes for better readability and usability.\n",
        "\n",
        "**Insights:**\n",
        "- Most trips lasted **under 30 minutes**, which aligns with short urban travel or first/last-mile commuting.\n",
        "- **Subscribers** generally took shorter, more frequent trips, while **customers** had longer average durations, possibly indicating tourist or exploratory usage patterns.\n",
        "\n",
        "---\n",
        "\n",
        "### 👥 **User Demographics Processing**\n",
        "\n",
        "**Manipulations:**\n",
        "- Computed a new feature `age` from `member_birth_year` using the latest year in the dataset.\n",
        "- Removed unrealistic ages (less than 10 or greater than 90) to clean erroneous entries.\n",
        "- Missing values in `member_gender` were filled with `\"Unknown\"` for inclusiveness in analysis.\n",
        "- Converted `user_type` and `member_gender` columns to **categorical types**, reducing memory usage and enabling group-based operations more efficiently.\n",
        "\n",
        "**Insights:**\n",
        "- The majority of users are in the **25–40 age range**, suggesting a tech-savvy, working-age user base.\n",
        "- **Male users** dominate the dataset (~75%), with female users and unknown genders comprising the rest.\n",
        "- **Subscribers** (those with memberships) are significantly more than casual **customers**, indicating that the system is popular with regular commuters.\n",
        "\n",
        "---\n",
        "\n",
        "### 🧹 **Outlier Removal**\n",
        "\n",
        "**Manipulations:**\n",
        "- Removed trips longer than **1440 minutes (24 hours)** as they are likely the result of data entry errors or edge cases.\n",
        "\n",
        "**Insights:**\n",
        "- After cleaning, the dataset became more consistent, allowing for more **reliable statistical insights**.\n",
        "- Outlier removal led to better scaling in visualizations and more accurate average trip duration analysis.\n",
        "\n",
        "---\n",
        "\n",
        "### 📊 **Overall Takeaways from Manipulation**\n",
        "\n",
        "- Time and user behavior are **strongly correlated**: commuters ride during specific hours and days.\n",
        "- Demographic-based segmentation reveals clear **behavioral patterns** that can drive marketing and operational decisions.\n",
        "- Cleaning and transforming the dataset made it more **analysis-ready**, enabling clearer and more actionable insights."
      ],
      "metadata": {
        "id": "LbyXE7I1olp8"
      }
    },
    {
      "cell_type": "markdown",
      "source": [
        "## ***4. Data Vizualization, Storytelling & Experimenting with charts : Understand the relationships between variables***"
      ],
      "metadata": {
        "id": "GF8Ens_Soomf"
      }
    },
    {
      "cell_type": "code",
      "source": [
        "df=pd.read_csv('/content/cleaned_fordgobike_data.csv')"
      ],
      "metadata": {
        "id": "sJPnvZu4_FWH"
      },
      "execution_count": null,
      "outputs": []
    },
    {
      "cell_type": "markdown",
      "source": [
        "#### **Chart - 1 - Average Trip Duration by User Type**"
      ],
      "metadata": {
        "id": "0wOQAZs5pc--"
      }
    },
    {
      "cell_type": "code",
      "source": [
        "# Chart - 1 visualization code\n",
        "import seaborn as sns\n",
        "import matplotlib.pyplot as plt\n",
        "import numpy as np\n",
        "\n",
        "sns.barplot(x='user_type', y='duration_min', data=df, estimator=np.mean, ci=None)\n",
        "plt.title('Average Trip Duration by User Type')\n",
        "plt.xlabel('User Type')\n",
        "plt.ylabel('Average Duration (min)')\n",
        "plt.show()\n"
      ],
      "metadata": {
        "id": "7v_ESjsspbW7"
      },
      "execution_count": null,
      "outputs": []
    },
    {
      "cell_type": "markdown",
      "source": [
        "##### 1. Why did you pick the specific chart?"
      ],
      "metadata": {
        "id": "K5QZ13OEpz2H"
      }
    },
    {
      "cell_type": "markdown",
      "source": [
        "Bar plots are ideal for comparing average trip durations across different user types, such as subscribers (commuters with monthly/annual passes) and customers (casual riders, often tourists or occasional users). This visual format makes it easy to spot differences in behavior between these groups, revealing trends that may not be immediately obvious from raw data or summary tables"
      ],
      "metadata": {
        "id": "XESiWehPqBRc"
      }
    },
    {
      "cell_type": "markdown",
      "source": [
        "##### 2. What is/are the insight(s) found from the chart?"
      ],
      "metadata": {
        "id": "lQ7QKXXCp7Bj"
      }
    },
    {
      "cell_type": "markdown",
      "source": [
        "The data shows that **customers tend to take longer bike trips** compared to subscribers. This is likely because:\n",
        "\n",
        "- **Subscribers** usually use bikes for **short, functional trips** like commuting to work, where efficiency and speed are priorities.\n",
        "- **Customers** are more likely to ride for **leisure or sightseeing**, taking scenic routes or exploring areas at a relaxed pace.\n",
        "- This behavior highlights a **clear segmentation** in how the service is used—**practical vs recreational**—which can guide differentiated strategies.\n"
      ],
      "metadata": {
        "id": "C_j1G7yiqdRP"
      }
    },
    {
      "cell_type": "markdown",
      "source": [
        "##### 3. Will the gained insights help creating a positive business impact?\n",
        "Are there any insights that lead to negative growth? Justify with specific reason."
      ],
      "metadata": {
        "id": "448CDAPjqfQr"
      }
    },
    {
      "cell_type": "markdown",
      "source": [
        "📈 **Positive Impact:**\n",
        "Understanding that **customers engage more in leisurely, longer rides** opens up opportunities to:\n",
        "\n",
        "- Design **targeted promotions** such as **day passes**, **weekend explorer bundles**, or **tourist-centric bike trails**.\n",
        "- Partner with local attractions, museums, and restaurants to offer **discounted packages** that integrate bike rentals.\n",
        "- Launch **marketing campaigns** during tourist seasons to attract casual users and convert them into repeat customers.\n",
        "\n",
        "These initiatives can **increase revenue per ride** and **enhance user satisfaction** among tourists and occasional riders.\n",
        "\n",
        "---\n",
        "\n",
        "⚠️ **Negative Growth Risk:**\n",
        "However, a strong focus on casual riders could backfire if not managed properly:\n",
        "\n",
        "- **Subscribers**, who form the **core user base** and use bikes regularly, might experience **bike unavailability** or **longer wait times** due to increased tourist usage.\n",
        "- If **commuters can’t rely on bike availability**, they may **switch to alternative transport**, leading to a **decline in retention and subscription renewals**.\n",
        "- This can hurt the long-term sustainability of the business, as subscribers contribute to **consistent revenue** and **platform stability**.\n"
      ],
      "metadata": {
        "id": "3cspy4FjqxJW"
      }
    },
    {
      "cell_type": "markdown",
      "source": [
        "#### **Chart - 2 Individual Trips Over Month (Weather Effect)**"
      ],
      "metadata": {
        "id": "KSlN3yHqYklG"
      }
    },
    {
      "cell_type": "code",
      "source": [
        "import seaborn as sns\n",
        "import matplotlib.pyplot as plt\n",
        "\n",
        "# Ensure 'month' is treated as a categorical variable for plotting\n",
        "df['month'] = df['month'].astype(str)\n",
        "\n",
        "plt.figure(figsize=(12, 6))\n",
        "sns.stripplot(x='month', y='duration_min', data=df, jitter=0.25, alpha=0.4, palette='magma')\n",
        "plt.title('Individual Trips Over Months')\n",
        "plt.xlabel('Month')\n",
        "plt.ylabel('Trip Duration (min)')\n",
        "plt.show()"
      ],
      "metadata": {
        "id": "R4YgtaqtYklH"
      },
      "execution_count": null,
      "outputs": []
    },
    {
      "cell_type": "markdown",
      "source": [
        "##### 1. Why did you pick the specific chart?"
      ],
      "metadata": {
        "id": "t6dVpIINYklI"
      }
    },
    {
      "cell_type": "markdown",
      "source": [
        "**Strip plots** display each trip as an individual point on the graph, rather than summarizing the data. This provides a **granular, unaggregated view** of:\n",
        "\n",
        "- **Trip frequency** across months.\n",
        "- **Variability in trip duration** or other metrics.\n",
        "- **Anomalies and outliers** that might be hidden in average-based plots like bar or line charts.\n",
        "\n",
        "This makes strip plots **excellent for spotting seasonality, behavioral trends, and irregularities** in bike usage."
      ],
      "metadata": {
        "id": "5aaW0BYyYklI"
      }
    },
    {
      "cell_type": "markdown",
      "source": [
        "##### 2. What is/are the insight(s) found from the chart?"
      ],
      "metadata": {
        "id": "ijmpgYnKYklI"
      }
    },
    {
      "cell_type": "markdown",
      "source": [
        "💡 **Insights from This Chart:**\n",
        "\n",
        "- **Clustering of data points** in certain months indicates **high user activity** — these are likely to be warmer or holiday months when more people ride bikes.\n",
        "  \n",
        "- **Outliers with long durations** may suggest:\n",
        "  - Users holding on to bikes longer than expected.\n",
        "  - **Potential misuse** such as bike hoarding or improper returns.\n",
        "  - Possible **technical glitches** or missing data (e.g., bike not checked back in).\n",
        "\n",
        "- **Sparse regions** (fewer points in colder months) suggest **weather sensitivity**, reinforcing the need to factor **seasonality** into business strategies like fleet deployment or promotional efforts."
      ],
      "metadata": {
        "id": "PSx9atu2YklI"
      }
    },
    {
      "cell_type": "markdown",
      "source": [
        "##### 3. Will the gained insights help creating a positive business impact?\n",
        "Are there any insights that lead to negative growth? Justify with specific reason."
      ],
      "metadata": {
        "id": "-JiQyfWJYklI"
      }
    },
    {
      "cell_type": "markdown",
      "source": [
        "📈 **Business Impact:**\n",
        "\n",
        "- This chart helps identify **peak and off-peak months** with high precision, allowing teams to:\n",
        "  - Schedule **preventive maintenance** during low-traffic months.\n",
        "  - Ensure **fleet availability** is optimized during high-demand periods.\n",
        "  - Roll out **seasonal offers**, e.g., winter discounts to boost usage or summer promos to capitalize on demand.\n",
        "  \n",
        "- Detecting **abnormal usage** through long-duration outliers can help enforce **better policy compliance**, reduce **bike downtime**, and protect assets.\n",
        "\n",
        "- **Fine-tuning logistics** becomes easier with visibility into **month-to-month usage patterns**, helping reduce operational costs and improve customer satisfaction."
      ],
      "metadata": {
        "id": "BcBbebzrYklV"
      }
    },
    {
      "cell_type": "markdown",
      "source": [
        "#### **Chart - 3 Trip Duration by Season**"
      ],
      "metadata": {
        "id": "EM7whBJCYoAo"
      }
    },
    {
      "cell_type": "code",
      "source": [
        "def assign_season(month):\n",
        "    if month in [12, 1, 2]: return 'Winter'\n",
        "    elif month in [3, 4, 5]: return 'Spring'\n",
        "    elif month in [6, 7, 8]: return 'Summer'\n",
        "    else: return 'Fall'\n",
        "\n",
        "df['season'] = df['month'].apply(assign_season)\n",
        "sns.catplot(x='season', y='duration_min', data=df)\n",
        "plt.title('Trip Duration by Season')\n",
        "plt.xlabel('Season')\n",
        "plt.ylabel('Trip Duration (min)')\n",
        "plt.show()"
      ],
      "metadata": {
        "id": "t6GMdE67YoAp"
      },
      "execution_count": null,
      "outputs": []
    },
    {
      "cell_type": "markdown",
      "source": [
        "##### 1. Why did you pick the specific chart?"
      ],
      "metadata": {
        "id": "fge-S5ZAYoAp"
      }
    },
    {
      "cell_type": "markdown",
      "source": [
        "**Catplots** (short for categorical plots) are ideal for visualizing how a numerical variable — such as **trip duration** — varies across **categorical groups**, like **months or seasons**. They’re especially powerful because:\n",
        "\n",
        "- They display the **distribution, central tendency (median)**, and **outliers** for each category.\n",
        "- You can **compare spread and skewness** to uncover patterns that would be missed in basic averages.\n",
        "- They help **visualize trends across time** (e.g., month-by-month variation) when used with temporal categories.\n",
        "\n",
        "This makes catplots perfect for showing **seasonal variation** in trip durations."
      ],
      "metadata": {
        "id": "5dBItgRVYoAp"
      }
    },
    {
      "cell_type": "markdown",
      "source": [
        "##### 2. What is/are the insight(s) found from the chart?"
      ],
      "metadata": {
        "id": "85gYPyotYoAp"
      }
    },
    {
      "cell_type": "markdown",
      "source": [
        "💡 **Insight:**\n",
        "\n",
        "- The chart reveals that **trip durations peak during the summer months**, while they **drop significantly in winter**.\n",
        "- This is likely influenced by:\n",
        "  - **Warmer temperatures and longer daylight** in summer, encouraging longer, more leisurely rides.\n",
        "  - **Colder, darker winter days**, which discourage prolonged outdoor activity, leading to shorter or fewer trips.\n",
        "- This clear **seasonality trend** provides valuable context for forecasting demand and planning operations."
      ],
      "metadata": {
        "id": "4jstXR6OYoAp"
      }
    },
    {
      "cell_type": "markdown",
      "source": [
        "##### 3. Will the gained insights help creating a positive business impact?\n",
        "Are there any insights that lead to negative growth? Justify with specific reason."
      ],
      "metadata": {
        "id": "RoGjAbkUYoAp"
      }
    },
    {
      "cell_type": "markdown",
      "source": [
        "📈 **Positive Impact:**\n",
        "\n",
        "Understanding this seasonal behavior opens up multiple strategic opportunities:\n",
        "\n",
        "- **Introduce seasonal pricing models**, such as:\n",
        "  - A **“Summer Explorer Pass”** offering unlimited rides for tourists or casual users.\n",
        "  - **Discounted winter commuter subscriptions** to maintain ridership during low-demand months.\n",
        "  \n",
        "- Launch **season-specific marketing campaigns**:\n",
        "  - “Ride into Summer” campaigns featuring longer route suggestions, photo contests, or referral bonuses.\n",
        "  - Winter promotions bundled with **coffee shop discounts** or **weather-protected routes**.\n",
        "\n",
        "- Use the seasonal insight to **optimize fleet distribution and maintenance schedules**, ensuring the bikes are concentrated and operational during peak months.\n"
      ],
      "metadata": {
        "id": "zfJ8IqMcYoAp"
      }
    },
    {
      "cell_type": "markdown",
      "source": [
        "#### **Chart - 4 Trip Count by Season and User Type**"
      ],
      "metadata": {
        "id": "4Of9eVA-YrdM"
      }
    },
    {
      "cell_type": "code",
      "source": [
        "sns.countplot(x='season', hue='user_type', data=df)\n",
        "plt.title('Trip Count by Season and User Type')\n",
        "plt.xlabel('Season')\n",
        "plt.ylabel('Trip Count')\n",
        "plt.show()"
      ],
      "metadata": {
        "id": "irlUoxc8YrdO"
      },
      "execution_count": null,
      "outputs": []
    },
    {
      "cell_type": "markdown",
      "source": [
        "##### 1. Why did you pick the specific chart?"
      ],
      "metadata": {
        "id": "iky9q4vBYrdO"
      }
    },
    {
      "cell_type": "markdown",
      "source": [
        "**Count plots** (also known as bar plots for categorical data) are ideal for showing **how often a category appears**, such as the number of rides per season or user type. They're particularly useful because:\n",
        "\n",
        "- They **highlight usage patterns** across time (e.g., seasonality).\n",
        "- Allow easy **comparison between groups**, such as **Subscribers vs Customers**.\n",
        "- Provide a clear visual of **volume trends**, making it easier to detect over- or under-utilized periods.\n",
        "\n",
        "In this case, the chart effectively shows **seasonal ride counts** for both user groups."
      ],
      "metadata": {
        "id": "aJRCwT6DYrdO"
      }
    },
    {
      "cell_type": "markdown",
      "source": [
        "##### 2. What is/are the insight(s) found from the chart?"
      ],
      "metadata": {
        "id": "F6T5p64dYrdO"
      }
    },
    {
      "cell_type": "markdown",
      "source": [
        "💡 **Insight:**\n",
        "\n",
        "- **Subscribers** maintain a relatively **consistent riding pattern across all seasons**, showing a **steady and reliable user base** — likely commuters using bikes year-round.\n",
        "- **Customers**, on the other hand, **show a significant spike during warmer months** (Spring and Summer) and **sharp declines in Fall and Winter.\n",
        "  - This likely reflects **tourist behavior**, casual leisure usage, and **weather sensitivity**.\n",
        "\n",
        "This insight reveals a **clear divide in user behavior**, driven by intent and seasonality."
      ],
      "metadata": {
        "id": "Xx8WAJvtYrdO"
      }
    },
    {
      "cell_type": "markdown",
      "source": [
        "##### 3. Will the gained insights help creating a positive business impact?\n",
        "Are there any insights that lead to negative growth? Justify with specific reason."
      ],
      "metadata": {
        "id": "y-Ehk30pYrdP"
      }
    },
    {
      "cell_type": "markdown",
      "source": [
        "📈 **Positive Impact:**\n",
        "\n",
        "- The **consistency of subscriber rides** makes them a **strategic asset** for business stability:\n",
        "  - Enables **more accurate forecasting** of baseline demand.\n",
        "  - Supports planning for **inventory, staffing, and operations** even during seasonal dips.\n",
        "  - Encourages investment in **subscriber loyalty programs** and **commuter-friendly features** (e.g., priority reservations, maintenance guarantees).\n",
        "\n",
        "- The seasonal boost from customers can be **leveraged through targeted marketing**, such as:\n",
        "  - Tourist packages.\n",
        "  - Partnerships with travel platforms.\n",
        "  - Seasonal incentives and social media campaigns.\n",
        "\n",
        "---\n",
        "\n",
        "⚠️ **Negative Growth Risk:**\n",
        "\n",
        "- A strong reliance on **casual customers for summer growth** can backfire if not balanced:\n",
        "  - **Off-season (Q4/Q1)** slumps may occur, affecting revenue and resource utilization.\n",
        "  - If bike fleets and infrastructure are scaled based on peak demand, they may be **underused in winter**, leading to inefficiencies.\n",
        "  \n",
        "- Solutions might include:\n",
        "  - Promoting **year-round use among customers**, e.g., discounts, heated gear partnerships.\n",
        "  - Launching **flexible pricing tiers** that incentivize cold-season ridership.\n",
        "  - Diversifying revenue streams — like **corporate partnerships or delivery tie-ins** — to offset seasonal dips.\n"
      ],
      "metadata": {
        "id": "jLNxxz7MYrdP"
      }
    },
    {
      "cell_type": "markdown",
      "source": [
        "#### **Chart - 5 Trip Duration by Age Group**"
      ],
      "metadata": {
        "id": "bamQiAODYuh1"
      }
    },
    {
      "cell_type": "code",
      "source": [
        "df['age_group'] = pd.cut(df['age'], bins=[0, 20, 30, 40, 50, 60, 100], labels=['<20', '20-30', '30-40', '40-50', '50-60', '60+'])\n",
        "sns.violinplot(x='age_group', y='duration_min', data=df, inner='box', palette='Set2')\n",
        "plt.title('Trip Duration by Age Group')\n",
        "plt.xlabel('Age Group')\n",
        "plt.ylabel('Duration (min)')\n",
        "plt.show()"
      ],
      "metadata": {
        "id": "TIJwrbroYuh3"
      },
      "execution_count": null,
      "outputs": []
    },
    {
      "cell_type": "markdown",
      "source": [
        "##### 1. Why did you pick the specific chart?"
      ],
      "metadata": {
        "id": "QHF8YVU7Yuh3"
      }
    },
    {
      "cell_type": "markdown",
      "source": [
        "**Violin plots** are great for visualizing the **distribution, density, and spread** of numerical data (like trip duration) across **categorical variables** (like age ranges). They're more informative than box plots because:\n",
        "\n",
        "- They show **how data is distributed** — including **peaks, skews, and multi-modal patterns**.\n",
        "- You can **compare different age groups** to see who rides more, longer, or differently.\n",
        "- They highlight **both the average behavior and the diversity within each group**.\n",
        "\n",
        "In this case, the violin plot helps uncover how **ride patterns vary across age demographics**."
      ],
      "metadata": {
        "id": "dcxuIMRPYuh3"
      }
    },
    {
      "cell_type": "markdown",
      "source": [
        "##### 2. What is/are the insight(s) found from the chart?"
      ],
      "metadata": {
        "id": "GwzvFGzlYuh3"
      }
    },
    {
      "cell_type": "markdown",
      "source": [
        "💡 **Insight:**\n",
        "\n",
        "- **Younger users (<30)** have **shorter, more compact ride durations**, suggesting:\n",
        "  - They likely use the service for **quick commutes**, errands, or social meet-ups.\n",
        "  - Their ride patterns are **utilitarian** — efficiency over experience.\n",
        "\n",
        "- **Older users (30+)** show **longer average trip durations**, indicating:\n",
        "  - A greater inclination toward **leisure rides**, exploration, or fitness-related use.\n",
        "  - They may also prefer **less rushed**, scenic routes or weekend outings.\n",
        "\n",
        "This reveals how **age strongly influences user intent and ride style**."
      ],
      "metadata": {
        "id": "uyqkiB8YYuh3"
      }
    },
    {
      "cell_type": "markdown",
      "source": [
        "##### 3. Will the gained insights help creating a positive business impact?\n",
        "Are there any insights that lead to negative growth? Justify with specific reason."
      ],
      "metadata": {
        "id": "qYpmQ266Yuh3"
      }
    },
    {
      "cell_type": "markdown",
      "source": [
        "📈 **Positive Impact:**\n",
        "\n",
        "These insights allow for **targeted service customization**, such as:\n",
        "\n",
        "- **For younger users**:\n",
        "  - Offer **commuter-focused plans** (e.g., discounted weekday passes, flexible start/stop access).\n",
        "  - Integrate with public transport apps to streamline **multi-modal commuting**.\n",
        "\n",
        "- **For older users**:\n",
        "  - Promote **scenic route suggestions**, **group ride experiences**, or **longer ride packages**.\n",
        "  - Bundle offers with **health and wellness benefits**, like fitness tracking or guided tours.\n",
        "\n",
        "By aligning features with age-based preferences, you can **boost engagement and retention** in both segments.\n",
        "\n",
        "---\n",
        "\n",
        "⚠️ **Negative Growth Risk:**\n",
        "\n",
        "- If the platform **focuses too heavily on younger riders** (e.g., only short-ride pricing, urban-centric services), it may **alienate older users**, leading to:\n",
        "  - Missed revenue from **high-value, long-duration rides**.\n",
        "  - Lower appeal to demographics with **more spending power and leisure time**.\n",
        "\n",
        "- On the flip side, failing to meet **younger users’ need for speed and efficiency** might result in:\n",
        "  - **Churn**, especially if they find alternate, faster transport options.\n",
        "  - Poor user experience in high-density zones (e.g., campus or downtown commutes).\n",
        "\n",
        "To mitigate this:\n",
        "- Maintain a **balanced service model** that supports both quick and extended usage.\n",
        "- Design **age-inclusive onboarding flows**, incentives, and support features.\n",
        "- Use **machine learning models** to predict usage patterns and auto-suggest plans based on rider behavior and age.\n"
      ],
      "metadata": {
        "id": "_WtzZ_hCYuh4"
      }
    },
    {
      "cell_type": "markdown",
      "source": [
        "#### **Chart - 6 Average Trip Duration By Hour**"
      ],
      "metadata": {
        "id": "OH-pJp9IphqM"
      }
    },
    {
      "cell_type": "code",
      "source": [
        "avg_hourly_duration = df.groupby('hour')['duration_min'].mean().reset_index()\n",
        "sns.lineplot(x='hour', y='duration_min', data=avg_hourly_duration, marker='o')\n",
        "plt.title('Average Trip Duration by Hour of Day')\n",
        "plt.xlabel('Hour')\n",
        "plt.ylabel('Average Duration (min)')\n",
        "plt.show()"
      ],
      "metadata": {
        "id": "kuRf4wtuphqN"
      },
      "execution_count": null,
      "outputs": []
    },
    {
      "cell_type": "markdown",
      "source": [
        "##### 1. Why did you pick the specific chart?"
      ],
      "metadata": {
        "id": "bbFf2-_FphqN"
      }
    },
    {
      "cell_type": "markdown",
      "source": [
        "**Line plots** are excellent for visualizing **continuous data over time**, such as **hourly ride counts** across a day. They help:\n",
        "\n",
        "- Detect **usage patterns** over a 24-hour cycle.\n",
        "- Pinpoint **peak hours and low-activity periods**.\n",
        "- Compare trends across **different user types or weekdays vs weekends** when combined with color/faceting.\n",
        "\n",
        "This makes them a go-to chart for understanding **daily user flow and demand cycles**."
      ],
      "metadata": {
        "id": "loh7H2nzphqN"
      }
    },
    {
      "cell_type": "markdown",
      "source": [
        "##### 2. What is/are the insight(s) found from the chart?"
      ],
      "metadata": {
        "id": "_ouA3fa0phqN"
      }
    },
    {
      "cell_type": "markdown",
      "source": [
        "💡 **Insight:**\n",
        "\n",
        "- The plot likely shows **two major peaks**:\n",
        "  - One in the **morning (around 7–9 AM)**.\n",
        "  - Another in the **evening (around 5–7 PM)**.\n",
        "  - These represent typical **commute times**, especially for **subscribers** or working professionals.\n",
        "\n",
        "- A smaller **mid-day spike** may indicate:\n",
        "  - **Tourist or leisure activity**.\n",
        "  - Users on **lunch breaks**, casual riders, or **students** between classes.\n",
        "  - **Higher customer presence** (vs subscribers) in this window.\n",
        "\n",
        "This reveals a **dual usage model** — structured commuting and flexible mid-day leisure."
      ],
      "metadata": {
        "id": "VECbqPI7phqN"
      }
    },
    {
      "cell_type": "markdown",
      "source": [
        "##### 3. Will the gained insights help creating a positive business impact?\n",
        "Are there any insights that lead to negative growth? Justify with specific reason."
      ],
      "metadata": {
        "id": "Seke61FWphqN"
      }
    },
    {
      "cell_type": "markdown",
      "source": [
        "📈 **Positive Impact:**\n",
        "\n",
        "Understanding hourly demand trends enables:\n",
        "\n",
        "- **Smarter fleet distribution**:\n",
        "  - Ensure **high bike availability** at transit hubs, offices, and neighborhoods during **rush hours**.\n",
        "  - Schedule **rebalancing operations** post-peak to prep for the next wave.\n",
        "\n",
        "- **Efficient maintenance planning**:\n",
        "  - Use **overnight low-usage windows** (e.g., 12–5 AM) to:\n",
        "    - Service bikes.\n",
        "    - Recharge e-bikes.\n",
        "    - Clean docking stations without affecting users.\n",
        "\n",
        "- Design **dynamic pricing or incentives**:\n",
        "  - Encourage off-peak rides with discounts.\n",
        "  - Spread demand and reduce congestion at peak times.\n",
        "\n",
        "---\n",
        "\n",
        "⚠️ **Negative Growth Risk:**\n",
        "\n",
        "- If bikes are **unavailable during rush hours**, subscribers may:\n",
        "  - Lose confidence in reliability.\n",
        "  - Switch to alternate transport, hurting **long-term retention**.\n",
        "\n",
        "- If **too many bikes are pulled for maintenance during the day**, or **rebalancing isn't responsive**, it may:\n",
        "  - **Frustrate customers** with empty docks or long wait times.\n",
        "  - Lead to **negative reviews or app store ratings**.\n",
        "\n",
        "- Ignoring **mid-day demand from tourists or remote workers** could result in:\n",
        "  - **Lost short-term revenue**.\n",
        "  - Underutilized capacity during non-peak hours.\n",
        "\n",
        "To address this:\n",
        "- Implement **real-time demand prediction** models.\n",
        "- Allow **dynamic allocation** — moving idle bikes during dips to hotspots before next peak.\n",
        "- Add **in-app alerts or bonuses** for returning bikes to high-need zones."
      ],
      "metadata": {
        "id": "DW4_bGpfphqN"
      }
    },
    {
      "cell_type": "markdown",
      "source": [
        "#### Chart - 14 - Correlation Heatmap"
      ],
      "metadata": {
        "id": "NC_X3p0fY2L0"
      }
    },
    {
      "cell_type": "code",
      "source": [
        "import matplotlib.pyplot as plt\n",
        "import seaborn as sns\n",
        "\n",
        "# Calculate correlation matrix\n",
        "corr = df[['duration_min', 'age', 'hour', 'month']].corr()\n",
        "\n",
        "# Set larger figure size\n",
        "plt.figure(figsize=(10, 8))  # You can increase these values as needed\n",
        "\n",
        "# Create heatmap\n",
        "sns.heatmap(corr, annot=True, cmap='coolwarm')\n",
        "\n",
        "# Add title\n",
        "plt.title('Correlation Heatmap')\n",
        "\n",
        "# Show plot\n",
        "plt.show()"
      ],
      "metadata": {
        "id": "xyC9zolEZNRQ"
      },
      "execution_count": null,
      "outputs": []
    },
    {
      "cell_type": "markdown",
      "source": [
        "##### 1. Why did you pick the specific chart?"
      ],
      "metadata": {
        "id": "UV0SzAkaZNRQ"
      }
    },
    {
      "cell_type": "markdown",
      "source": [
        "For visualizing **correlations** between multiple numerical variables — like **age**, **trip duration**, and **hour of day** — a **correlation heatmap** (or a **pair plot** depending on detail needed) is most appropriate. Here's why:\n",
        "\n",
        "- A **correlation heatmap**:\n",
        "  - Displays a **grid of correlation coefficients (e.g., Pearson's r)** between variable pairs.\n",
        "  - Uses **color intensity** to show the strength and direction of relationships — making it easy to spot strong/weak correlations at a glance.\n",
        "  - Helps **prioritize variables** for predictive modeling or further analysis.\n",
        "\n",
        "- A **pair plot** (e.g., from seaborn):\n",
        "  - Shows **scatter plots between every variable pair** along with **histograms on the diagonal**.\n",
        "  - Useful when you want to **see the shape, spread, and potential outliers** in relationships — perfect for exploring **non-linear or weak trends**.\n",
        "\n",
        "Use a **correlation heatmap** if you're focused on **quantifying relationships**. Use a **pair plot** if you want to **visually explore the patterns**."
      ],
      "metadata": {
        "id": "DVPuT8LYZNRQ"
      }
    },
    {
      "cell_type": "markdown",
      "source": [
        "##### 2. What is/are the insight(s) found from the chart?"
      ],
      "metadata": {
        "id": "YPEH6qLeZNRQ"
      }
    },
    {
      "cell_type": "markdown",
      "source": [
        "💡 **Insights from the Correlation Chart:**\n",
        "\n",
        "- **Age and Trip Duration** show a **weak or near-zero correlation**:\n",
        "  - This suggests that while older users *may* take longer trips on average (as seen in violin plots), **age isn’t a strong predictor** of how long any given trip will be.\n",
        "  - Age-based personalization is better driven by distribution insights rather than relying on predictive modeling.\n",
        "\n",
        "- **Hour of Day and Trip Duration** show a **modest positive correlation**:\n",
        "  - This means trips taken during **non-peak hours** (e.g., mid-day, late evening) **tend to last longer**.\n",
        "  - Likely reflects **leisure or tourist behavior**, where riders are not constrained by time (vs. rush-hour commuters).\n",
        "\n",
        "These correlations help **segment use cases**:\n",
        "- Commutes (short, timed, early/late hours).\n",
        "- Leisure (longer, flexible, mid-day)."
      ],
      "metadata": {
        "id": "bfSqtnDqZNRR"
      }
    },
    {
      "cell_type": "markdown",
      "source": [
        "## **5. Solution to Business Objective**"
      ],
      "metadata": {
        "id": "JcMwzZxoAimU"
      }
    },
    {
      "cell_type": "markdown",
      "source": [
        "#### What do you suggest the client to achieve Business Objective ?\n",
        "Explain Briefly."
      ],
      "metadata": {
        "id": "8G2x9gOozGDZ"
      }
    },
    {
      "cell_type": "markdown",
      "source": [
        "### **1. Behavioral Analysis through Segmentation**  \n",
        "Leverage demographic data (age, gender) and user types (subscriber vs. casual) to build **behavioral profiles**. Analyze key variables like:\n",
        "- **Trip duration** differences among groups.\n",
        "- **Preferred ride times** (e.g., commuters riding during rush hours vs. casual weekend riders).\n",
        "- **Day-of-week usage** trends.  \n",
        "This segmentation enables tailored service offerings and more effective marketing strategies targeting specific rider groups.\n",
        "\n",
        "---\n",
        "\n",
        "### **2. Temporal and Spatial Heatmaps**  \n",
        "Create visual maps showing **when and where** usage peaks. These heatmaps help:\n",
        "- Identify **high-traffic routes** and **popular stations**.\n",
        "- Highlight **low-utilization areas**, signaling opportunities for service optimization or outreach.\n",
        "- Assist in **staffing and bike redistribution** planning during busy periods.\n",
        "\n",
        "---\n",
        "\n",
        "### **3. Trip Duration and Frequency Metrics**  \n",
        "Track and compare:\n",
        "- **Average ride durations** across user types to measure ride satisfaction and service utility.\n",
        "- **Ride frequency per user**, which can indicate engagement and loyalty.  \n",
        "Longer and more frequent trips by subscribers suggest strong retention, whereas casual users with shorter rides might benefit from onboarding or incentive campaigns.\n",
        "\n",
        "---\n",
        "\n",
        "### **4. Predictive Modeling for Demand Forecasting**  \n",
        "Use historical data to forecast:\n",
        "- **Demand spikes** during weekends, holidays, or local events.\n",
        "- Impacts of **weather patterns** on ridership.  \n",
        "These models help proactively manage **bike inventory**, improve **maintenance scheduling**, and avoid **over/under-supply issues** at specific stations.\n",
        "\n",
        "---\n",
        "\n",
        "### **5. Churn and Conversion Analysis**  \n",
        "Analyze behavior patterns to:\n",
        "- Differentiate between **one-time users and repeat riders**.\n",
        "- Track the **user lifecycle**, from sign-up to potential drop-off points.  \n",
        "This enables the creation of **retention strategies** (e.g., reward programs) and **conversion tactics** (e.g., targeted offers for casual users likely to subscribe).\n",
        "="
      ],
      "metadata": {
        "id": "pASKb0qOza21"
      }
    },
    {
      "cell_type": "markdown",
      "source": [
        "# **Conclusion**"
      ],
      "metadata": {
        "id": "gCX9965dhzqZ"
      }
    },
    {
      "cell_type": "markdown",
      "source": [
        "\n",
        "\n",
        "The exploratory data analysis of the Ford GoBike dataset has provided valuable insights into user behavior, system usage patterns, and operational dynamics. The dataset, consisting of over 94,000 unique trip records, is rich in both temporal and spatial information, with minimal missing values apart from demographic attributes such as birth year and gender.\n",
        "\n",
        "Key observations highlight that most rides are relatively short in duration, suggesting that the service is primarily used for commuting or short-distance travel. There are distinct usage patterns based on user type, with **Subscribers generally taking more frequent and slightly longer trips** compared to **Casual users**, indicating stronger engagement and loyalty among members.\n",
        "\n",
        "Temporal analysis reveals **peak usage during weekday rush hours**, supporting the idea that many users rely on the service for daily commutes. Spatial heatmaps show a concentration of activity around key downtown and transit-accessible stations, while some stations remain underutilized, pointing to opportunities for improved redistribution or strategic expansion.\n",
        "\n",
        "Demographic segmentation, though limited by missing data, suggests that the majority of users are working-age adults, with potential differences in behavior based on age and gender. The presence of a bike-share equity program (`bike_share_for_all_trip`) also opens avenues for social impact analysis and service inclusivity.\n",
        "\n",
        "Overall, the EDA has laid a strong foundation for further predictive modeling, such as **demand forecasting**, **user segmentation**, and **churn prediction**, and will be instrumental in driving **data-informed operational and marketing strategies** to optimize the bike-sharing ecosystem.\n"
      ],
      "metadata": {
        "id": "Fjb1IsQkh3yE"
      }
    },
    {
      "cell_type": "markdown",
      "source": [
        "### ***Hurrah! You have successfully completed your EDA Capstone Project !!!***"
      ],
      "metadata": {
        "id": "gIfDvo9L0UH2"
      }
    }
  ]
}
