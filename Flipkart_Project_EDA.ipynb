{
  "nbformat": 4,
  "nbformat_minor": 0,
  "metadata": {
    "colab": {
      "private_outputs": true,
      "provenance": [],
      "collapsed_sections": [
        "vncDsAP0Gaoa",
        "FJNUwmbgGyua",
        "w6K7xa23Elo4",
        "yQaldy8SH6Dl",
        "PH-0ReGfmX4f",
        "mDgbUHAGgjLW",
        "O_i_v8NEhb9l",
        "HhfV-JJviCcP",
        "Y3lxredqlCYt",
        "3RnN4peoiCZX",
        "x71ZqKXriCWQ",
        "7hBIi_osiCS2",
        "JlHwYmJAmNHm",
        "35m5QtbWiB9F",
        "PoPl-ycgm1ru",
        "H0kj-8xxnORC",
        "nA9Y7ga8ng1Z",
        "PBTbrJXOngz2",
        "u3PMJOP6ngxN",
        "dauF4eBmngu3",
        "bKJF3rekwFvQ",
        "MSa1f5Uengrz",
        "GF8Ens_Soomf",
        "0wOQAZs5pc--",
        "K5QZ13OEpz2H",
        "lQ7QKXXCp7Bj",
        "448CDAPjqfQr",
        "KSlN3yHqYklG",
        "t6dVpIINYklI",
        "ijmpgYnKYklI",
        "-JiQyfWJYklI",
        "EM7whBJCYoAo",
        "fge-S5ZAYoAp",
        "85gYPyotYoAp",
        "RoGjAbkUYoAp",
        "4Of9eVA-YrdM",
        "iky9q4vBYrdO",
        "F6T5p64dYrdO",
        "y-Ehk30pYrdP",
        "bamQiAODYuh1",
        "QHF8YVU7Yuh3",
        "GwzvFGzlYuh3",
        "qYpmQ266Yuh3",
        "OH-pJp9IphqM",
        "bbFf2-_FphqN",
        "_ouA3fa0phqN",
        "Seke61FWphqN",
        "PIIx-8_IphqN",
        "t27r6nlMphqO",
        "r2jJGEOYphqO",
        "b0JNsNcRphqO",
        "BZR9WyysphqO",
        "jj7wYXLtphqO",
        "eZrbJ2SmphqO",
        "rFu4xreNphqO",
        "YJ55k-q6phqO",
        "gCFgpxoyphqP",
        "OVtJsKN_phqQ",
        "lssrdh5qphqQ",
        "U2RJ9gkRphqQ",
        "1M8mcRywphqQ",
        "tgIPom80phqQ",
        "JMzcOPDDphqR",
        "x-EpHcCOp1ci",
        "X_VqEhTip1ck",
        "8zGJKyg5p1ck",
        "PVzmfK_Ep1ck",
        "n3dbpmDWp1ck",
        "ylSl6qgtp1ck",
        "ZWILFDl5p1ck",
        "M7G43BXep1ck",
        "Ag9LCva-p1cl",
        "E6MkPsBcp1cl",
        "2cELzS2fp1cl",
        "3MPXvC8up1cl",
        "NC_X3p0fY2L0",
        "UV0SzAkaZNRQ",
        "YPEH6qLeZNRQ",
        "q29F0dvdveiT",
        "EXh0U9oCveiU",
        "22aHeOlLveiV",
        "JcMwzZxoAimU",
        "8G2x9gOozGDZ",
        "gCX9965dhzqZ",
        "gIfDvo9L0UH2"
      ],
      "include_colab_link": true
    },
    "kernelspec": {
      "name": "python3",
      "display_name": "Python 3"
    },
    "language_info": {
      "name": "python"
    }
  },
  "cells": [
    {
      "cell_type": "markdown",
      "metadata": {
        "id": "view-in-github",
        "colab_type": "text"
      },
      "source": [
        "<a href=\"https://colab.research.google.com/github/bidyashreenayak0211/Labmentix-Internship/blob/main/Flipkart_Project_EDA.ipynb\" target=\"_parent\"><img src=\"https://colab.research.google.com/assets/colab-badge.svg\" alt=\"Open In Colab\"/></a>"
      ]
    },
    {
      "cell_type": "markdown",
      "source": [
        "# **Project Name**    -\n",
        "\n"
      ],
      "metadata": {
        "id": "vncDsAP0Gaoa"
      }
    },
    {
      "cell_type": "markdown",
      "source": [
        "##### **Project Type**    - EDA\n",
        "##### **Contribution**    - Individual\n",
        "##### **Name** - Bidyashree Nayak"
      ],
      "metadata": {
        "id": "beRrZCGUAJYm"
      }
    },
    {
      "cell_type": "markdown",
      "source": [
        "# **Project Summary -**"
      ],
      "metadata": {
        "id": "FJNUwmbgGyua"
      }
    },
    {
      "cell_type": "markdown",
      "source": [
        "Flipkart, one of India's leading e-commerce platforms, has revolutionized the online shopping experience by offering a wide range of products, seamless delivery services, and innovative payment solutions. This project explores the journey of Flipkart, its challenges, and the strategic solutions it has implemented to sustain growth in a competitive market.\n",
        "\n",
        "The e-commerce landscape in India has evolved significantly, with increasing internet penetration, digital payment adoption, and changing consumer behaviors. However, Flipkart faces intense competition from domestic and international players, including Amazon, Reliance’s JioMart, and local marketplaces.\n",
        "\n",
        "This project aims to analyze the problems Flipkart encounters, its strategic objectives, and the solutions that have helped it maintain its leadership position. The study also highlights how Flipkart continues to innovate, expand its reach, and enhance customer experience while addressing logistical and operational challenges.\n",
        "\n"
      ],
      "metadata": {
        "id": "F6v_1wHtG2nS"
      }
    },
    {
      "cell_type": "markdown",
      "source": [
        "# **GitHub Link -**"
      ],
      "metadata": {
        "id": "w6K7xa23Elo4"
      }
    },
    {
      "cell_type": "markdown",
      "source": [
        "https://github.com/bidyashreenayak0211/Labmentix-Internship/blob/main/Flipkart_Project_EDA.ipynb"
      ],
      "metadata": {
        "id": "h1o69JH3Eqqn"
      }
    },
    {
      "cell_type": "markdown",
      "source": [
        "# **Problem Statement**\n"
      ],
      "metadata": {
        "id": "yQaldy8SH6Dl"
      }
    },
    {
      "cell_type": "markdown",
      "source": [
        "As India's e-commerce market expands, Flipkart faces several key challenges that impact its growth and sustainability:\n",
        "\n",
        "**Intense Competition –** Competing with Amazon, JioMart, and other local players requires constant innovation and pricing strategies.\n",
        "\n",
        "**Logistics and Supply Chain Issues –** Delivering products across a vast and diverse geography presents challenges related to infrastructure, last-mile delivery, and cost management.\n",
        "\n",
        "**Customer Retention and Satisfaction –** Maintaining customer loyalty in a highly competitive market requires consistent service excellence, personalized experiences, and hassle-free return policies.\n",
        "\n",
        "**Regulatory and Policy Challenges –** Changes in government regulations regarding foreign investment, e-commerce policies, and taxation impact business operations.\n",
        "\n",
        "**Profitability Concerns –** Discount-driven customer acquisition strategies often lead to thin profit margins, making financial sustainability a challenge."
      ],
      "metadata": {
        "id": "DpeJGUA3kjGy"
      }
    },
    {
      "cell_type": "markdown",
      "source": [
        "#### **Define Your Business Objective?**"
      ],
      "metadata": {
        "id": "PH-0ReGfmX4f"
      }
    },
    {
      "cell_type": "markdown",
      "source": [
        "To address these challenges and sustain its market leadership, Flipkart focuses on the following business objectives:\n",
        "\n",
        "**Enhancing Customer Experience –** Improve user interface, faster delivery, personalized recommendations, and customer support.\n",
        "\n",
        "**Strengthening Logistics and Supply Chain –** Invest in warehouse automation, expand regional distribution centers, and optimize last-mile delivery solutions.\n",
        "\n",
        "**Expanding Market Reach –** Penetrate Tier 2 and Tier 3 cities with localized marketing, vernacular language support, and affordable pricing strategies.\n",
        "\n",
        "**Leveraging Technology and AI –**Use data analytics, AI-driven recommendations, and machine learning to improve business decisions and customer engagement.\n",
        "\n",
        "**Diversifying Product Offerings –** Expand categories such as groceries, fashion, and electronics to cater to a broader audience.\n",
        "\n",
        "**Ensuring Compliance and Sustainability –** Adapt to regulatory changes while promoting sustainability in packaging, logistics, and overall operations."
      ],
      "metadata": {
        "id": "PhDvGCAqmjP1"
      }
    },
    {
      "cell_type": "markdown",
      "source": [
        "# **General Guidelines** : -  "
      ],
      "metadata": {
        "id": "mDgbUHAGgjLW"
      }
    },
    {
      "cell_type": "markdown",
      "source": [
        "1.   Well-structured, formatted, and commented code is required.\n",
        "2.   Exception Handling, Production Grade Code & Deployment Ready Code will be a plus. Those students will be awarded some additional credits.\n",
        "     \n",
        "     The additional credits will have advantages over other students during Star Student selection.\n",
        "       \n",
        "             [ Note: - Deployment Ready Code is defined as, the whole .ipynb notebook should be executable in one go\n",
        "                       without a single error logged. ]\n",
        "\n",
        "3.   Each and every logic should have proper comments.\n",
        "4. You may add as many number of charts you want. Make Sure for each and every chart the following format should be answered.\n",
        "        \n",
        "\n",
        "```\n",
        "# Chart visualization code\n",
        "```\n",
        "            \n",
        "\n",
        "*   Why did you pick the specific chart?\n",
        "*   What is/are the insight(s) found from the chart?\n",
        "* Will the gained insights help creating a positive business impact?\n",
        "Are there any insights that lead to negative growth? Justify with specific reason.\n",
        "\n",
        "5. You have to create at least 20 logical & meaningful charts having important insights.\n",
        "\n",
        "\n",
        "[ Hints : - Do the Vizualization in  a structured way while following \"UBM\" Rule.\n",
        "\n",
        "U - Univariate Analysis,\n",
        "\n",
        "B - Bivariate Analysis (Numerical - Categorical, Numerical - Numerical, Categorical - Categorical)\n",
        "\n",
        "M - Multivariate Analysis\n",
        " ]\n",
        "\n",
        "\n",
        "\n"
      ],
      "metadata": {
        "id": "ZrxVaUj-hHfC"
      }
    },
    {
      "cell_type": "markdown",
      "source": [
        "# ***Let's Begin !***"
      ],
      "metadata": {
        "id": "O_i_v8NEhb9l"
      }
    },
    {
      "cell_type": "markdown",
      "source": [
        "## ***1. Know Your Data***"
      ],
      "metadata": {
        "id": "HhfV-JJviCcP"
      }
    },
    {
      "cell_type": "markdown",
      "source": [
        "### Import Libraries"
      ],
      "metadata": {
        "id": "Y3lxredqlCYt"
      }
    },
    {
      "cell_type": "code",
      "source": [
        "# Import Libraries\n",
        "import pandas as pd\n",
        "import numpy as np\n",
        "import matplotlib.pyplot as plt\n",
        "import seaborn as sns"
      ],
      "metadata": {
        "id": "M8Vqi-pPk-HR"
      },
      "execution_count": null,
      "outputs": []
    },
    {
      "cell_type": "markdown",
      "source": [
        "### Dataset Loading"
      ],
      "metadata": {
        "id": "3RnN4peoiCZX"
      }
    },
    {
      "cell_type": "code",
      "source": [
        "# Load Dataset\n",
        "file_path = '/content/Customer_support_data.csv'\n",
        "df = pd.read_csv(file_path)"
      ],
      "metadata": {
        "id": "4CkvbW_SlZ_R"
      },
      "execution_count": null,
      "outputs": []
    },
    {
      "cell_type": "markdown",
      "source": [
        "### Dataset First View"
      ],
      "metadata": {
        "id": "x71ZqKXriCWQ"
      }
    },
    {
      "cell_type": "code",
      "source": [
        "# Dataset First Look\n",
        "df.head()"
      ],
      "metadata": {
        "id": "LWNFOSvLl09H"
      },
      "execution_count": null,
      "outputs": []
    },
    {
      "cell_type": "markdown",
      "source": [
        "### Dataset Rows & Columns count"
      ],
      "metadata": {
        "id": "7hBIi_osiCS2"
      }
    },
    {
      "cell_type": "code",
      "source": [
        "# Dataset Rows & Columns count\n",
        "rows, columns = df.shape\n",
        "print(f\"Rows: {rows}, Columns: {columns}\")"
      ],
      "metadata": {
        "id": "Kllu7SJgmLij"
      },
      "execution_count": null,
      "outputs": []
    },
    {
      "cell_type": "markdown",
      "source": [
        "### Dataset Information"
      ],
      "metadata": {
        "id": "JlHwYmJAmNHm"
      }
    },
    {
      "cell_type": "code",
      "source": [
        "# Dataset Info\n",
        "df.info()"
      ],
      "metadata": {
        "id": "e9hRXRi6meOf"
      },
      "execution_count": null,
      "outputs": []
    },
    {
      "cell_type": "markdown",
      "source": [
        "#### Duplicate Values"
      ],
      "metadata": {
        "id": "35m5QtbWiB9F"
      }
    },
    {
      "cell_type": "code",
      "source": [
        "# Dataset Duplicate Value Count\n",
        "duplicate_count = df.duplicated().sum()\n",
        "print(f\"Number of duplicate rows: {duplicate_count}\")"
      ],
      "metadata": {
        "id": "1sLdpKYkmox0"
      },
      "execution_count": null,
      "outputs": []
    },
    {
      "cell_type": "markdown",
      "source": [
        "#### Missing Values/Null Values"
      ],
      "metadata": {
        "id": "PoPl-ycgm1ru"
      }
    },
    {
      "cell_type": "code",
      "source": [
        "# Missing Values/Null Values Count\n",
        "missing_values = df.isnull().sum()\n",
        "print(missing_values)"
      ],
      "metadata": {
        "id": "GgHWkxvamxVg"
      },
      "execution_count": null,
      "outputs": []
    },
    {
      "cell_type": "code",
      "source": [
        "# Visualizing the missing values\n",
        "\n",
        "# Plot a heatmap for missing values\n",
        "plt.figure(figsize=(12, 6))\n",
        "sns.heatmap(df.isnull(), cbar=False, cmap='RdYlGn', yticklabels=False)\n",
        "plt.title(\"Heatmap of Missing Values\", fontsize=16)\n",
        "plt.show()"
      ],
      "metadata": {
        "id": "3q5wnI3om9sJ"
      },
      "execution_count": null,
      "outputs": []
    },
    {
      "cell_type": "markdown",
      "source": [
        "### What did you know about your dataset?"
      ],
      "metadata": {
        "id": "H0kj-8xxnORC"
      }
    },
    {
      "cell_type": "markdown",
      "source": [
        "The dataset consists of **18,115 rows and 20 columns**, capturing customer interactions, issue resolution, agent performance, and customer satisfaction (CSAT) data. While the dataset is free from duplicate records, it contains **significant missing values** in key columns such as **Customer Remarks (12,181 missing), Order Details (Order ID, Order Date, Product Category, and Item Price), and Customer City (15,189 missing)**. The **Connected Handling Time is almost entirely missing (18,072 missing),** making it unreliable for analysis. On the positive side, **CSAT scores, agent details, and issue timestamps are mostly complete,** making customer satisfaction and agent performance viable areas for analysis. However, the high volume of missing order-related and customer location data may limit insights into product trends and regional service performance. While the dataset is valuable for evaluating response times and customer satisfaction trends, **further data cleaning and imputation may be required** to ensure accurate insights, particularly in areas related to order tracking and customer demographics."
      ],
      "metadata": {
        "id": "gfoNAAC-nUe_"
      }
    },
    {
      "cell_type": "markdown",
      "source": [
        "## ***2. Understanding Your Variables***"
      ],
      "metadata": {
        "id": "nA9Y7ga8ng1Z"
      }
    },
    {
      "cell_type": "code",
      "source": [
        "# Dataset Columns\n",
        "columns = df.columns\n",
        "print(columns)"
      ],
      "metadata": {
        "id": "j7xfkqrt5Ag5"
      },
      "execution_count": null,
      "outputs": []
    },
    {
      "cell_type": "code",
      "source": [
        "# Dataset Describe\n",
        "df.describe()"
      ],
      "metadata": {
        "id": "qgezb2oG8cD7"
      },
      "execution_count": null,
      "outputs": []
    },
    {
      "cell_type": "markdown",
      "source": [
        "### Variables Description"
      ],
      "metadata": {
        "id": "PBTbrJXOngz2"
      }
    },
    {
      "cell_type": "markdown",
      "source": [
        "### **Variable Descriptions**  \n",
        "\n",
        "1. **Unique id** *(object)* – A unique identifier for each customer interaction.  \n",
        "\n",
        "2. **channel_name** *(object)* – The communication channel used by the customer (e.g., phone, email, chat).  \n",
        "\n",
        "3. **category** *(object)* – The broad category of the customer issue (e.g., billing, technical support).  \n",
        "\n",
        "4. **Sub-category** *(object)* – A more specific classification under the main category.  \n",
        "\n",
        "5. **Customer Remarks** *(object, many missing values)* – Any additional comments provided by the customer regarding their issue.  \n",
        "\n",
        "6. **Order_id** *(object, many missing values)* – The order number related to the customer interaction, if applicable.  \n",
        "\n",
        "7. **order_date_time** *(object, many missing values)* – The timestamp when the order was placed.  \n",
        "\n",
        "8. **Issue_reported at** *(datetime, mostly complete)* – The timestamp when the customer reported their issue.  \n",
        "   - **Range:** January 8, 2023 – September 8, 2023.  \n",
        "   - **Mean reported time:** April 17, 2023.  \n",
        "\n",
        "9. **issue_responded** *(object, mostly complete)* – The timestamp when an agent responded to the issue.  \n",
        "\n",
        "10. **Survey_response_Date** *(object, mostly complete)* – The timestamp when the customer provided a survey response.  \n",
        "\n",
        "11. **Customer_City** *(object, many missing values)* – The city where the customer is located.  \n",
        "\n",
        "12. **Product_category** *(object, many missing values)* – The category of the product related to the issue.  \n",
        "\n",
        "13. **Item_price** *(float, highly variable, many missing values)* – The price of the product associated with the issue.  \n",
        "   - **Min:** $9  \n",
        "   - **Max:** $134,999  \n",
        "   - **Mean:** $6,678.86 (highly skewed due to expensive items).  \n",
        "\n",
        "14. **connected_handling_time** *(float, nearly empty)* – The time taken to handle the issue while actively connected.  \n",
        "   - **Few records (43 non-null values), making it unreliable for analysis**.  \n",
        "   - **Min:** 0 minutes, **Max:** 1,115 minutes, **Mean:** 495.81 minutes.  \n",
        "\n",
        "15. **Agent_name** *(object, mostly complete)* – The name of the customer service agent handling the interaction.  \n",
        "\n",
        "16. **Supervisor** *(object, mostly complete)* – The name of the supervisor overseeing the agent.  \n",
        "\n",
        "17. **Manager** *(object, mostly complete)* – The name of the manager responsible for the agent's performance.  \n",
        "\n",
        "18. **Tenure Bucket** *(object, mostly complete)* – The experience level of the agent (e.g., 0-6 months, 1-3 years).  \n",
        "\n",
        "19. **Agent Shift** *(object, mostly complete)* – The shift timing of the agent (e.g., morning, evening, night).  \n",
        "\n",
        "20. **CSAT Score** *(float, mostly complete)* – The customer satisfaction rating given by the customer.  \n",
        "   - **Scale:** 1 to 5  \n",
        "   - **Mean CSAT:** 4.20  \n",
        "   - **Most common ratings:** 4 and 5, indicating generally positive feedback.  \n",
        "\n",
        "21. **Response Time (mins)** *(float, mostly complete)* – The time taken by the agent to respond to an issue.  \n",
        "   - **Min:** 0 minutes, **Max:** 176,769 minutes (outliers likely present).  \n",
        "   - **Median Response Time:** 6 minutes.  \n",
        "   - **Highly skewed distribution due to some extreme values.**  \n",
        "\n",
        "### **Key Observations:**  \n",
        "- Several fields have **high missing values** (Customer Remarks, Order Details, Item Price, Customer City, and Connected Handling Time).  \n",
        "- **Response Time and Item Price are highly skewed** due to extreme values.  \n",
        "- **CSAT scores show an overall positive trend** with a median rating of 5.  \n",
        "- **Issue Reported Dates span from January to September 2023,** with most cases reported around April.  "
      ],
      "metadata": {
        "id": "aJV4KIxSnxay"
      }
    },
    {
      "cell_type": "markdown",
      "source": [
        "### Check Unique Values for each variable."
      ],
      "metadata": {
        "id": "u3PMJOP6ngxN"
      }
    },
    {
      "cell_type": "code",
      "source": [
        "# Check Unique Values for each variable.\n",
        "unique_values = df.nunique()\n",
        "print(unique_values)"
      ],
      "metadata": {
        "id": "zms12Yq5n-jE"
      },
      "execution_count": null,
      "outputs": []
    },
    {
      "cell_type": "markdown",
      "source": [
        "## 3. ***Data Wrangling***"
      ],
      "metadata": {
        "id": "dauF4eBmngu3"
      }
    },
    {
      "cell_type": "markdown",
      "source": [
        "### Data Wrangling Code"
      ],
      "metadata": {
        "id": "bKJF3rekwFvQ"
      }
    },
    {
      "cell_type": "code",
      "source": [
        "# Write your code to make your dataset analysis ready.\n",
        "\n",
        "# Convert date columns to datetime format\n",
        "date_cols = ['order_date_time', 'Issue_reported at', 'issue_responded', 'Survey_response_Date']\n",
        "for col in date_cols:\n",
        "    df[col] = pd.to_datetime(df[col], errors='coerce')\n",
        "\n",
        "# Handling missing values\n",
        "df.fillna({'Customer Remarks': 'No Remarks', 'Customer_City': 'Unknown', 'Product_category': 'Unknown'}, inplace=True)\n",
        "\n",
        "# Feature Engineering: Response Time\n",
        "df['Response Time (mins)'] = (df['issue_responded'] - df['Issue_reported at']).dt.total_seconds() / 60\n",
        "\n",
        "# Dropping irrelevant columns\n",
        "df.drop(columns=['Unique id', 'Order_id'], inplace=True)"
      ],
      "metadata": {
        "id": "wk-9a2fpoLcV"
      },
      "execution_count": null,
      "outputs": []
    },
    {
      "cell_type": "code",
      "source": [
        "# Print first few rows\n",
        "df.head()"
      ],
      "metadata": {
        "id": "aUFo41l9mXEH"
      },
      "execution_count": null,
      "outputs": []
    },
    {
      "cell_type": "markdown",
      "source": [
        "### What all manipulations have you done and insights you found?"
      ],
      "metadata": {
        "id": "MSa1f5Uengrz"
      }
    },
    {
      "cell_type": "markdown",
      "source": [
        " 1. **Convert Date Columns to Datetime Format**  \n",
        "   - **Columns Converted:** `'order_date_time', 'Issue_reported at', 'issue_responded', 'Survey_response_Date'`.  \n",
        "   - **Purpose:** Ensures these columns are in a proper datetime format, allowing for accurate time-based calculations such as response time and trend analysis.  \n",
        "\n",
        "2. **Handling Missing Values**  \n",
        "   - **Customer Remarks:** Replaced `NaN` with `\"No Remarks\"` to ensure missing values do not disrupt text-based analysis.  \n",
        "   - **Customer_City:** Replaced `NaN` with `\"Unknown\"` to avoid dropping records with missing city data.  \n",
        "   - **Product_category:** Replaced `NaN` with `\"Unknown\"` to prevent loss of data due to missing product information.  \n",
        "\n",
        "3. **Feature Engineering – Response Time Calculation**  \n",
        "   - **New Column Created:** `'Response Time (mins)'`  \n",
        "   - **Formula:** `df['issue_responded'] - df['Issue_reported at']`, converted to minutes.  \n",
        "   - **Purpose:** Helps in measuring agent efficiency and identifying trends in response delays.  \n",
        "\n",
        "4. **Dropping Irrelevant Columns**  \n",
        "   - **Columns Dropped:** `'Unique id'` and `'Order_id'`.  \n",
        "   - **Reason:** `'Unique id'` is only an identifier, not useful for analysis. `'Order_id'` has many missing values and is not essential for response time or CSAT analysis.  \n",
        "\n",
        "---\n",
        "\n",
        "### **Insights Found After Data Preparation**  \n",
        "\n",
        "1. **Improved Data Quality for Time-Based Analysis**  \n",
        "   - The dataset can now support **trend analysis on response time, issue resolution speed, and customer feedback timing.**  \n",
        "\n",
        "2. **Customer Data Can Now Be Used for Aggregation**  \n",
        "   - With `\"Unknown\"` as a placeholder for missing values, we can still analyze **customer trends without dropping records.**  \n",
        "\n",
        "3. **Agent Performance Analysis is Possible**  \n",
        "   - The new `'Response Time (mins)'` column enables analysis of **average response times, slowest/fastest agents, and potential process inefficiencies.**  \n",
        "\n",
        "4. **Data Integrity is Maintained**  \n",
        "   - Instead of deleting missing values, we **filled them strategically**, ensuring we retain **maximum data for meaningful insights.**"
      ],
      "metadata": {
        "id": "LbyXE7I1olp8"
      }
    },
    {
      "cell_type": "markdown",
      "source": [
        "## ***4. Data Vizualization, Storytelling & Experimenting with charts : Understand the relationships between variables***"
      ],
      "metadata": {
        "id": "GF8Ens_Soomf"
      }
    },
    {
      "cell_type": "markdown",
      "source": [
        "#### Chart - 1"
      ],
      "metadata": {
        "id": "0wOQAZs5pc--"
      }
    },
    {
      "cell_type": "code",
      "source": [
        "# Chart - 1 visualization code\n",
        "\n",
        "#Count of Customer Interactions by Channel\n",
        "import seaborn as sns\n",
        "\n",
        "plt.figure(figsize=(12,6))\n",
        "sns.countplot(data=df, x='channel_name', order=df['channel_name'].value_counts().index, palette='coolwarm')\n",
        "plt.title('Count of Customer Interactions by Channel')\n",
        "plt.xticks(rotation=45)\n",
        "plt.show()\n"
      ],
      "metadata": {
        "id": "7v_ESjsspbW7"
      },
      "execution_count": null,
      "outputs": []
    },
    {
      "cell_type": "markdown",
      "source": [
        "##### 1. Why did you pick the specific chart?"
      ],
      "metadata": {
        "id": "K5QZ13OEpz2H"
      }
    },
    {
      "cell_type": "markdown",
      "source": [
        "A countplot was chosen because it effectively visualizes categorical data and shows which channels receive the most customer interactions."
      ],
      "metadata": {
        "id": "XESiWehPqBRc"
      }
    },
    {
      "cell_type": "markdown",
      "source": [
        "##### 2. What is/are the insight(s) found from the chart?"
      ],
      "metadata": {
        "id": "lQ7QKXXCp7Bj"
      }
    },
    {
      "cell_type": "markdown",
      "source": [
        "* Some customer service channels (e.g., phone or chat) are used significantly\n",
        "more than others.\n",
        "\n",
        "* If some channels have low engagement, they might need better promotion or improvement"
      ],
      "metadata": {
        "id": "C_j1G7yiqdRP"
      }
    },
    {
      "cell_type": "markdown",
      "source": [
        "##### 3. Will the gained insights help creating a positive business impact?\n",
        "Are there any insights that lead to negative growth? Justify with specific reason."
      ],
      "metadata": {
        "id": "448CDAPjqfQr"
      }
    },
    {
      "cell_type": "markdown",
      "source": [
        "* Yes, businesses can optimize resources by prioritizing the most popular channels.\n",
        "* If a low-engagement channel is costly, it might be discontinued or improved.\n",
        "\n",
        "**Any insights that lead to negative growth?**\n",
        "\n",
        "* If an important channel (e.g., email) has very few interactions, it might indicate accessibility issues.\n",
        "* Customers preferring inefficient channels (e.g., long phone calls instead of self-service options) can increase operational costs."
      ],
      "metadata": {
        "id": "3cspy4FjqxJW"
      }
    },
    {
      "cell_type": "markdown",
      "source": [
        "#### Chart - 2"
      ],
      "metadata": {
        "id": "KSlN3yHqYklG"
      }
    },
    {
      "cell_type": "code",
      "source": [
        "# Chart - 2 visualization code\n",
        "\n",
        "#Distribution of Issue Categories\n",
        "plt.figure(figsize=(12,6))\n",
        "sns.countplot(data=df, x='category', order=df['category'].value_counts().index, palette='viridis')  # Change palette here\n",
        "plt.title('Distribution of Issue Categories')\n",
        "plt.xticks(rotation=90)\n",
        "plt.show()\n"
      ],
      "metadata": {
        "id": "R4YgtaqtYklH"
      },
      "execution_count": null,
      "outputs": []
    },
    {
      "cell_type": "markdown",
      "source": [
        "##### 1. Why did you pick the specific chart?"
      ],
      "metadata": {
        "id": "t6dVpIINYklI"
      }
    },
    {
      "cell_type": "markdown",
      "source": [
        "A countplot clearly shows which issue categories are most frequent, helping to identify major customer pain points."
      ],
      "metadata": {
        "id": "5aaW0BYyYklI"
      }
    },
    {
      "cell_type": "markdown",
      "source": [
        "##### 2. What is/are the insight(s) found from the chart?"
      ],
      "metadata": {
        "id": "ijmpgYnKYklI"
      }
    },
    {
      "cell_type": "markdown",
      "source": [
        "Certain issues occur more frequently than others, possibly indicating a recurring product or service problem."
      ],
      "metadata": {
        "id": "PSx9atu2YklI"
      }
    },
    {
      "cell_type": "markdown",
      "source": [
        "##### 3. Will the gained insights help creating a positive business impact?\n",
        "Are there any insights that lead to negative growth? Justify with specific reason."
      ],
      "metadata": {
        "id": "-JiQyfWJYklI"
      }
    },
    {
      "cell_type": "markdown",
      "source": [
        "Yes, addressing the most common issues can significantly improve customer satisfaction and reduce support costs.\n",
        "\n",
        "**Any insights that lead to negative growth?**\n",
        "\n",
        "If a particular issue is consistently high, it could signal a deeper product or service flaw, leading to higher churn rates if not resolved."
      ],
      "metadata": {
        "id": "BcBbebzrYklV"
      }
    },
    {
      "cell_type": "markdown",
      "source": [
        "#### Chart - 3"
      ],
      "metadata": {
        "id": "EM7whBJCYoAo"
      }
    },
    {
      "cell_type": "code",
      "source": [
        "# Chart - 3 visualization code\n",
        "\n",
        "df['Issue_reported at'] = pd.to_datetime(df['Issue_reported at'], errors='coerce')\n",
        "\n",
        "#Daily Trend of Reported Issues\n",
        "plt.figure(figsize=(12,6))\n",
        "df.groupby(df['Issue_reported at'].dt.date).size().plot(color='red')  # Change color here\n",
        "plt.title('Daily Trend of Reported Issues')\n",
        "plt.xlabel('Date')\n",
        "plt.ylabel('Number of Issues')\n",
        "plt.xticks(rotation=45)\n",
        "plt.show()"
      ],
      "metadata": {
        "id": "t6GMdE67YoAp"
      },
      "execution_count": null,
      "outputs": []
    },
    {
      "cell_type": "markdown",
      "source": [
        "##### 1. Why did you pick the specific chart?"
      ],
      "metadata": {
        "id": "fge-S5ZAYoAp"
      }
    },
    {
      "cell_type": "markdown",
      "source": [
        "A line plot is the best way to visualize trends over time and identify patterns in issue reporting."
      ],
      "metadata": {
        "id": "5dBItgRVYoAp"
      }
    },
    {
      "cell_type": "markdown",
      "source": [
        "##### 2. What is/are the insight(s) found from the chart?"
      ],
      "metadata": {
        "id": "85gYPyotYoAp"
      }
    },
    {
      "cell_type": "markdown",
      "source": [
        "Peaks in issue reporting may correlate with product launches, marketing campaigns, or seasonal demand fluctuations."
      ],
      "metadata": {
        "id": "4jstXR6OYoAp"
      }
    },
    {
      "cell_type": "markdown",
      "source": [
        "##### 3. Will the gained insights help creating a positive business impact?\n",
        "Are there any insights that lead to negative growth? Justify with specific reason."
      ],
      "metadata": {
        "id": "RoGjAbkUYoAp"
      }
    },
    {
      "cell_type": "markdown",
      "source": [
        "Helps predict when to allocate more customer service resources.\n",
        "Identifies specific dates where issues surged, helping diagnose root causes.\n",
        "\n",
        "**Any insights that lead to negative growth?**\n",
        "\n",
        "A consistent upward trend in reported issues could indicate deteriorating service or product quality.Answer Here"
      ],
      "metadata": {
        "id": "zfJ8IqMcYoAp"
      }
    },
    {
      "cell_type": "markdown",
      "source": [
        "#### Chart - 4"
      ],
      "metadata": {
        "id": "4Of9eVA-YrdM"
      }
    },
    {
      "cell_type": "code",
      "source": [
        "# Chart - 4 visualization code\n",
        "\n",
        "#Response Time Distribution by Category\n",
        "plt.figure(figsize=(12,6))\n",
        "sns.boxplot(data=df, x='category', y='Response Time (mins)', palette='coolwarm')  # Change palette here\n",
        "plt.title('Response Time Distribution by Category')\n",
        "plt.xticks(rotation=90)\n",
        "plt.yscale('log')\n",
        "plt.show()\n"
      ],
      "metadata": {
        "id": "irlUoxc8YrdO"
      },
      "execution_count": null,
      "outputs": []
    },
    {
      "cell_type": "markdown",
      "source": [
        "##### 1. Why did you pick the specific chart?"
      ],
      "metadata": {
        "id": "iky9q4vBYrdO"
      }
    },
    {
      "cell_type": "markdown",
      "source": [
        "A boxplot is ideal for analyzing the spread of response times across different categories, including outliers"
      ],
      "metadata": {
        "id": "aJRCwT6DYrdO"
      }
    },
    {
      "cell_type": "markdown",
      "source": [
        "##### 2. What is/are the insight(s) found from the chart?"
      ],
      "metadata": {
        "id": "F6T5p64dYrdO"
      }
    },
    {
      "cell_type": "markdown",
      "source": [
        "Some categories have a much wider range of response times, indicating inconsistency."
      ],
      "metadata": {
        "id": "Xx8WAJvtYrdO"
      }
    },
    {
      "cell_type": "markdown",
      "source": [
        "##### 3. Will the gained insights help creating a positive business impact?\n",
        "Are there any insights that lead to negative growth? Justify with specific reason."
      ],
      "metadata": {
        "id": "y-Ehk30pYrdP"
      }
    },
    {
      "cell_type": "markdown",
      "source": [
        "* Helps identify which categories need faster response times.\n",
        "* Supports better staffing and training decisions.\n",
        "\n",
        "**Any insights that lead to negative growth?**\n",
        "\n",
        "If some categories have extremely high response times, customers may become frustrated and leave."
      ],
      "metadata": {
        "id": "jLNxxz7MYrdP"
      }
    },
    {
      "cell_type": "markdown",
      "source": [
        "#### Chart - 5"
      ],
      "metadata": {
        "id": "bamQiAODYuh1"
      }
    },
    {
      "cell_type": "code",
      "source": [
        "# Chart - 5 visualization code\n",
        "\n",
        "#Distribution of CSAT Scores\n",
        "plt.figure(figsize=(12,6))\n",
        "sns.histplot(df['CSAT Score'], bins=10, kde=True)\n",
        "plt.title('Distribution of CSAT Scores')\n",
        "plt.xlabel('CSAT Score')\n",
        "plt.ylabel('Count')\n",
        "plt.show()"
      ],
      "metadata": {
        "id": "TIJwrbroYuh3"
      },
      "execution_count": null,
      "outputs": []
    },
    {
      "cell_type": "markdown",
      "source": [
        "##### 1. Why did you pick the specific chart?"
      ],
      "metadata": {
        "id": "QHF8YVU7Yuh3"
      }
    },
    {
      "cell_type": "markdown",
      "source": [
        "A histogram is best for showing the overall distribution of customer satisfaction scores."
      ],
      "metadata": {
        "id": "dcxuIMRPYuh3"
      }
    },
    {
      "cell_type": "markdown",
      "source": [
        "##### 2. What is/are the insight(s) found from the chart?"
      ],
      "metadata": {
        "id": "GwzvFGzlYuh3"
      }
    },
    {
      "cell_type": "markdown",
      "source": [
        "* If the CSAT scores are mostly low, it indicates dissatisfaction.\n",
        "* A high concentration of high scores suggests strong service performance."
      ],
      "metadata": {
        "id": "uyqkiB8YYuh3"
      }
    },
    {
      "cell_type": "markdown",
      "source": [
        "##### 3. Will the gained insights help creating a positive business impact?\n",
        "Are there any insights that lead to negative growth? Justify with specific reason."
      ],
      "metadata": {
        "id": "qYpmQ266Yuh3"
      }
    },
    {
      "cell_type": "markdown",
      "source": [
        "* Helps businesses understand overall customer sentiment.\n",
        "* Can be used to improve policies, training, or product quality.\n",
        "\n",
        "**Any insights that lead to negative growth?**\n",
        "\n",
        "If the CSAT score distribution skews toward low values, it suggests systemic service issues that need urgent fixing."
      ],
      "metadata": {
        "id": "_WtzZ_hCYuh4"
      }
    },
    {
      "cell_type": "markdown",
      "source": [
        "#### Chart - 6"
      ],
      "metadata": {
        "id": "OH-pJp9IphqM"
      }
    },
    {
      "cell_type": "code",
      "source": [
        "# Chart - 6 visualization code\n",
        "\n",
        "#Proportion of Agent Shifts\n",
        "plt.figure(figsize=(12,6))\n",
        "df['Agent Shift'].value_counts().plot.pie(autopct='%1.1f%%', startangle=90)\n",
        "plt.title('Proportion of Agent Shifts')\n",
        "plt.ylabel('')\n",
        "plt.show()"
      ],
      "metadata": {
        "id": "kuRf4wtuphqN"
      },
      "execution_count": null,
      "outputs": []
    },
    {
      "cell_type": "markdown",
      "source": [
        "##### 1. Why did you pick the specific chart?"
      ],
      "metadata": {
        "id": "bbFf2-_FphqN"
      }
    },
    {
      "cell_type": "markdown",
      "source": [
        "A pie chart is useful for visualizing proportional distribution."
      ],
      "metadata": {
        "id": "loh7H2nzphqN"
      }
    },
    {
      "cell_type": "markdown",
      "source": [
        "##### 2. What is/are the insight(s) found from the chart?"
      ],
      "metadata": {
        "id": "_ouA3fa0phqN"
      }
    },
    {
      "cell_type": "markdown",
      "source": [
        "Some shifts might be overstaffed or understaffed."
      ],
      "metadata": {
        "id": "VECbqPI7phqN"
      }
    },
    {
      "cell_type": "markdown",
      "source": [
        "##### 3. Will the gained insights help creating a positive business impact?\n",
        "Are there any insights that lead to negative growth? Justify with specific reason."
      ],
      "metadata": {
        "id": "Seke61FWphqN"
      }
    },
    {
      "cell_type": "markdown",
      "source": [
        "Helps with workforce planning and shift optimization.\n",
        "\n",
        "**Any insights that lead to negative growth?**\n",
        "\n",
        "If a shift has very few agents but high demand, response times will suffer."
      ],
      "metadata": {
        "id": "DW4_bGpfphqN"
      }
    },
    {
      "cell_type": "markdown",
      "source": [
        "#### Chart - 7"
      ],
      "metadata": {
        "id": "PIIx-8_IphqN"
      }
    },
    {
      "cell_type": "code",
      "source": [
        "# Chart - 7 visualization code\n",
        "\n",
        "#Tenure Bucket Distribution of Agents\n",
        "plt.figure(figsize=(12,6))\n",
        "sns.countplot(data=df, x='Tenure Bucket', order=df['Tenure Bucket'].value_counts().index, palette='Set2')  # Change palette here\n",
        "plt.title('Tenure Bucket Distribution of Agents')\n",
        "plt.show()"
      ],
      "metadata": {
        "id": "lqAIGUfyphqO"
      },
      "execution_count": null,
      "outputs": []
    },
    {
      "cell_type": "markdown",
      "source": [
        "##### 1. Why did you pick the specific chart?"
      ],
      "metadata": {
        "id": "t27r6nlMphqO"
      }
    },
    {
      "cell_type": "markdown",
      "source": [
        "A countplot shows how many agents fall into each tenure bucket."
      ],
      "metadata": {
        "id": "iv6ro40sphqO"
      }
    },
    {
      "cell_type": "markdown",
      "source": [
        "##### 2. What is/are the insight(s) found from the chart?"
      ],
      "metadata": {
        "id": "r2jJGEOYphqO"
      }
    },
    {
      "cell_type": "markdown",
      "source": [
        "A high proportion of new agents may indicate high turnover."
      ],
      "metadata": {
        "id": "Po6ZPi4hphqO"
      }
    },
    {
      "cell_type": "markdown",
      "source": [
        "##### 3. Will the gained insights help creating a positive business impact?\n",
        "Are there any insights that lead to negative growth? Justify with specific reason."
      ],
      "metadata": {
        "id": "b0JNsNcRphqO"
      }
    },
    {
      "cell_type": "markdown",
      "source": [
        "Helps HR teams design retention strategies.\n",
        "\n",
        "**Any insights that lead to negative growth?**\n",
        "\n",
        "If most agents have low tenure, service quality may be impacted due to inexperience."
      ],
      "metadata": {
        "id": "xvSq8iUTphqO"
      }
    },
    {
      "cell_type": "markdown",
      "source": [
        "#### Chart - 8"
      ],
      "metadata": {
        "id": "BZR9WyysphqO"
      }
    },
    {
      "cell_type": "code",
      "source": [
        "# Chart - 8 visualization code\n",
        "\n",
        "#Response Time by Agent Shift\n",
        "plt.figure(figsize=(12,6))\n",
        "sns.boxplot(data=df, x='Agent Shift', y='Response Time (mins)', palette=\"Paired\")\n",
        "plt.title('Response Time by Agent Shift')\n",
        "plt.yscale('log')\n",
        "plt.show()"
      ],
      "metadata": {
        "id": "TdPTWpAVphqO"
      },
      "execution_count": null,
      "outputs": []
    },
    {
      "cell_type": "markdown",
      "source": [
        "##### 1. Why did you pick the specific chart?"
      ],
      "metadata": {
        "id": "jj7wYXLtphqO"
      }
    },
    {
      "cell_type": "markdown",
      "source": [
        "A boxplot highlights variation in response time across shifts."
      ],
      "metadata": {
        "id": "Ob8u6rCTphqO"
      }
    },
    {
      "cell_type": "markdown",
      "source": [
        "##### 2. What is/are the insight(s) found from the chart?"
      ],
      "metadata": {
        "id": "eZrbJ2SmphqO"
      }
    },
    {
      "cell_type": "markdown",
      "source": [
        "Certain shifts may have significantly slower response times."
      ],
      "metadata": {
        "id": "mZtgC_hjphqO"
      }
    },
    {
      "cell_type": "markdown",
      "source": [
        "##### 3. Will the gained insights help creating a positive business impact?\n",
        "Are there any insights that lead to negative growth? Justify with specific reason."
      ],
      "metadata": {
        "id": "rFu4xreNphqO"
      }
    },
    {
      "cell_type": "markdown",
      "source": [
        "Helps in optimizing staffing decisions.\n",
        "\n",
        "**Any insights that lead to negative growth?**\n",
        "\n",
        "If response times are consistently high for a shift, customer satisfaction will decline."
      ],
      "metadata": {
        "id": "ey_0qi68phqO"
      }
    },
    {
      "cell_type": "markdown",
      "source": [
        "#### Chart - 9"
      ],
      "metadata": {
        "id": "YJ55k-q6phqO"
      }
    },
    {
      "cell_type": "code",
      "source": [
        "# Chart - 9 visualization code\n",
        "\n",
        "#Count of Issues by Product Categor\n",
        "plt.figure(figsize=(12,6))\n",
        "sns.countplot(data=df, x='Product_category', order=df['Product_category'].value_counts().index , palette = 'Set1')\n",
        "plt.title('Count of Issues by Product Category')\n",
        "plt.xticks(rotation=90)\n",
        "plt.show()"
      ],
      "metadata": {
        "id": "B2aS4O1ophqO"
      },
      "execution_count": null,
      "outputs": []
    },
    {
      "cell_type": "markdown",
      "source": [
        "##### 1. Why did you pick the specific chart?"
      ],
      "metadata": {
        "id": "gCFgpxoyphqP"
      }
    },
    {
      "cell_type": "markdown",
      "source": [
        "A countplot highlights the most problematic product categories."
      ],
      "metadata": {
        "id": "TVxDimi2phqP"
      }
    },
    {
      "cell_type": "markdown",
      "source": [
        "##### 2. What is/are the insight(s) found from the chart?"
      ],
      "metadata": {
        "id": "OVtJsKN_phqQ"
      }
    },
    {
      "cell_type": "markdown",
      "source": [
        "Some product categories have significantly more reported issues"
      ],
      "metadata": {
        "id": "ngGi97qjphqQ"
      }
    },
    {
      "cell_type": "markdown",
      "source": [
        "##### 3. Will the gained insights help creating a positive business impact?\n",
        "Are there any insights that lead to negative growth? Justify with specific reason."
      ],
      "metadata": {
        "id": "lssrdh5qphqQ"
      }
    },
    {
      "cell_type": "markdown",
      "source": [
        "Helps in identifying and fixing problematic products.\n",
        "\n",
        "**Any insights that lead to negative growth?**\n",
        "\n",
        "If one category dominates, it might hurt brand perception."
      ],
      "metadata": {
        "id": "tBpY5ekJphqQ"
      }
    },
    {
      "cell_type": "markdown",
      "source": [
        "#### Chart - 10"
      ],
      "metadata": {
        "id": "U2RJ9gkRphqQ"
      }
    },
    {
      "cell_type": "code",
      "source": [
        "# Chart - 10 visualization code\n",
        "\n",
        "#Item Price vs. Response Time\n",
        "plt.figure(figsize=(12,6))\n",
        "sns.scatterplot(data=df, x='Item_price', y='Response Time (mins)', alpha=0.5)\n",
        "plt.title('Item Price vs. Response Time')\n",
        "plt.yscale('log')\n",
        "plt.show()"
      ],
      "metadata": {
        "id": "GM7a4YP4phqQ"
      },
      "execution_count": null,
      "outputs": []
    },
    {
      "cell_type": "markdown",
      "source": [
        "##### 1. Why did you pick the specific chart?"
      ],
      "metadata": {
        "id": "1M8mcRywphqQ"
      }
    },
    {
      "cell_type": "markdown",
      "source": [
        "A scatter plot helps in analyzing the correlation between price and response time."
      ],
      "metadata": {
        "id": "8agQvks0phqQ"
      }
    },
    {
      "cell_type": "markdown",
      "source": [
        "##### 2. What is/are the insight(s) found from the chart?"
      ],
      "metadata": {
        "id": "tgIPom80phqQ"
      }
    },
    {
      "cell_type": "markdown",
      "source": [
        "High-priced items may be receiving faster/slower support than others."
      ],
      "metadata": {
        "id": "Qp13pnNzphqQ"
      }
    },
    {
      "cell_type": "markdown",
      "source": [
        "##### 3. Will the gained insights help creating a positive business impact?\n",
        "Are there any insights that lead to negative growth? Justify with specific reason."
      ],
      "metadata": {
        "id": "JMzcOPDDphqR"
      }
    },
    {
      "cell_type": "markdown",
      "source": [
        "Ensures pricing and support alignment.\n",
        "\n",
        "**Any insights that lead to negative growth?**\n",
        "\n",
        "If expensive items have slow responses, it could lead to customer churn."
      ],
      "metadata": {
        "id": "R4Ka1PC2phqR"
      }
    },
    {
      "cell_type": "markdown",
      "source": [
        "#### Chart - 11"
      ],
      "metadata": {
        "id": "x-EpHcCOp1ci"
      }
    },
    {
      "cell_type": "code",
      "source": [
        "# Chart - 11 visualization code\n",
        "\n",
        "#CSAT Score Distribution by Category\n",
        "plt.figure(figsize=(12,6))\n",
        "sns.violinplot(data=df, x='category', y='CSAT Score')\n",
        "plt.title('CSAT Score Distribution by Category')\n",
        "plt.xticks(rotation=90)\n",
        "plt.show()"
      ],
      "metadata": {
        "id": "mAQTIvtqp1cj"
      },
      "execution_count": null,
      "outputs": []
    },
    {
      "cell_type": "markdown",
      "source": [
        "##### 1. Why did you pick the specific chart?"
      ],
      "metadata": {
        "id": "X_VqEhTip1ck"
      }
    },
    {
      "cell_type": "markdown",
      "source": [
        "A violin plot is useful for comparing distributions across multiple categories."
      ],
      "metadata": {
        "id": "-vsMzt_np1ck"
      }
    },
    {
      "cell_type": "markdown",
      "source": [
        "##### 2. What is/are the insight(s) found from the chart?"
      ],
      "metadata": {
        "id": "8zGJKyg5p1ck"
      }
    },
    {
      "cell_type": "markdown",
      "source": [
        "Some categories have a much wider variation in CSAT scores."
      ],
      "metadata": {
        "id": "ZYdMsrqVp1ck"
      }
    },
    {
      "cell_type": "markdown",
      "source": [
        "##### 3. Will the gained insights help creating a positive business impact?\n",
        "Are there any insights that lead to negative growth? Justify with specific reason."
      ],
      "metadata": {
        "id": "PVzmfK_Ep1ck"
      }
    },
    {
      "cell_type": "markdown",
      "source": [
        "Helps businesses focus on improving service in low-rated categories.\n",
        "\n",
        "**Any insights that lead to negative growth?**\n",
        "\n",
        "If certain categories consistently have low CSAT, brand reputation may suffer."
      ],
      "metadata": {
        "id": "druuKYZpp1ck"
      }
    },
    {
      "cell_type": "markdown",
      "source": [
        "#### Chart - 12"
      ],
      "metadata": {
        "id": "n3dbpmDWp1ck"
      }
    },
    {
      "cell_type": "code",
      "source": [
        "# Chart - 12 visualization code\n",
        "\n",
        "#Top 10 Slowest Responding Agents\n",
        "plt.figure(figsize=(12,6))\n",
        "\n",
        "# Define a color palette (choose one)\n",
        "palette = 'viridis'  # Or try 'coolwarm', 'plasma', 'magma', etc.\n",
        "\n",
        "df.groupby('Agent_name')['Response Time (mins)'].mean().nlargest(10).plot(kind='bar', colormap=palette)\n",
        "\n",
        "plt.title('Top 10 Slowest Responding Agents')\n",
        "plt.ylabel('Avg. Response Time (mins)')\n",
        "plt.xlabel('Agent Name')\n",
        "plt.xticks(rotation=45)  # Rotate x-axis labels for readability\n",
        "plt.show()\n"
      ],
      "metadata": {
        "id": "bwevp1tKp1ck"
      },
      "execution_count": null,
      "outputs": []
    },
    {
      "cell_type": "markdown",
      "source": [
        "##### 1. Why did you pick the specific chart?"
      ],
      "metadata": {
        "id": "ylSl6qgtp1ck"
      }
    },
    {
      "cell_type": "markdown",
      "source": [
        "* A bar chart was chosen because it is an effective way to rank agents based on their average response time.\n",
        "* It highlights the agents with the slowest response times, helping identify performance issues."
      ],
      "metadata": {
        "id": "m2xqNkiQp1ck"
      }
    },
    {
      "cell_type": "markdown",
      "source": [
        "##### 2. What is/are the insight(s) found from the chart?"
      ],
      "metadata": {
        "id": "ZWILFDl5p1ck"
      }
    },
    {
      "cell_type": "markdown",
      "source": [
        "* The slowest agents have significantly higher response times than others, indicating inefficiencies.\n",
        "* Some agents may require additional training or workload adjustments."
      ],
      "metadata": {
        "id": "x-lUsV2mp1ck"
      }
    },
    {
      "cell_type": "markdown",
      "source": [
        "##### 3. Will the gained insights help creating a positive business impact?\n",
        "Are there any insights that lead to negative growth? Justify with specific reason."
      ],
      "metadata": {
        "id": "M7G43BXep1ck"
      }
    },
    {
      "cell_type": "markdown",
      "source": [
        "* Yes, by identifying underperforming agents, managers can provide targeted training.\n",
        "* Workload balancing can be adjusted if response time issues stem from excessive queries.\n",
        "* Addressing slow responses can increase customer satisfaction and retention.\n",
        "\n",
        "**Any insights that lead to negative growth?**\n",
        "* If these slowest agents are not coached or reassigned, customer frustration and churn may increase.\n",
        "* Long response times can lead to poor CSAT scores and negative brand perception."
      ],
      "metadata": {
        "id": "5wwDJXsLp1cl"
      }
    },
    {
      "cell_type": "markdown",
      "source": [
        "#### Chart - 13"
      ],
      "metadata": {
        "id": "Ag9LCva-p1cl"
      }
    },
    {
      "cell_type": "code",
      "source": [
        "# Chart - 13 visualization code\n",
        "\n",
        "#Average CSAT Score by Manager\n",
        "plt.figure(figsize=(12,6))\n",
        "df.groupby('Manager')['CSAT Score'].mean().plot(kind='bar', color='pink')  # Change color here\n",
        "plt.title('Average CSAT Score by Manager')\n",
        "plt.ylabel('Avg. CSAT Score')\n",
        "plt.show()\n"
      ],
      "metadata": {
        "id": "EUfxeq9-p1cl"
      },
      "execution_count": null,
      "outputs": []
    },
    {
      "cell_type": "markdown",
      "source": [
        "##### 1. Why did you pick the specific chart?"
      ],
      "metadata": {
        "id": "E6MkPsBcp1cl"
      }
    },
    {
      "cell_type": "markdown",
      "source": [
        "A bar chart was used to compare CSAT scores across different managers, helping assess leadership effectiveness."
      ],
      "metadata": {
        "id": "V22bRsFWp1cl"
      }
    },
    {
      "cell_type": "markdown",
      "source": [
        "##### 2. What is/are the insight(s) found from the chart?"
      ],
      "metadata": {
        "id": "2cELzS2fp1cl"
      }
    },
    {
      "cell_type": "markdown",
      "source": [
        "* Managers with higher CSAT scores likely lead better-performing teams.\n",
        "* Lower-scoring managers may need leadership training or better team support."
      ],
      "metadata": {
        "id": "ozQPc2_Ip1cl"
      }
    },
    {
      "cell_type": "markdown",
      "source": [
        "##### 3. Will the gained insights help creating a positive business impact?\n",
        "Are there any insights that lead to negative growth? Justify with specific reason."
      ],
      "metadata": {
        "id": "3MPXvC8up1cl"
      }
    },
    {
      "cell_type": "markdown",
      "source": [
        "* Helps reward and promote high-performing managers.\n",
        "* Identifies managers who need additional support, ultimately leading to improved service quality.\n",
        "\n",
        "Any insights that lead to negative growth?\n",
        "\n",
        "If low CSAT managers are not held accountable, it can result in poor service quality, high attrition, and dissatisfied customers."
      ],
      "metadata": {
        "id": "GL8l1tdLp1cl"
      }
    },
    {
      "cell_type": "markdown",
      "source": [
        "#### Chart - 14"
      ],
      "metadata": {
        "id": "NC_X3p0fY2L0"
      }
    },
    {
      "cell_type": "code",
      "source": [
        "# Chart 14 - Visualization code\n",
        "\n",
        "#Top 10 Fastest Responding Supervisors\n",
        "plt.figure(figsize=(12,6))\n",
        "colors = sns.color_palette('husl', 10)  # Generates 10 different colors\n",
        "df.groupby('Supervisor')['Response Time (mins)'].mean().nsmallest(10).plot(kind='bar', color=colors)\n",
        "plt.title('Top 10 Fastest Responding Supervisors')\n",
        "plt.ylabel('Avg. Response Time (mins)')\n",
        "plt.show()"
      ],
      "metadata": {
        "id": "xyC9zolEZNRQ"
      },
      "execution_count": null,
      "outputs": []
    },
    {
      "cell_type": "markdown",
      "source": [
        "##### 1. Why did you pick the specific chart?"
      ],
      "metadata": {
        "id": "UV0SzAkaZNRQ"
      }
    },
    {
      "cell_type": "markdown",
      "source": [
        "* A bar chart effectively ranks supervisors based on their average response time.\n",
        "* Helps recognize supervisors who efficiently manage escalations and team performance."
      ],
      "metadata": {
        "id": "DVPuT8LYZNRQ"
      }
    },
    {
      "cell_type": "markdown",
      "source": [
        "##### 2. What is/are the insight(s) found from the chart?"
      ],
      "metadata": {
        "id": "YPEH6qLeZNRQ"
      }
    },
    {
      "cell_type": "markdown",
      "source": [
        "* Some supervisors are significantly faster in handling issues, indicating efficient problem-solving skills.\n",
        "* The slowest supervisors might be overburdened or need better time management."
      ],
      "metadata": {
        "id": "bfSqtnDqZNRR"
      }
    },
    {
      "cell_type": "markdown",
      "source": [
        "3. Will the gained insights help creating a positive business impact?\n",
        "\n",
        "Are there any insights that lead to negative growth? Justify with specific reason."
      ],
      "metadata": {
        "id": "PYXCkAOQ3Iwb"
      }
    },
    {
      "cell_type": "markdown",
      "source": [
        "* Helps reward high-performing supervisors and use their strategies as best practices.\n",
        "* Can reallocate workload to balance response times across supervisors.\n",
        "\n",
        "**Any insights that lead to negative growth?**\n",
        "* If slow supervisors are not supported, it can increase issue resolution times, leading to customer dissatisfaction.\n",
        "* Unequal workload distribution may burn out top-performing supervisors."
      ],
      "metadata": {
        "id": "FzahPior3rEW"
      }
    },
    {
      "cell_type": "markdown",
      "source": [
        "#### Chart - 15"
      ],
      "metadata": {
        "id": "q29F0dvdveiT"
      }
    },
    {
      "cell_type": "code",
      "source": [
        "#Chart 15 - Visualization code\n",
        "\n",
        "#Top 10 Customer Cities\n",
        "plt.figure(figsize=(12,6))\n",
        "colors = sns.color_palette('pastel', 10)  # Using a pastel color palette\n",
        "df['Customer_City'].value_counts().nlargest(10).plot(kind='bar', color=colors)\n",
        "plt.title('Top 10 Customer Cities')\n",
        "plt.ylabel('Count')\n",
        "plt.show()"
      ],
      "metadata": {
        "id": "o58-TEIhveiU"
      },
      "execution_count": null,
      "outputs": []
    },
    {
      "cell_type": "markdown",
      "source": [
        "##### 1. Why did you pick the specific chart?"
      ],
      "metadata": {
        "id": "EXh0U9oCveiU"
      }
    },
    {
      "cell_type": "markdown",
      "source": [
        "* A bar chart helps visualize which cities have the highest number of customers.\n",
        "* Useful for regional business expansion and service allocation."
      ],
      "metadata": {
        "id": "eMmPjTByveiU"
      }
    },
    {
      "cell_type": "markdown",
      "source": [
        "##### 2. What is/are the insight(s) found from the chart?"
      ],
      "metadata": {
        "id": "22aHeOlLveiV"
      }
    },
    {
      "cell_type": "markdown",
      "source": [
        "* The highest volume cities may need more customer service agents.\n",
        "* Some high-issue cities may indicate product/service problems in those regions."
      ],
      "metadata": {
        "id": "IYsBSGCx4CAg"
      }
    },
    {
      "cell_type": "markdown",
      "source": [
        "\n",
        "3.Will the gained insights help creating a positive business impact?\n",
        "\n",
        "Are there any insights that lead to negative growth? Justify with specific reason."
      ],
      "metadata": {
        "id": "FuaYwQmG37YG"
      }
    },
    {
      "cell_type": "markdown",
      "source": [
        "* Businesses can allocate more resources to high-traffic cities, reducing response times and improving satisfaction.\n",
        "* Helps in planning location-based promotions or service expansions.\n",
        "\n",
        "**Any insights that lead to negative growth?**\n",
        "* If certain cities have high complaints and low CSAT, it indicates poor service in that region.\n",
        "* Failing to address service issues in key cities can lead to regional brand damage and customer loss."
      ],
      "metadata": {
        "id": "uPQ8RGwHveiV"
      }
    },
    {
      "cell_type": "markdown",
      "source": [
        "## **5. Solution to Business Objective**"
      ],
      "metadata": {
        "id": "JcMwzZxoAimU"
      }
    },
    {
      "cell_type": "markdown",
      "source": [
        "#### What do you suggest the client to achieve Business Objective ?\n",
        "Explain Briefly."
      ],
      "metadata": {
        "id": "8G2x9gOozGDZ"
      }
    },
    {
      "cell_type": "markdown",
      "source": [
        "To meet its business objectives, Flipkart has implemented strategic solutions, including:\n",
        "\n",
        "**1.Supply Chain and Logistics Optimization**\n",
        "\n",
        "* Development of \"Flipkart Logistics\" to streamline warehouse management and last-mile delivery.\n",
        "* Introduction of Flipkart Assured for faster and quality-checked deliveries.\n",
        "* Investment in AI-powered inventory management to optimize stock levels.\n",
        "\n",
        "**2.Customer-Centric Innovations**\n",
        "\n",
        "* AI-driven product recommendations and chatbots for customer support.\n",
        "Personalized shopping experiences through data analytics.\n",
        "* Easy return policies and no-cost EMI options to attract and retain customers.\n",
        "\n",
        "**3.Competitive Pricing and Affordability Initiatives**\n",
        "\n",
        "* \"Big Billion Days\" and other exclusive sales events to drive traffic and boost revenue.\n",
        "* Partnerships with banks for cashback and EMI offers to increase affordability.\n",
        "* Introduction of Flipkart Pay Later for easy financing options.\n",
        "\n",
        "**4.Technological Advancements**\n",
        "\n",
        "* Use of machine learning to detect fraudulent transactions and enhance security.\n",
        "* Integration of voice search and vernacular language support to cater to diverse demographics.\n",
        "* Implementation of AR/VR features for a better online shopping experience.\n",
        "\n",
        "**5.Strategic Partnerships and Market Expansion**\n",
        "\n",
        "* Walmart’s acquisition of Flipkart strengthened financial backing and expertise.\n",
        "* Expansion into new segments like grocery and fashion through Flipkart Wholesale and Flipkart Health+.\n",
        "* Focus on rural e-commerce by introducing hyperlocal delivery and seller support programs."
      ],
      "metadata": {
        "id": "pASKb0qOza21"
      }
    },
    {
      "cell_type": "markdown",
      "source": [
        "# **Conclusion**"
      ],
      "metadata": {
        "id": "gCX9965dhzqZ"
      }
    },
    {
      "cell_type": "markdown",
      "source": [
        "Flipkart’s journey highlights the evolution of e-commerce in India and the strategic initiatives required to remain competitive in a dynamic market. By continuously investing in technology, logistics, and customer experience, Flipkart has positioned itself as a market leader. However, with rising competition and changing regulatory landscapes, the company must continue to innovate and adapt.\n",
        "\n",
        "The solutions implemented by Flipkart showcase how data-driven strategies, customer-centric policies, and efficient supply chain management can drive success in the digital economy. As it expands further into new segments, sustainability, profitability, and compliance will be key to its long-term growth."
      ],
      "metadata": {
        "id": "Fjb1IsQkh3yE"
      }
    },
    {
      "cell_type": "markdown",
      "source": [
        "### ***Hurrah! You have successfully completed your EDA Capstone Project !!!***"
      ],
      "metadata": {
        "id": "gIfDvo9L0UH2"
      }
    }
  ]
}
