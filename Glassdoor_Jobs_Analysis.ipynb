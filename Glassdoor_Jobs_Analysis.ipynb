{
  "nbformat": 4,
  "nbformat_minor": 0,
  "metadata": {
    "colab": {
      "private_outputs": true,
      "provenance": [],
      "collapsed_sections": [
        "vncDsAP0Gaoa",
        "FJNUwmbgGyua",
        "w6K7xa23Elo4",
        "yQaldy8SH6Dl",
        "PH-0ReGfmX4f",
        "mDgbUHAGgjLW",
        "O_i_v8NEhb9l",
        "HhfV-JJviCcP",
        "Y3lxredqlCYt",
        "3RnN4peoiCZX",
        "x71ZqKXriCWQ",
        "7hBIi_osiCS2",
        "JlHwYmJAmNHm",
        "35m5QtbWiB9F",
        "PoPl-ycgm1ru",
        "H0kj-8xxnORC",
        "nA9Y7ga8ng1Z",
        "PBTbrJXOngz2",
        "u3PMJOP6ngxN",
        "dauF4eBmngu3",
        "bKJF3rekwFvQ",
        "MSa1f5Uengrz",
        "GF8Ens_Soomf",
        "0wOQAZs5pc--",
        "K5QZ13OEpz2H",
        "lQ7QKXXCp7Bj",
        "448CDAPjqfQr",
        "KSlN3yHqYklG",
        "t6dVpIINYklI",
        "ijmpgYnKYklI",
        "-JiQyfWJYklI",
        "EM7whBJCYoAo",
        "fge-S5ZAYoAp",
        "85gYPyotYoAp",
        "RoGjAbkUYoAp",
        "4Of9eVA-YrdM",
        "iky9q4vBYrdO",
        "F6T5p64dYrdO",
        "y-Ehk30pYrdP",
        "bamQiAODYuh1",
        "QHF8YVU7Yuh3",
        "GwzvFGzlYuh3",
        "qYpmQ266Yuh3",
        "OH-pJp9IphqM",
        "bbFf2-_FphqN",
        "_ouA3fa0phqN",
        "Seke61FWphqN",
        "PIIx-8_IphqN",
        "t27r6nlMphqO",
        "r2jJGEOYphqO",
        "b0JNsNcRphqO",
        "BZR9WyysphqO",
        "jj7wYXLtphqO",
        "eZrbJ2SmphqO",
        "rFu4xreNphqO",
        "YJ55k-q6phqO",
        "gCFgpxoyphqP",
        "OVtJsKN_phqQ",
        "lssrdh5qphqQ",
        "U2RJ9gkRphqQ",
        "1M8mcRywphqQ",
        "tgIPom80phqQ",
        "JMzcOPDDphqR",
        "x-EpHcCOp1ci",
        "X_VqEhTip1ck",
        "8zGJKyg5p1ck",
        "PVzmfK_Ep1ck",
        "n3dbpmDWp1ck",
        "ylSl6qgtp1ck",
        "ZWILFDl5p1ck",
        "M7G43BXep1ck",
        "Ag9LCva-p1cl",
        "E6MkPsBcp1cl",
        "2cELzS2fp1cl",
        "3MPXvC8up1cl",
        "NC_X3p0fY2L0",
        "UV0SzAkaZNRQ",
        "YPEH6qLeZNRQ",
        "q29F0dvdveiT",
        "EXh0U9oCveiU",
        "22aHeOlLveiV",
        "JcMwzZxoAimU",
        "8G2x9gOozGDZ",
        "gCX9965dhzqZ",
        "gIfDvo9L0UH2"
      ],
      "include_colab_link": true
    },
    "kernelspec": {
      "name": "python3",
      "display_name": "Python 3"
    },
    "language_info": {
      "name": "python"
    }
  },
  "cells": [
    {
      "cell_type": "markdown",
      "metadata": {
        "id": "view-in-github",
        "colab_type": "text"
      },
      "source": [
        "<a href=\"https://colab.research.google.com/github/bidyashreenayak0211/Labmentix-Internship/blob/main/Glassdoor_Jobs_Analysis.ipynb\" target=\"_parent\"><img src=\"https://colab.research.google.com/assets/colab-badge.svg\" alt=\"Open In Colab\"/></a>"
      ]
    },
    {
      "cell_type": "markdown",
      "source": [
        "# **Project Name**    - **Glassdoor Jobs Analysis**\n",
        "\n"
      ],
      "metadata": {
        "id": "vncDsAP0Gaoa"
      }
    },
    {
      "cell_type": "markdown",
      "source": [
        "##### **Project Type**    - EDA\n",
        "##### **Contribution**    - Individual\n",
        "##### **Team Member  -** **Bidyashree Nayak**\n"
      ],
      "metadata": {
        "id": "beRrZCGUAJYm"
      }
    },
    {
      "cell_type": "markdown",
      "source": [
        "# **Project Summary -**"
      ],
      "metadata": {
        "id": "FJNUwmbgGyua"
      }
    },
    {
      "cell_type": "markdown",
      "source": [
        "The dataset titled **Glassdoor_Jobs** outlines a business challenge related to Glassdoor, a platform known for company reviews, salary insights, and job listings. The project aims to address specific challenges faced by Glassdoor and enhance its effectiveness in providing valuable insights to job seekers and employers.  \n",
        "\n",
        "Glassdoor serves as a crucial tool for job seekers to assess potential employers through employee reviews, salary transparency, and workplace culture insights. However, the platform faces certain limitations that affect its credibility, engagement, and the overall user experience. This project seeks to analyze these challenges and propose viable solutions to improve the platform’s value proposition for all stakeholders.  \n",
        "\n",
        "One of the key issues in focus is the authenticity of reviews and ratings on the platform. Many companies have been accused of manipulating their ratings by encouraging positive reviews or flagging negative ones for removal. This leads to a credibility gap, making it difficult for job seekers to trust the information available on Glassdoor. Additionally, anonymous reviews sometimes lack constructive feedback, reducing their usefulness to both job seekers and employers.  \n",
        "\n",
        "Another major concern is the effectiveness of salary data. While Glassdoor provides salary insights based on employee submissions, these figures may be outdated or inconsistent across different job roles and industries. This can create unrealistic salary expectations for job seekers or mislead employers about industry standards.  \n",
        "\n",
        "From a business perspective, Glassdoor must balance providing free, reliable content to job seekers with generating revenue from employers. Companies that advertise job postings or use Glassdoor’s employer branding services often expect favorable representation, which can create conflicts between maintaining transparency and meeting business objectives.  \n",
        "\n",
        "User engagement is another area of concern. Many users visit Glassdoor only during job transitions and do not return regularly, leading to fluctuating engagement levels. A lack of continuous interaction limits the potential for Glassdoor to build a strong professional community.  \n",
        "\n",
        "The project aims to:  \n",
        "\n",
        "1. **Improve Review Authenticity** – Exploring mechanisms such as AI-driven verification or stricter moderation to ensure reviews are genuine and unbiased.  \n",
        "2. **Enhance Salary Data Accuracy** – Developing methods to validate salary submissions and provide real-time compensation insights.  \n",
        "3. **Balance Transparency with Revenue Goals** – Identifying strategies that allow Glassdoor to maintain credibility while monetizing employer services effectively.  \n",
        "4. **Increase User Engagement** – Encouraging ongoing participation through new features, career insights, or networking opportunities.  \n",
        "\n",
        "By addressing these challenges, Glassdoor can strengthen its reputation as a trusted source of job market insights and improve the experience for both job seekers and employers. This project will conduct a deep analysis of user behavior, competitor strategies, and technological advancements to formulate actionable recommendations.  \n"
      ],
      "metadata": {
        "id": "F6v_1wHtG2nS"
      }
    },
    {
      "cell_type": "markdown",
      "source": [
        "# **GitHub Link -**"
      ],
      "metadata": {
        "id": "w6K7xa23Elo4"
      }
    },
    {
      "cell_type": "markdown",
      "source": [
        "Provide your GitHub Link here."
      ],
      "metadata": {
        "id": "h1o69JH3Eqqn"
      }
    },
    {
      "cell_type": "markdown",
      "source": [
        "# **Problem Statement**\n"
      ],
      "metadata": {
        "id": "yQaldy8SH6Dl"
      }
    },
    {
      "cell_type": "markdown",
      "source": [
        "There is a growing need for organizations to analyze employee feedback on platforms like Glassdoor efficiently. Businesses struggle to extract meaningful insights due to the vast amount of unstructured data, subjective nature of reviews, and potential bias in ratings. The problem revolves around understanding employee sentiment, improving employer branding, and making data-driven decisions to enhance workplace satisfaction and attract top talent."
      ],
      "metadata": {
        "id": "DpeJGUA3kjGy"
      }
    },
    {
      "cell_type": "markdown",
      "source": [
        "#### **Define Your Business Objective?**"
      ],
      "metadata": {
        "id": "PH-0ReGfmX4f"
      }
    },
    {
      "cell_type": "markdown",
      "source": [
        "####**1.Develop an Analytical Framework –** Build a systematic approach to process and analyze Glassdoor reviews efficiently.\n",
        "####**2.Extract Actionable Insights –**Use data-driven techniques to identify trends, sentiment, and key factors influencing company ratings.\n",
        "####**3.Enhance Employer Branding –** Provide businesses with tools to manage their reputation by addressing employee concerns.\n",
        "####**4.Improve Decision-Making –** Help HR and management teams make informed decisions based on feedback trends.\n",
        "#### **5.Monitor and Optimize Employee Satisfaction –** Track changes in employee sentiment over time and implement strategic improvements."
      ],
      "metadata": {
        "id": "PhDvGCAqmjP1"
      }
    },
    {
      "cell_type": "markdown",
      "source": [
        "# **General Guidelines** : -  "
      ],
      "metadata": {
        "id": "mDgbUHAGgjLW"
      }
    },
    {
      "cell_type": "markdown",
      "source": [
        "1.   Well-structured, formatted, and commented code is required.\n",
        "2.   Exception Handling, Production Grade Code & Deployment Ready Code will be a plus. Those students will be awarded some additional credits.\n",
        "     \n",
        "     The additional credits will have advantages over other students during Star Student selection.\n",
        "       \n",
        "             [ Note: - Deployment Ready Code is defined as, the whole .ipynb notebook should be executable in one go\n",
        "                       without a single error logged. ]\n",
        "\n",
        "3.   Each and every logic should have proper comments.\n",
        "4. You may add as many number of charts you want. Make Sure for each and every chart the following format should be answered.\n",
        "        \n",
        "\n",
        "```\n",
        "# Chart visualization code\n",
        "```\n",
        "            \n",
        "\n",
        "*   Why did you pick the specific chart?\n",
        "*   What is/are the insight(s) found from the chart?\n",
        "* Will the gained insights help creating a positive business impact?\n",
        "Are there any insights that lead to negative growth? Justify with specific reason.\n",
        "\n",
        "5. You have to create at least 20 logical & meaningful charts having important insights.\n",
        "\n",
        "\n",
        "[ Hints : - Do the Vizualization in  a structured way while following \"UBM\" Rule.\n",
        "\n",
        "U - Univariate Analysis,\n",
        "\n",
        "B - Bivariate Analysis (Numerical - Categorical, Numerical - Numerical, Categorical - Categorical)\n",
        "\n",
        "M - Multivariate Analysis\n",
        " ]\n",
        "\n",
        "\n",
        "\n"
      ],
      "metadata": {
        "id": "ZrxVaUj-hHfC"
      }
    },
    {
      "cell_type": "markdown",
      "source": [
        "# ***Let's Begin !***"
      ],
      "metadata": {
        "id": "O_i_v8NEhb9l"
      }
    },
    {
      "cell_type": "markdown",
      "source": [
        "## ***1. Know Your Data***"
      ],
      "metadata": {
        "id": "HhfV-JJviCcP"
      }
    },
    {
      "cell_type": "markdown",
      "source": [
        "### Import Libraries"
      ],
      "metadata": {
        "id": "Y3lxredqlCYt"
      }
    },
    {
      "cell_type": "code",
      "source": [
        "# Import Libraries\n",
        "import pandas as pd\n",
        "import numpy as np\n",
        "import matplotlib.pyplot as plt\n",
        "import seaborn as sns"
      ],
      "metadata": {
        "id": "M8Vqi-pPk-HR"
      },
      "execution_count": null,
      "outputs": []
    },
    {
      "cell_type": "markdown",
      "source": [
        "### Dataset Loading"
      ],
      "metadata": {
        "id": "3RnN4peoiCZX"
      }
    },
    {
      "cell_type": "code",
      "source": [
        "# Load Dataset\n",
        "file_path = '/content/glassdoor_jobs.csv'\n",
        "df = pd.read_csv(file_path)"
      ],
      "metadata": {
        "id": "4CkvbW_SlZ_R"
      },
      "execution_count": null,
      "outputs": []
    },
    {
      "cell_type": "markdown",
      "source": [
        "### Dataset First View"
      ],
      "metadata": {
        "id": "x71ZqKXriCWQ"
      }
    },
    {
      "cell_type": "code",
      "source": [
        "# Dataset First Look\n",
        "df.head()"
      ],
      "metadata": {
        "id": "LWNFOSvLl09H"
      },
      "execution_count": null,
      "outputs": []
    },
    {
      "cell_type": "markdown",
      "source": [
        "### Dataset Rows & Columns count"
      ],
      "metadata": {
        "id": "7hBIi_osiCS2"
      }
    },
    {
      "cell_type": "code",
      "source": [
        "# Dataset Rows & Columns count\n",
        "rows, columns = df.shape\n",
        "print(f\"Rows: {rows}, Columns: {columns}\")"
      ],
      "metadata": {
        "id": "Kllu7SJgmLij"
      },
      "execution_count": null,
      "outputs": []
    },
    {
      "cell_type": "markdown",
      "source": [
        "### Dataset Information"
      ],
      "metadata": {
        "id": "JlHwYmJAmNHm"
      }
    },
    {
      "cell_type": "code",
      "source": [
        "# Dataset Info\n",
        "df.info()"
      ],
      "metadata": {
        "id": "e9hRXRi6meOf"
      },
      "execution_count": null,
      "outputs": []
    },
    {
      "cell_type": "markdown",
      "source": [
        "#### Duplicate Values"
      ],
      "metadata": {
        "id": "35m5QtbWiB9F"
      }
    },
    {
      "cell_type": "code",
      "source": [
        "# Dataset Duplicate Value Count\n",
        "duplicate_count = df.duplicated().sum()\n",
        "print(f\"Number of duplicate rows: {duplicate_count}\")"
      ],
      "metadata": {
        "id": "1sLdpKYkmox0"
      },
      "execution_count": null,
      "outputs": []
    },
    {
      "cell_type": "markdown",
      "source": [
        "#### Missing Values/Null Values"
      ],
      "metadata": {
        "id": "PoPl-ycgm1ru"
      }
    },
    {
      "cell_type": "code",
      "source": [
        "# Missing Values/Null Values Count\n",
        "missing_values = df.isnull().sum()\n",
        "print(missing_values)\n"
      ],
      "metadata": {
        "id": "GgHWkxvamxVg"
      },
      "execution_count": null,
      "outputs": []
    },
    {
      "cell_type": "code",
      "source": [
        "# Visualizing the missing values\n",
        "\n",
        "# Plot a heatmap for missing values\n",
        "plt.figure(figsize=(12, 6))\n",
        "sns.heatmap(df.isnull(), cbar=False, cmap='RdYlGn', yticklabels=False)\n",
        "plt.title(\"Heatmap of Missing Values\", fontsize=16)\n",
        "plt.show()"
      ],
      "metadata": {
        "id": "3q5wnI3om9sJ"
      },
      "execution_count": null,
      "outputs": []
    },
    {
      "cell_type": "markdown",
      "source": [
        "### What did you know about your dataset?"
      ],
      "metadata": {
        "id": "H0kj-8xxnORC"
      }
    },
    {
      "cell_type": "markdown",
      "source": [
        "**Missing Values Analysis**\n",
        "The missing_values code snippet (df.isnull().sum()) checks for null values in the dataset and gives the count of missing values for each column. From the output:\n",
        "\n",
        "**All columns have 0 missing values**: This means that your dataset does not have any null/missing data points in any column. It's clean.\n",
        "Visualizing Missing Values\n",
        "You’ve plotted a heatmap of missing values using:\n",
        "\n",
        "**sns.heatmap(df.isnull(), cbar=False, cmap='RdYlGn', yticklabels=False)**\n",
        "\n",
        "However, since all values in your dataset are non-null, the heatmap will be uniform (a single color representing no missing data).\n",
        "\n",
        "The visualization will essentially confirm that no missing data exists.\n",
        "\n",
        "**Insights :**\n",
        "Your dataset is fully complete, so no data imputation or cleaning is required for missing values.\n",
        "Despite being a valid visualization, the heatmap won't add much value since there are no missing values."
      ],
      "metadata": {
        "id": "gfoNAAC-nUe_"
      }
    },
    {
      "cell_type": "markdown",
      "source": [
        "## ***2. Understanding Your Variables***"
      ],
      "metadata": {
        "id": "nA9Y7ga8ng1Z"
      }
    },
    {
      "cell_type": "code",
      "source": [
        "# Dataset Columns\n",
        "print(\"Dataset Columns:\")\n",
        "print(df.columns.tolist())"
      ],
      "metadata": {
        "id": "j7xfkqrt5Ag5"
      },
      "execution_count": null,
      "outputs": []
    },
    {
      "cell_type": "code",
      "source": [
        "# Dataset Describe\n",
        "# Statistical summary of numerical columns\n",
        "print(\"\\nStatistical Summary (Numerical Columns):\")\n",
        "print(df.describe())\n",
        "\n",
        "# Statistical summary of all columns (including categorical)\n",
        "print(\"\\nStatistical Summary (All Columns):\")\n",
        "print(df.describe(include='all'))  # Includes categorical data\n"
      ],
      "metadata": {
        "id": "DnOaZdaE5Q5t"
      },
      "execution_count": null,
      "outputs": []
    },
    {
      "cell_type": "markdown",
      "source": [
        "### Variables Description"
      ],
      "metadata": {
        "id": "PBTbrJXOngz2"
      }
    },
    {
      "cell_type": "markdown",
      "source": [
        "#### **Numerical Columns**\n",
        "1. **Unnamed: 0**:\n",
        "   - Likely an index column.\n",
        "   - Ranges from 0 to 955 (min = 0, max = 955).\n",
        "   - Uniformly distributed with mean = 477.5 and std = 276.12.\n",
        "\n",
        "2. **Rating**:\n",
        "   - Represents company ratings (possibly out of 5 stars).\n",
        "   - Mean = 3.60, indicating an average rating close to 4 stars.\n",
        "   - Min = -1, which is likely an outlier or placeholder for missing values.\n",
        "   - Max = 5, the highest possible rating.\n",
        "   - Quartiles:\n",
        "     - 25%: 3.3 (lower quartile rating).\n",
        "     - 50%: 3.8 (median rating).\n",
        "     - 75%: 4.2 (upper quartile rating).\n",
        "\n",
        "3. **Founded**:\n",
        "   - Represents the year a company was founded.\n",
        "   - Mean = 1774.6 and std = 598.94, suggesting some very old companies or invalid data points.\n",
        "   - Min = -1, likely a placeholder for missing values.\n",
        "   - Max = 2019, the most recent founding year in the dataset.\n",
        "   - Quartiles:\n",
        "     - 25%: 1937 (most companies were founded in modern history).\n",
        "     - 50%: 1992 (median founding year).\n",
        "     - 75%: 2008 (recent companies).\n",
        "\n",
        "---\n",
        "\n",
        "#### **Categorical Columns**\n",
        "1. **Job Title**:\n",
        "   - 328 unique job titles.\n",
        "   - Most frequent: **Data Scientist** (178 occurrences).\n",
        "\n",
        "2. **Salary Estimate**:\n",
        "   - 417 unique values.\n",
        "   - Most frequent: `-1` (214 occurrences), likely indicating missing or undisclosed salary information.\n",
        "\n",
        "3. **Job Description**:\n",
        "   - 596 unique descriptions.\n",
        "   - Most frequent description occurs 4 times.\n",
        "\n",
        "4. **Company Name**:\n",
        "   - 448 unique company names.\n",
        "   - Most frequent: **Novartis** (14 occurrences).\n",
        "\n",
        "5. **Location**:\n",
        "   - 237 unique locations.\n",
        "   - Most frequent: **New York, NY** (78 occurrences).\n",
        "\n",
        "6. **Headquarters**:\n",
        "   - 235 unique headquarters locations.\n",
        "   - Most frequent: **New York, NY** (75 occurrences).\n",
        "\n",
        "7. **Size**:\n",
        "   - 9 unique company size ranges.\n",
        "   - Most frequent: **1001 to 5000 employees** (177 occurrences).\n",
        "\n",
        "8. **Type of Ownership**:\n",
        "   - 13 unique types of ownership.\n",
        "   - Most frequent: **Company - Private** (532 occurrences).\n",
        "\n",
        "9. **Industry**:\n",
        "   - 63 unique industries.\n",
        "   - Most frequent: **Biotech & Pharmaceuticals** (148 occurrences).\n",
        "\n",
        "10. **Sector**:\n",
        "    - 25 unique sectors.\n",
        "    - Most frequent: **Information Technology** (239 occurrences).\n",
        "\n",
        "11. **Revenue**:\n",
        "    - 14 unique revenue ranges.\n",
        "    - Most frequent: **Unknown / Non-Applicable** (299 occurrences).\n",
        "\n",
        "12. **Competitors**:\n",
        "    - 149 unique competitor entries.\n",
        "    - Most frequent: `-1` (634 occurrences), likely indicating missing or no competitors.\n",
        "\n",
        "---\n",
        "\n",
        "### **Key Observations**\n",
        "1. **Missing/Placeholder Values**:\n",
        "   - Columns such as **Rating**, **Founded**, **Salary Estimate**, and **Competitors** have placeholder values like `-1`, which should be addressed during data cleaning.\n",
        "   \n",
        "2. **Numerical Outliers**:\n",
        "   - The `Rating` column has invalid values like `-1`.\n",
        "   - The `Founded` column includes a minimum value of `-1`, which is unrealistic.\n",
        "\n",
        "3. **Categorical Insights**:\n",
        "   - The dataset has diverse job titles, company sizes, industries, and locations.\n",
        "   - Some columns have dominant values, such as **Data Scientist** in `Job Title` and **Unknown / Non-Applicable** in `Revenue`.\n",
        "\n",
        "4. **Data Cleaning Required**:\n",
        "   - Placeholder values like `-1` need to be handled (e.g., replaced, imputed, or removed).\n",
        "   - Outliers in numerical data, particularly in **Rating** and **Founded**, need addressing.\n",
        "\n",
        "---\n"
      ],
      "metadata": {
        "id": "zyr2spsuOOZ-"
      }
    },
    {
      "cell_type": "markdown",
      "source": [
        "### Check Unique Values for each variable."
      ],
      "metadata": {
        "id": "u3PMJOP6ngxN"
      }
    },
    {
      "cell_type": "code",
      "source": [
        "# Check Unique Values for each variable.\n",
        "print(\"\\nUnique Values for Each Variable:\")\n",
        "for column in df.columns:\n",
        "    print(f\"{column}: {df[column].nunique()} unique values\")"
      ],
      "metadata": {
        "id": "zms12Yq5n-jE"
      },
      "execution_count": null,
      "outputs": []
    },
    {
      "cell_type": "markdown",
      "source": [
        "## 3. ***Data Wrangling***"
      ],
      "metadata": {
        "id": "dauF4eBmngu3"
      }
    },
    {
      "cell_type": "markdown",
      "source": [
        "### Data Wrangling Code"
      ],
      "metadata": {
        "id": "bKJF3rekwFvQ"
      }
    },
    {
      "cell_type": "code",
      "source": [
        "# Create a copy of the original DataFrame to avoid modifying the original directly\n",
        "df_cleaned = df.copy()\n",
        "\n",
        "# 1. Extracting numerical data from 'Salary Estimate'\n",
        "# Remove text artifacts and split the salary range into `Min Salary` and `Max Salary`\n",
        "\n",
        "salary = df_cleaned['Salary Estimate'].str.extract(r'(\\d+)K-(\\d+)K')\n",
        "df_cleaned['Min Salary'] = pd.to_numeric(salary[0]) * 1000  # Convert to integers\n",
        "df_cleaned['Max Salary'] = pd.to_numeric(salary[1]) * 1000  # Convert to integers\n",
        "\n",
        "# Calculate the average salary for easier analysis\n",
        "df_cleaned['Average Salary'] = (df_cleaned['Min Salary'] + df_cleaned['Max Salary']) / 2\n",
        "\n",
        "# 2. Splitting 'Location' into 'City' and 'State'\n",
        "location_split = df_cleaned['Location'].str.split(',', expand=True)\n",
        "df_cleaned['City'] = location_split[0].str.strip()\n",
        "df_cleaned['State'] = location_split[1].str.strip()\n",
        "\n",
        "# 3. Handling missing values\n",
        "# Filling missing 'Rating' with the average rating\n",
        "df_cleaned['Rating'].fillna(df_cleaned['Rating'].mean(), inplace=True)\n",
        "\n",
        "# Dropping rows with missing `Founded` (optional - based on importance of this column)\n",
        "df_cleaned.dropna(subset=['Founded'], inplace=True)\n",
        "\n",
        "# 4. Dropping unnecessary columns\n",
        "df_cleaned.drop(columns=['Unnamed: 0', 'Salary Estimate'], inplace=True)\n",
        "\n",
        "# Display the first few rows of the cleaned dataset\n",
        "df_cleaned.head()\n"
      ],
      "metadata": {
        "id": "wk-9a2fpoLcV"
      },
      "execution_count": null,
      "outputs": []
    },
    {
      "cell_type": "code",
      "source": [
        "df_cleaned.to_csv('cleaned_dataset.csv', index=False)"
      ],
      "metadata": {
        "id": "BveR17kpsXPo"
      },
      "execution_count": null,
      "outputs": []
    },
    {
      "cell_type": "markdown",
      "source": [
        "### What all manipulations have you done and insights you found?"
      ],
      "metadata": {
        "id": "MSa1f5Uengrz"
      }
    },
    {
      "cell_type": "markdown",
      "source": [
        "#### **Manipulations Done:**\n",
        "\n",
        "**Salary Extraction:**\n",
        "Intended to extract numerical salary data (e.g., 50K-70K) from the Salary Estimate column, calculate minimum, maximum, and average salary, and store them in new columns. However, the Min Salary, Max Salary, and Average Salary columns are empty. This could mean:\n",
        "The regex failed because the format of Salary Estimate in the original dataset didn't match expectations.\n",
        "The column Salary Estimate might not have had valid data.\n",
        "\n",
        "**Location Splitting:**\n",
        "The Location column was split into City and State, which was successful, as City and State columns are populated.\n",
        "However, the State column contains some missing values (10 rows are NaN).\n",
        "\n",
        "**Handling Missing Values:**\n",
        "Rating column missing values were filled with the column's mean, ensuring no gaps in the data.\n",
        "Rows with missing Founded values were dropped, but no missing values remain in this column now.\n",
        "\n",
        "**Dropped Columns:**\n",
        "Columns like Unnamed: 0 and Salary Estimate were removed to clean the dataset.\n",
        "Issues Identified:\n",
        "\n",
        "\n",
        "#### **Insights from Manipulations:**\n",
        "**Location Analysis:**\n",
        "Splitting Location into City and State provides granular insights into geographic job distributions.\n",
        "Missing State values may require attention, though they are minimal (about 1%).\n",
        "\n",
        "**Rating Analysis:**\n",
        "Filling missing Rating values with the mean ensures no interruptions during statistical analyses.\n",
        "Outliers or trends in Rating by industry or company can now be analyzed effectively.\n",
        "\n",
        "**Data Cleaning:**\n",
        "Dropping unnecessary columns like Unnamed: 0 ensures a more focused dataset for analysis.\n",
        "Rows without a Founded year were removed, which could be useful if this column is critical for temporal trends."
      ],
      "metadata": {
        "id": "w6Z_5ycWPyWS"
      }
    },
    {
      "cell_type": "markdown",
      "source": [
        "## ***4. Data Vizualization, Storytelling & Experimenting with charts : Understand the relationships between variables***"
      ],
      "metadata": {
        "id": "GF8Ens_Soomf"
      }
    },
    {
      "cell_type": "code",
      "source": [
        "# Re-importing necessary libraries\n",
        "import pandas as pd\n",
        "import matplotlib.pyplot as plt\n",
        "import seaborn as sns\n",
        "\n",
        "# Loading the cleaned dataset\n",
        "file_path = '/content/cleaned_dataset.csv'\n",
        "data_cleaned = pd.read_csv(file_path)\n",
        "\n",
        "# Display the first few rows to understand the structure\n",
        "data_cleaned.head()\n"
      ],
      "metadata": {
        "id": "qXHuZ_LWs8C2"
      },
      "execution_count": null,
      "outputs": []
    },
    {
      "cell_type": "markdown",
      "source": [
        "#### Chart - 1"
      ],
      "metadata": {
        "id": "0wOQAZs5pc--"
      }
    },
    {
      "cell_type": "code",
      "source": [
        "# Chart 1: Distribution of Ratings\n",
        "plt.figure(figsize=(8, 5))\n",
        "sns.histplot(data_cleaned['Rating'], bins=20, kde=True, color='blue')\n",
        "plt.title(\"Distribution of Company Ratings\", fontsize=14)\n",
        "plt.xlabel(\"Rating\")\n",
        "plt.ylabel(\"Frequency\")\n",
        "plt.show()\n"
      ],
      "metadata": {
        "id": "7v_ESjsspbW7"
      },
      "execution_count": null,
      "outputs": []
    },
    {
      "cell_type": "markdown",
      "source": [
        "##### 1. Why did you pick the specific chart?"
      ],
      "metadata": {
        "id": "K5QZ13OEpz2H"
      }
    },
    {
      "cell_type": "markdown",
      "source": [
        "I chose a histogram because it effectively shows the distribution of company ratings, allowing us to identify trends, skewness, and concentration of ratings."
      ],
      "metadata": {
        "id": "XESiWehPqBRc"
      }
    },
    {
      "cell_type": "markdown",
      "source": [
        "##### 2. What is/are the insight(s) found from the chart?"
      ],
      "metadata": {
        "id": "lQ7QKXXCp7Bj"
      }
    },
    {
      "cell_type": "markdown",
      "source": [
        "The majority of companies have ratings between 3.0 and 4.5, with a few companies rated below 3.0. There are also fewer companies with the highest ratings (4.5–5.0)."
      ],
      "metadata": {
        "id": "C_j1G7yiqdRP"
      }
    },
    {
      "cell_type": "markdown",
      "source": [
        "##### 3. Will the gained insights help creating a positive business impact?\n",
        "Are there any insights that lead to negative growth? Justify with specific reason."
      ],
      "metadata": {
        "id": "448CDAPjqfQr"
      }
    },
    {
      "cell_type": "markdown",
      "source": [
        "Yes, businesses can use this insight to benchmark their ratings against competitors and focus on improving employee satisfaction to enhance their reputation"
      ],
      "metadata": {
        "id": "3cspy4FjqxJW"
      }
    },
    {
      "cell_type": "markdown",
      "source": [
        "#### Chart - 2"
      ],
      "metadata": {
        "id": "KSlN3yHqYklG"
      }
    },
    {
      "cell_type": "code",
      "source": [
        "# Chart-2: Count of Jobs by Industry\n",
        "\n",
        "# Get the top N industries\n",
        "top_n = 10  # Change this number to include more or fewer industries\n",
        "top_industries = df[\"Industry\"].value_counts().nlargest(top_n).index\n",
        "\n",
        "# Filter the DataFrame to include only these industries\n",
        "filtered_df = df[df[\"Industry\"].isin(top_industries)]\n",
        "\n",
        "# Create the count plot\n",
        "plt.figure(figsize=(12, 6))\n",
        "sns.countplot(y=filtered_df[\"Industry\"], order=top_industries, palette=\"coolwarm\")\n",
        "plt.title(\"Number of Job Listings by Top Industries\", fontsize=14)\n",
        "plt.xlabel(\"Count\", fontsize=12)\n",
        "plt.ylabel(\"Industry\", fontsize=12)\n",
        "plt.show()\n",
        "\n",
        "\n"
      ],
      "metadata": {
        "id": "R4YgtaqtYklH"
      },
      "execution_count": null,
      "outputs": []
    },
    {
      "cell_type": "markdown",
      "source": [
        "##### 1. Why did you pick the specific chart?"
      ],
      "metadata": {
        "id": "t6dVpIINYklI"
      }
    },
    {
      "cell_type": "markdown",
      "source": [
        "I chose a horizontal bar chart because it clearly represents the number of job listings per industry, making it easy to compare industries (generating only top 10 industries)."
      ],
      "metadata": {
        "id": "5aaW0BYyYklI"
      }
    },
    {
      "cell_type": "markdown",
      "source": [
        "##### 2. What is/are the insight(s) found from the chart?"
      ],
      "metadata": {
        "id": "ijmpgYnKYklI"
      }
    },
    {
      "cell_type": "markdown",
      "source": [
        "Some industries have significantly more job openings than others. This suggests that certain industries are actively hiring, whereas others have fewer opportunities."
      ],
      "metadata": {
        "id": "PSx9atu2YklI"
      }
    },
    {
      "cell_type": "markdown",
      "source": [
        "##### 3. Will the gained insights help creating a positive business impact?\n",
        "Are there any insights that lead to negative growth? Justify with specific reason."
      ],
      "metadata": {
        "id": "-JiQyfWJYklI"
      }
    },
    {
      "cell_type": "markdown",
      "source": [
        "Yes, job seekers can target industries with higher demand, while businesses in low-demand industries can strategize ways to attract talent."
      ],
      "metadata": {
        "id": "BcBbebzrYklV"
      }
    },
    {
      "cell_type": "markdown",
      "source": [
        "#### Chart - 3"
      ],
      "metadata": {
        "id": "EM7whBJCYoAo"
      }
    },
    {
      "cell_type": "code",
      "source": [
        "# Chart-3: Number of Job Listings by Company\n",
        "\n",
        "top_companies = df[\"Company Name\"].value_counts().nlargest(15)  # Top 15 companies\n",
        "\n",
        "plt.figure(figsize=(12, 6))\n",
        "sns.barplot(x=top_companies.values, y=top_companies.index, palette=\"viridis\")\n",
        "plt.title(\"Top 15 Companies with Most Job Listings\", fontsize=14)\n",
        "plt.xlabel(\"Number of Listings\", fontsize=12)\n",
        "plt.ylabel(\"Company Name\", fontsize=12)\n",
        "plt.show()\n"
      ],
      "metadata": {
        "id": "t6GMdE67YoAp"
      },
      "execution_count": null,
      "outputs": []
    },
    {
      "cell_type": "markdown",
      "source": [
        "##### 1. Why did you pick the specific chart?"
      ],
      "metadata": {
        "id": "fge-S5ZAYoAp"
      }
    },
    {
      "cell_type": "markdown",
      "source": [
        "I used a horizontal bar chart to compare the number of job postings among the top 15 companies, making it easy to see which companies are hiring the most."
      ],
      "metadata": {
        "id": "5dBItgRVYoAp"
      }
    },
    {
      "cell_type": "markdown",
      "source": [
        "##### 2. What is/are the insight(s) found from the chart?"
      ],
      "metadata": {
        "id": "85gYPyotYoAp"
      }
    },
    {
      "cell_type": "markdown",
      "source": [
        "Certain companies dominate the job market with significantly more postings, indicating strong hiring trends within those firms."
      ],
      "metadata": {
        "id": "4jstXR6OYoAp"
      }
    },
    {
      "cell_type": "markdown",
      "source": [
        "##### 3. Will the gained insights help creating a positive business impact?\n",
        "Are there any insights that lead to negative growth? Justify with specific reason."
      ],
      "metadata": {
        "id": "RoGjAbkUYoAp"
      }
    },
    {
      "cell_type": "markdown",
      "source": [
        "Yes, job seekers can prioritize applications to companies with higher hiring activity, and companies can assess their hiring competitiveness."
      ],
      "metadata": {
        "id": "zfJ8IqMcYoAp"
      }
    },
    {
      "cell_type": "markdown",
      "source": [
        "#### Chart - 4"
      ],
      "metadata": {
        "id": "4Of9eVA-YrdM"
      }
    },
    {
      "cell_type": "code",
      "source": [
        "# Chart-4: Job Listings by Type of Ownership\n",
        "\n",
        "plt.figure(figsize=(10, 5))\n",
        "sns.countplot(y=df[\"Type of ownership\"], order=df[\"Type of ownership\"].value_counts().index, palette=\"coolwarm\")\n",
        "plt.title(\"Job Listings by Type of Ownership\", fontsize=14)\n",
        "plt.xlabel(\"Count\", fontsize=12)\n",
        "plt.ylabel(\"Type of Ownership\", fontsize=12)\n",
        "plt.show()\n"
      ],
      "metadata": {
        "id": "irlUoxc8YrdO"
      },
      "execution_count": null,
      "outputs": []
    },
    {
      "cell_type": "markdown",
      "source": [
        "##### 1. Why did you pick the specific chart?"
      ],
      "metadata": {
        "id": "iky9q4vBYrdO"
      }
    },
    {
      "cell_type": "markdown",
      "source": [
        "I chose a horizontal bar chart to easily compare the number of job listings across different types of company ownership."
      ],
      "metadata": {
        "id": "aJRCwT6DYrdO"
      }
    },
    {
      "cell_type": "markdown",
      "source": [
        "##### 2. What is/are the insight(s) found from the chart?"
      ],
      "metadata": {
        "id": "F6T5p64dYrdO"
      }
    },
    {
      "cell_type": "markdown",
      "source": [
        "Privately owned companies dominate the job listings, followed by public companies and government organizations."
      ],
      "metadata": {
        "id": "Xx8WAJvtYrdO"
      }
    },
    {
      "cell_type": "markdown",
      "source": [
        "##### 3. Will the gained insights help creating a positive business impact?\n",
        "Are there any insights that lead to negative growth? Justify with specific reason."
      ],
      "metadata": {
        "id": "y-Ehk30pYrdP"
      }
    },
    {
      "cell_type": "markdown",
      "source": [
        "Yes, job seekers can make informed decisions about the type of employer they prefer, and companies can analyze hiring competition within their ownership category."
      ],
      "metadata": {
        "id": "jLNxxz7MYrdP"
      }
    },
    {
      "cell_type": "markdown",
      "source": [
        "#### Chart - 5"
      ],
      "metadata": {
        "id": "bamQiAODYuh1"
      }
    },
    {
      "cell_type": "code",
      "source": [
        "# Chart - 5 : Job Listings by Type of Ownership\n",
        "\n",
        "plt.figure(figsize=(10, 5))\n",
        "sns.countplot(y=df[\"Size\"], order=df[\"Size\"].value_counts().index, palette=\"magma\")\n",
        "plt.title(\"Distribution of Job Listings by Company Size\", fontsize=14)\n",
        "plt.xlabel(\"Count\", fontsize=12)\n",
        "plt.ylabel(\"Company Size\", fontsize=12)\n",
        "plt.show()\n",
        "\n",
        "\n"
      ],
      "metadata": {
        "id": "TIJwrbroYuh3"
      },
      "execution_count": null,
      "outputs": []
    },
    {
      "cell_type": "markdown",
      "source": [
        "##### 1. Why did you pick the specific chart?"
      ],
      "metadata": {
        "id": "QHF8YVU7Yuh3"
      }
    },
    {
      "cell_type": "markdown",
      "source": [
        "I used a horizontal bar chart to clearly display how job listings are distributed across different company sizes."
      ],
      "metadata": {
        "id": "dcxuIMRPYuh3"
      }
    },
    {
      "cell_type": "markdown",
      "source": [
        "##### 2. What is/are the insight(s) found from the chart?"
      ],
      "metadata": {
        "id": "GwzvFGzlYuh3"
      }
    },
    {
      "cell_type": "markdown",
      "source": [
        "Larger companies (e.g., 1000+ employees) have more job listings, suggesting that they are hiring at a higher rate compared to smaller firms."
      ],
      "metadata": {
        "id": "uyqkiB8YYuh3"
      }
    },
    {
      "cell_type": "markdown",
      "source": [
        "##### 3. Will the gained insights help creating a positive business impact?\n",
        "Are there any insights that lead to negative growth? Justify with specific reason."
      ],
      "metadata": {
        "id": "qYpmQ266Yuh3"
      }
    },
    {
      "cell_type": "markdown",
      "source": [
        "Yes, job seekers can target larger firms for better job availability, and smaller companies can assess hiring trends to remain competitive."
      ],
      "metadata": {
        "id": "_WtzZ_hCYuh4"
      }
    },
    {
      "cell_type": "markdown",
      "source": [
        "#### Chart - 6"
      ],
      "metadata": {
        "id": "OH-pJp9IphqM"
      }
    },
    {
      "cell_type": "code",
      "source": [
        "# Chart - 6 Distribution of Companies by Year Founded\n",
        "\n",
        "plt.figure(figsize=(12, 6))\n",
        "sns.histplot(df[\"Founded\"], bins=30, kde=True, color=\"purple\")\n",
        "plt.title(\"Distribution of Companies by Year Founded\", fontsize=14)\n",
        "plt.xlabel(\"Year Founded\", fontsize=12)\n",
        "plt.ylabel(\"Number of Companies\", fontsize=12)\n",
        "plt.show()\n"
      ],
      "metadata": {
        "id": "kuRf4wtuphqN"
      },
      "execution_count": null,
      "outputs": []
    },
    {
      "cell_type": "markdown",
      "source": [
        "##### 1. Why did you pick the specific chart?"
      ],
      "metadata": {
        "id": "bbFf2-_FphqN"
      }
    },
    {
      "cell_type": "markdown",
      "source": [
        "A histogram is ideal for showing the distribution of companies based on their founding years, revealing trends over time."
      ],
      "metadata": {
        "id": "loh7H2nzphqN"
      }
    },
    {
      "cell_type": "markdown",
      "source": [
        "##### 2. What is/are the insight(s) found from the chart?"
      ],
      "metadata": {
        "id": "_ouA3fa0phqN"
      }
    },
    {
      "cell_type": "markdown",
      "source": [
        "Most companies were founded between 1950 and 2010, with fewer older and very new companie"
      ],
      "metadata": {
        "id": "VECbqPI7phqN"
      }
    },
    {
      "cell_type": "markdown",
      "source": [
        "##### 3. Will the gained insights help creating a positive business impact?\n",
        "Are there any insights that lead to negative growth? Justify with specific reason."
      ],
      "metadata": {
        "id": "Seke61FWphqN"
      }
    },
    {
      "cell_type": "markdown",
      "source": [
        "Yes, job seekers may prefer established firms for stability, while startups can highlight innovation to attract talent."
      ],
      "metadata": {
        "id": "DW4_bGpfphqN"
      }
    },
    {
      "cell_type": "markdown",
      "source": [
        "#### Chart - 7"
      ],
      "metadata": {
        "id": "PIIx-8_IphqN"
      }
    },
    {
      "cell_type": "code",
      "source": [
        "df = pd.read_csv('/content/cleaned_dataset.csv')\n",
        "\n",
        "# Chart 7: Top 10 Cities with Most Job Listings\n",
        "\n",
        "top_cities = df[\"City\"].value_counts().nlargest(10)\n",
        "\n",
        "plt.figure(figsize=(12, 6))\n",
        "sns.barplot(x=top_cities.values, y=top_cities.index, palette=\"plasma\")\n",
        "plt.title(\"Top 10 Cities with Most Job Listings\", fontsize=14)\n",
        "plt.xlabel(\"Number of Listings\", fontsize=12)\n",
        "plt.ylabel(\"City\", fontsize=12)\n",
        "plt.show()\n"
      ],
      "metadata": {
        "id": "lqAIGUfyphqO"
      },
      "execution_count": null,
      "outputs": []
    },
    {
      "cell_type": "markdown",
      "source": [
        "##### 1. Why did you pick the specific chart?"
      ],
      "metadata": {
        "id": "t27r6nlMphqO"
      }
    },
    {
      "cell_type": "markdown",
      "source": [
        "A horizontal bar chart makes it easy to compare job availability across different cities."
      ],
      "metadata": {
        "id": "iv6ro40sphqO"
      }
    },
    {
      "cell_type": "markdown",
      "source": [
        "##### 2. What is/are the insight(s) found from the chart?"
      ],
      "metadata": {
        "id": "r2jJGEOYphqO"
      }
    },
    {
      "cell_type": "markdown",
      "source": [
        "Some cities have significantly more job openings, indicating strong job markets in those locations."
      ],
      "metadata": {
        "id": "Po6ZPi4hphqO"
      }
    },
    {
      "cell_type": "markdown",
      "source": [
        "##### 3. Will the gained insights help creating a positive business impact?\n",
        "Are there any insights that lead to negative growth? Justify with specific reason."
      ],
      "metadata": {
        "id": "b0JNsNcRphqO"
      }
    },
    {
      "cell_type": "markdown",
      "source": [
        "Yes, job seekers can focus on cities with high hiring activity, and companies can analyze location-based hiring trends."
      ],
      "metadata": {
        "id": "xvSq8iUTphqO"
      }
    },
    {
      "cell_type": "markdown",
      "source": [
        "#### Chart - 8"
      ],
      "metadata": {
        "id": "BZR9WyysphqO"
      }
    },
    {
      "cell_type": "code",
      "source": [
        "# Chart - 8 : Number of Job Listings by State\n",
        "\n",
        "plt.figure(figsize=(12, 6))\n",
        "sns.countplot(y=df[\"State\"], order=df[\"State\"].value_counts().index, palette=\"cividis\")\n",
        "plt.title(\"Number of Job Listings by State\", fontsize=14)\n",
        "plt.xlabel(\"Count\", fontsize=12)\n",
        "plt.ylabel(\"State\", fontsize=12)\n",
        "plt.show()\n"
      ],
      "metadata": {
        "id": "TdPTWpAVphqO"
      },
      "execution_count": null,
      "outputs": []
    },
    {
      "cell_type": "markdown",
      "source": [
        "##### 1. Why did you pick the specific chart?"
      ],
      "metadata": {
        "id": "jj7wYXLtphqO"
      }
    },
    {
      "cell_type": "markdown",
      "source": [
        "A horizontal bar chart is useful for comparing the number of job listings across different states."
      ],
      "metadata": {
        "id": "Ob8u6rCTphqO"
      }
    },
    {
      "cell_type": "markdown",
      "source": [
        "##### 2. What is/are the insight(s) found from the chart?"
      ],
      "metadata": {
        "id": "eZrbJ2SmphqO"
      }
    },
    {
      "cell_type": "markdown",
      "source": [
        "Certain states have significantly more job listings, suggesting stronger job markets in those regions"
      ],
      "metadata": {
        "id": "mZtgC_hjphqO"
      }
    },
    {
      "cell_type": "markdown",
      "source": [
        "##### 3. Will the gained insights help creating a positive business impact?\n",
        "Are there any insights that lead to negative growth? Justify with specific reason."
      ],
      "metadata": {
        "id": "rFu4xreNphqO"
      }
    },
    {
      "cell_type": "markdown",
      "source": [
        "Certain states have significantly more job listings, suggesting stronger job markets in those regions"
      ],
      "metadata": {
        "id": "ey_0qi68phqO"
      }
    },
    {
      "cell_type": "markdown",
      "source": [
        "#### Chart - 9"
      ],
      "metadata": {
        "id": "YJ55k-q6phqO"
      }
    },
    {
      "cell_type": "code",
      "source": [
        "# Chart - 9 : Job Listings by Sector\n",
        "\n",
        "plt.figure(figsize=(12, 6))\n",
        "sns.countplot(y=df[\"Sector\"], order=df[\"Sector\"].value_counts().index, palette=\"viridis\")\n",
        "plt.title(\"Number of Job Listings by Sector\", fontsize=14)\n",
        "plt.xlabel(\"Count\", fontsize=12)\n",
        "plt.ylabel(\"Sector\", fontsize=12)\n",
        "plt.show()"
      ],
      "metadata": {
        "id": "B2aS4O1ophqO"
      },
      "execution_count": null,
      "outputs": []
    },
    {
      "cell_type": "markdown",
      "source": [
        "##### 1. Why did you pick the specific chart?"
      ],
      "metadata": {
        "id": "gCFgpxoyphqP"
      }
    },
    {
      "cell_type": "markdown",
      "source": [
        "I chose a horizontal bar chart because it clearly compares job listings across industries, making it easy to see which sectors have the most and least openings."
      ],
      "metadata": {
        "id": "TVxDimi2phqP"
      }
    },
    {
      "cell_type": "markdown",
      "source": [
        "##### 2. What is/are the insight(s) found from the chart?"
      ],
      "metadata": {
        "id": "OVtJsKN_phqQ"
      }
    },
    {
      "cell_type": "markdown",
      "source": [
        "The IT sector has the highest job listings, while Accounting, Agriculture, and Mining have the least, showing that tech-driven and service-based industries dominate the job market."
      ],
      "metadata": {
        "id": "ngGi97qjphqQ"
      }
    },
    {
      "cell_type": "markdown",
      "source": [
        "##### 3. Will the gained insights help creating a positive business impact?\n",
        "Are there any insights that lead to negative growth? Justify with specific reason."
      ],
      "metadata": {
        "id": "lssrdh5qphqQ"
      }
    },
    {
      "cell_type": "markdown",
      "source": [
        "Yes, job seekers can target high-demand industries, businesses can adjust hiring strategies, schools can align courses with job trends, and policymakers can support growing sectors."
      ],
      "metadata": {
        "id": "tBpY5ekJphqQ"
      }
    },
    {
      "cell_type": "markdown",
      "source": [
        "#### Chart - 10"
      ],
      "metadata": {
        "id": "U2RJ9gkRphqQ"
      }
    },
    {
      "cell_type": "code",
      "source": [
        "# Chart - 10 : Rating by Sector\n",
        "plt.figure(figsize=(12, 6))\n",
        "sns.boxplot(x=\"Sector\", y=\"Rating\", data=df, palette=\"Set2\")\n",
        "plt.title(\"Boxplot of Ratings by Sector\", fontsize=14)\n",
        "plt.xlabel(\"Sector\", fontsize=12)\n",
        "plt.ylabel(\"Rating\", fontsize=12)\n",
        "plt.xticks(rotation=45, ha=\"right\")\n",
        "plt.show()\n"
      ],
      "metadata": {
        "id": "GM7a4YP4phqQ"
      },
      "execution_count": null,
      "outputs": []
    },
    {
      "cell_type": "markdown",
      "source": [
        "##### 1. Why did you pick the specific chart?"
      ],
      "metadata": {
        "id": "1M8mcRywphqQ"
      }
    },
    {
      "cell_type": "markdown",
      "source": [
        "A boxplot helps compare the distribution of ratings across different sectors. It visually represents median, quartiles, and potential outliers"
      ],
      "metadata": {
        "id": "8agQvks0phqQ"
      }
    },
    {
      "cell_type": "markdown",
      "source": [
        "##### 2. What is/are the insight(s) found from the chart?"
      ],
      "metadata": {
        "id": "tgIPom80phqQ"
      }
    },
    {
      "cell_type": "markdown",
      "source": [
        "You can quickly see which sectors tend to have higher or lower median ratings.\n",
        "Certain sectors may show more variability in ratings (longer box or more outliers)."
      ],
      "metadata": {
        "id": "Qp13pnNzphqQ"
      }
    },
    {
      "cell_type": "markdown",
      "source": [
        "##### 3. Will the gained insights help creating a positive business impact?\n",
        "Are there any insights that lead to negative growth? Justify with specific reason."
      ],
      "metadata": {
        "id": "JMzcOPDDphqR"
      }
    },
    {
      "cell_type": "markdown",
      "source": [
        "Companies can benchmark their ratings against sector averages.\n",
        "Job seekers can get a sense of overall satisfaction within a sector, informing career choices."
      ],
      "metadata": {
        "id": "R4Ka1PC2phqR"
      }
    },
    {
      "cell_type": "markdown",
      "source": [
        "#### Chart - 11"
      ],
      "metadata": {
        "id": "x-EpHcCOp1ci"
      }
    },
    {
      "cell_type": "code",
      "source": [
        "# Chart - 11 : Rating by Type of Ownership\n",
        "plt.figure(figsize=(10, 6))\n",
        "sns.boxplot(x=\"Type of ownership\", y=\"Rating\", data=df, palette=\"Set3\")\n",
        "plt.title(\"Boxplot of Ratings by Type of Ownership\", fontsize=14)\n",
        "plt.xlabel(\"Type of Ownership\", fontsize=12)\n",
        "plt.ylabel(\"Rating\", fontsize=12)\n",
        "plt.xticks(rotation=45, ha=\"right\")\n",
        "plt.show()\n"
      ],
      "metadata": {
        "id": "mAQTIvtqp1cj"
      },
      "execution_count": null,
      "outputs": []
    },
    {
      "cell_type": "markdown",
      "source": [
        "##### 1. Why did you pick the specific chart?"
      ],
      "metadata": {
        "id": "X_VqEhTip1ck"
      }
    },
    {
      "cell_type": "markdown",
      "source": [
        "This boxplot compares how ratings vary across different ownership types (e.g., private, public, government)."
      ],
      "metadata": {
        "id": "-vsMzt_np1ck"
      }
    },
    {
      "cell_type": "markdown",
      "source": [
        "##### 2. What is/are the insight(s) found from the chart?"
      ],
      "metadata": {
        "id": "8zGJKyg5p1ck"
      }
    },
    {
      "cell_type": "markdown",
      "source": [
        "Some ownership types might show tighter rating distributions (e.g., government might cluster around a certain rating), while others show more variability.\n",
        "If a particular ownership type has a consistently higher rating, it may reflect certain organizational cultures or benefits."
      ],
      "metadata": {
        "id": "ZYdMsrqVp1ck"
      }
    },
    {
      "cell_type": "markdown",
      "source": [
        "##### 3. Will the gained insights help creating a positive business impact?\n",
        "Are there any insights that lead to negative growth? Justify with specific reason."
      ],
      "metadata": {
        "id": "PVzmfK_Ep1ck"
      }
    },
    {
      "cell_type": "markdown",
      "source": [
        "Businesses can understand how their ownership structure might influence perceptions and satisfaction.\n",
        "Job seekers can weigh whether ownership type correlates with higher satisfaction."
      ],
      "metadata": {
        "id": "druuKYZpp1ck"
      }
    },
    {
      "cell_type": "markdown",
      "source": [
        "#### Chart - 12"
      ],
      "metadata": {
        "id": "n3dbpmDWp1ck"
      }
    },
    {
      "cell_type": "code",
      "source": [
        "# Chart - 12 : Number of Companies by Founding Year (Trend Over Time)\n",
        "\n",
        "import pandas as pd\n",
        "\n",
        "# Count how many companies are founded in each year\n",
        "year_counts = df[\"Founded\"].value_counts().sort_index()\n",
        "year_counts = year_counts[year_counts.index > 0]  # Exclude \"founded = 0\" if present\n",
        "\n",
        "plt.figure(figsize=(12, 6))\n",
        "plt.plot(year_counts.index, year_counts.values, marker=\"o\", color=\"blue\")\n",
        "plt.title(\"Trend: Number of Companies by Founding Year\", fontsize=14)\n",
        "plt.xlabel(\"Year Founded\", fontsize=12)\n",
        "plt.ylabel(\"Number of Companies\", fontsize=12)\n",
        "plt.grid(True)\n",
        "plt.show()\n"
      ],
      "metadata": {
        "id": "bwevp1tKp1ck"
      },
      "execution_count": null,
      "outputs": []
    },
    {
      "cell_type": "markdown",
      "source": [
        "##### 1. Why did you pick the specific chart?"
      ],
      "metadata": {
        "id": "ylSl6qgtp1ck"
      }
    },
    {
      "cell_type": "markdown",
      "source": [
        "A line plot shows how the count of company founding events changes over time, highlighting periods with higher or lower business creation"
      ],
      "metadata": {
        "id": "m2xqNkiQp1ck"
      }
    },
    {
      "cell_type": "markdown",
      "source": [
        "##### 2. What is/are the insight(s) found from the chart?"
      ],
      "metadata": {
        "id": "ZWILFDl5p1ck"
      }
    },
    {
      "cell_type": "markdown",
      "source": [
        "You can spot trends such as spikes in company formation in specific decades.\n",
        "This may reflect historical economic booms, technological advances, or shifts in industry landscapes."
      ],
      "metadata": {
        "id": "x-lUsV2mp1ck"
      }
    },
    {
      "cell_type": "markdown",
      "source": [
        "##### 3. Will the gained insights help creating a positive business impact?\n",
        "Are there any insights that lead to negative growth? Justify with specific reason."
      ],
      "metadata": {
        "id": "M7G43BXep1ck"
      }
    },
    {
      "cell_type": "markdown",
      "source": [
        "Understanding the historical timeline of company formations can help investors or entrepreneurs gauge when certain markets were thriving.\n",
        "It also helps contextualize the age of companies in the current job market, although we saw little direct correlation with rating."
      ],
      "metadata": {
        "id": "5wwDJXsLp1cl"
      }
    },
    {
      "cell_type": "markdown",
      "source": [
        "#### Chart - 13"
      ],
      "metadata": {
        "id": "Ag9LCva-p1cl"
      }
    },
    {
      "cell_type": "code",
      "source": [
        "# Chart - 13 : Distribution of Revenue Categories\n",
        "import matplotlib.pyplot as plt\n",
        "\n",
        "# Count the top 6 most common revenue categories\n",
        "top_revenues = df[\"Revenue\"].value_counts().nlargest(6)\n",
        "\n",
        "plt.figure(figsize=(8, 8))\n",
        "plt.pie(\n",
        "    top_revenues.values,\n",
        "    labels=top_revenues.index,\n",
        "    autopct=\"%1.1f%%\",\n",
        "    startangle=140\n",
        ")\n",
        "plt.title(\"Distribution of Top 6 Revenue Categories\", fontsize=14)\n",
        "plt.axis(\"equal\")  # Equal aspect ratio ensures the pie is drawn as a circle.\n",
        "plt.show()\n"
      ],
      "metadata": {
        "id": "EUfxeq9-p1cl"
      },
      "execution_count": null,
      "outputs": []
    },
    {
      "cell_type": "markdown",
      "source": [
        "##### 1. Why did you pick the specific chart?"
      ],
      "metadata": {
        "id": "E6MkPsBcp1cl"
      }
    },
    {
      "cell_type": "markdown",
      "source": [
        "A pie chart visually represents proportions of a whole. Since Revenue is a categorical feature, a pie chart is a quick way to see which revenue ranges dominate among the top categories."
      ],
      "metadata": {
        "id": "V22bRsFWp1cl"
      }
    },
    {
      "cell_type": "markdown",
      "source": [
        "##### 2. What is/are the insight(s) found from the chart?"
      ],
      "metadata": {
        "id": "2cELzS2fp1cl"
      }
    },
    {
      "cell_type": "markdown",
      "source": [
        "You can identify which revenue brackets are most common. For instance, you might see a large portion of companies reporting “Unknown / Non-Applicable” revenue, or a concentration in mid-range revenues (e.g., $100 million to $500 million)."
      ],
      "metadata": {
        "id": "ozQPc2_Ip1cl"
      }
    },
    {
      "cell_type": "markdown",
      "source": [
        "##### 3. Will the gained insights help creating a positive business impact?\n",
        "Are there any insights that lead to negative growth? Justify with specific reason."
      ],
      "metadata": {
        "id": "3MPXvC8up1cl"
      }
    },
    {
      "cell_type": "markdown",
      "source": [
        "Yes, understanding the dominant revenue brackets can help job seekers gauge the financial scale of potential employers. It also helps businesses see where they stand in relation to others in the market and tailor their recruitment or expansion strategies accordingly."
      ],
      "metadata": {
        "id": "Zcv_qFIXAIfw"
      }
    },
    {
      "cell_type": "markdown",
      "source": [
        "#### Chart - 14 - Correlation Heatmap"
      ],
      "metadata": {
        "id": "NC_X3p0fY2L0"
      }
    },
    {
      "cell_type": "code",
      "source": [
        "# Correlation Heatmap visualization code\n",
        "\n",
        "import matplotlib.pyplot as plt\n",
        "import seaborn as sns\n",
        "\n",
        "# Filter dataset to only numeric columns for correlation\n",
        "numeric_df = df[[\"Rating\", \"Founded\"]]  # Only these two columns are numeric in the dataset\n",
        "\n",
        "plt.figure(figsize=(6, 4))\n",
        "corr = numeric_df.corr()\n",
        "sns.heatmap(corr, annot=True, cmap=\"Blues\", fmt=\".2f\")\n",
        "plt.title(\"Correlation Heatmap of Numeric Features\", fontsize=14)\n",
        "plt.show()\n"
      ],
      "metadata": {
        "id": "xyC9zolEZNRQ"
      },
      "execution_count": null,
      "outputs": []
    },
    {
      "cell_type": "markdown",
      "source": [
        "##### 1. Why did you pick the specific chart?"
      ],
      "metadata": {
        "id": "UV0SzAkaZNRQ"
      }
    },
    {
      "cell_type": "markdown",
      "source": [
        "A correlation heatmap is an effective way to visualize the relationship (correlation) between multiple numeric features in the dataset. Although we only have two numeric columns (Rating and Founded), this still shows whether there is a linear relationship between them."
      ],
      "metadata": {
        "id": "DVPuT8LYZNRQ"
      }
    },
    {
      "cell_type": "markdown",
      "source": [
        "##### 2. What is/are the insight(s) found from the chart?"
      ],
      "metadata": {
        "id": "YPEH6qLeZNRQ"
      }
    },
    {
      "cell_type": "markdown",
      "source": [
        "The correlation between Rating and Founded is near zero, indicating little to no linear relationship between a company's founding year and its Glassdoor rating."
      ],
      "metadata": {
        "id": "bfSqtnDqZNRR"
      }
    },
    {
      "cell_type": "markdown",
      "source": [
        "#### Chart - 15 - Pair Plot"
      ],
      "metadata": {
        "id": "q29F0dvdveiT"
      }
    },
    {
      "cell_type": "code",
      "source": [
        "# Pair Plot visualization code\n",
        "import seaborn as sns\n",
        "\n",
        "# Using the same numeric columns for pairplot\n",
        "sns.pairplot(numeric_df, diag_kind=\"kde\", corner=True)\n",
        "plt.show()\n"
      ],
      "metadata": {
        "id": "o58-TEIhveiU"
      },
      "execution_count": null,
      "outputs": []
    },
    {
      "cell_type": "markdown",
      "source": [
        "##### 1. Why did you pick the specific chart?"
      ],
      "metadata": {
        "id": "EXh0U9oCveiU"
      }
    },
    {
      "cell_type": "markdown",
      "source": [
        "A pair plot shows pairwise relationships and distributions of numeric variables. Even though we only have two numeric columns, it helps illustrate both their joint distribution and individual distributions."
      ],
      "metadata": {
        "id": "eMmPjTByveiU"
      }
    },
    {
      "cell_type": "markdown",
      "source": [
        "##### 2. What is/are the insight(s) found from the chart?"
      ],
      "metadata": {
        "id": "22aHeOlLveiV"
      }
    },
    {
      "cell_type": "markdown",
      "source": [
        "The diagonal plots show the distribution of each numeric feature (Rating and Founded).\n",
        "The off-diagonal plot shows the scatter relationship between the two columns, confirming minimal correlation."
      ],
      "metadata": {
        "id": "uPQ8RGwHveiV"
      }
    },
    {
      "cell_type": "markdown",
      "source": [
        "#### Chart - 16"
      ],
      "metadata": {
        "id": "AVhlX49_DlK_"
      }
    },
    {
      "cell_type": "code",
      "source": [
        "#Chart-16: Top 10 Most Common Job Titles\n",
        "import matplotlib.pyplot as plt\n",
        "import seaborn as sns\n",
        "\n",
        "# Count the occurrences of each Job Title and select the top 10\n",
        "top_job_titles = df[\"Job Title\"].value_counts().nlargest(10)\n",
        "\n",
        "plt.figure(figsize=(10, 6))\n",
        "sns.barplot(x=top_job_titles.values, y=top_job_titles.index, palette=\"rocket\")\n",
        "plt.title(\"Top 10 Most Common Job Titles\", fontsize=14)\n",
        "plt.xlabel(\"Count\", fontsize=12)\n",
        "plt.ylabel(\"Job Title\", fontsize=12)\n",
        "plt.show()\n"
      ],
      "metadata": {
        "id": "yr_aWDuDDlLA"
      },
      "execution_count": null,
      "outputs": []
    },
    {
      "cell_type": "markdown",
      "source": [
        "##### 1. Why did you pick the specific chart?"
      ],
      "metadata": {
        "id": "7F4Dv3NqDlLB"
      }
    },
    {
      "cell_type": "markdown",
      "source": [
        "A horizontal bar chart is ideal for ranking and comparing the frequency of different job titles."
      ],
      "metadata": {
        "id": "3Wyap_uyDlLB"
      }
    },
    {
      "cell_type": "markdown",
      "source": [
        "##### 2. What is/are the insight(s) found from the chart?"
      ],
      "metadata": {
        "id": "fVY7_ZD3DlLC"
      }
    },
    {
      "cell_type": "markdown",
      "source": [
        "It reveals which positions are most in-demand, helping to understand market trends in job roles."
      ],
      "metadata": {
        "id": "Z7Vl9lCaDlLC"
      }
    },
    {
      "cell_type": "markdown",
      "source": [
        "##### 3. Will the gained insights help creating a positive business impact?\n",
        "Are there any insights that lead to negative growth? Justify with specific reason."
      ],
      "metadata": {
        "id": "JG6LQv4kEQ1l"
      }
    },
    {
      "cell_type": "markdown",
      "source": [
        "Job seekers can target roles with higher availability, while companies can benchmark their recruitment focus."
      ],
      "metadata": {
        "id": "uGGPIQZ5ESlJ"
      }
    },
    {
      "cell_type": "markdown",
      "source": [
        "#### Chart - 17"
      ],
      "metadata": {
        "id": "7uHUgaZWEltq"
      }
    },
    {
      "cell_type": "code",
      "source": [
        "#Chart-17: Average Rating by Industry\n",
        "import matplotlib.pyplot as plt\n",
        "import seaborn as sns\n",
        "\n",
        "# Compute average rating by industry and select the top 15\n",
        "avg_rating_industry = df.groupby(\"Industry\")[\"Rating\"].mean().sort_values(ascending=False).head(15)\n",
        "\n",
        "# Plot the bar chart\n",
        "plt.figure(figsize=(12, 6))\n",
        "sns.barplot(x=avg_rating_industry.values, y=avg_rating_industry.index, palette=\"coolwarm\")\n",
        "\n",
        "# Titles and labels\n",
        "plt.title(\"Top 15 Industries by Average Company Rating\", fontsize=14)\n",
        "plt.xlabel(\"Average Rating\", fontsize=12)\n",
        "plt.ylabel(\"Industry\", fontsize=12)\n",
        "\n",
        "# Show the chart\n",
        "plt.show()\n",
        "\n",
        "\n"
      ],
      "metadata": {
        "id": "Xf08aWLdEltq"
      },
      "execution_count": null,
      "outputs": []
    },
    {
      "cell_type": "markdown",
      "source": [
        "##### 1. Why did you pick the specific chart?"
      ],
      "metadata": {
        "id": "bbox1s8eEltr"
      }
    },
    {
      "cell_type": "markdown",
      "source": [
        "I chose a horizontal bar chart because it clearly compares job listings across industries, making it easy to see which sectors have the most and least openings."
      ],
      "metadata": {
        "id": "Rr14yhNNEltr"
      }
    },
    {
      "cell_type": "markdown",
      "source": [
        "##### 2. What is/are the insight(s) found from the chart?"
      ],
      "metadata": {
        "id": "zNWL5MXiEltr"
      }
    },
    {
      "cell_type": "markdown",
      "source": [
        "The Publishing Sector has the highest job listings, while Accounting, Aerospace & Defence, Consulting ,and Logistics & Supply Chain have the least, showing that tech-driven and service-based industries dominate the job market."
      ],
      "metadata": {
        "id": "waxU7DcGElts"
      }
    },
    {
      "cell_type": "markdown",
      "source": [
        "##### 3. Will the gained insights help creating a positive business impact?\n",
        "\n",
        "##### Are there any insights that lead to negative growth? Justify with specific reason."
      ],
      "metadata": {
        "id": "RhTbi9emElts"
      }
    },
    {
      "cell_type": "markdown",
      "source": [
        "Companies can benchmark themselves against industry averages and focus on improving employee satisfaction where needed."
      ],
      "metadata": {
        "id": "s7aeXAaoHMv8"
      }
    },
    {
      "cell_type": "markdown",
      "source": [
        "#### Chart - 18"
      ],
      "metadata": {
        "id": "XZ6QHk-lGR7d"
      }
    },
    {
      "cell_type": "code",
      "source": [
        "#Chart 18 - Distribution of Founded Years by Top 10 Industries\n",
        "import pandas as pd\n",
        "\n",
        "# Identify top 10 industries by number of listings\n",
        "top10_industries = df[\"Industry\"].value_counts().nlargest(10).index\n",
        "df_top10 = df[df[\"Industry\"].isin(top10_industries)]\n",
        "\n",
        "plt.figure(figsize=(14, 8))\n",
        "sns.boxplot(x=\"Industry\", y=\"Founded\", data=df_top10, palette=\"pastel\")\n",
        "plt.title(\"Distribution of Founded Years by Top 10 Industries\", fontsize=14)\n",
        "plt.xlabel(\"Industry\", fontsize=12)\n",
        "plt.ylabel(\"Year Founded\", fontsize=12)\n",
        "plt.xticks(rotation=45, ha=\"right\")\n",
        "plt.show()\n"
      ],
      "metadata": {
        "id": "eUwp32t_HSnv"
      },
      "execution_count": null,
      "outputs": []
    },
    {
      "cell_type": "markdown",
      "source": [
        "##### 1. Why did you pick the specific chart?"
      ],
      "metadata": {
        "id": "nCcTaiVPGssA"
      }
    },
    {
      "cell_type": "markdown",
      "source": [
        "A boxplot grouped by industry illustrates the range and median of founding years, revealing the age diversity within top industries."
      ],
      "metadata": {
        "id": "e-UHZvxDHnC8"
      }
    },
    {
      "cell_type": "markdown",
      "source": [
        "##### 2. What is/are the insight(s) found from the chart?"
      ],
      "metadata": {
        "id": "ruSN9WeTGuP8"
      }
    },
    {
      "cell_type": "markdown",
      "source": [
        "It shows which industries are dominated by older, established companies and which have more startups."
      ],
      "metadata": {
        "id": "_2lDDNWlHqvq"
      }
    },
    {
      "cell_type": "markdown",
      "source": [
        "##### 3. Will the gained insights help creating a positive business impact?\n",
        "##### Are there any insights that lead to negative growth? Justify with specific reason."
      ],
      "metadata": {
        "id": "kMa2JssJG1--"
      }
    },
    {
      "cell_type": "markdown",
      "source": [
        "Investors and job seekers can use this information to assess market maturity and innovation levels across industries."
      ],
      "metadata": {
        "id": "G92_cFG6Hv5j"
      }
    },
    {
      "cell_type": "markdown",
      "source": [
        "#### Chart - 19"
      ],
      "metadata": {
        "id": "rMksM6oIGVal"
      }
    },
    {
      "cell_type": "code",
      "source": [
        "# Chart 19 : Distribution of Number of Competitors\n",
        "import numpy as np\n",
        "\n",
        "# Define a function to count competitors\n",
        "def count_competitors(x):\n",
        "    if x == \"-1\" or pd.isna(x):\n",
        "        return 0\n",
        "    else:\n",
        "        # Split by comma and count\n",
        "        return len(x.split(','))\n",
        "\n",
        "# Create a new column for the number of competitors\n",
        "df[\"Num_Competitors\"] = df[\"Competitors\"].apply(count_competitors)\n",
        "\n",
        "plt.figure(figsize=(10, 6))\n",
        "sns.histplot(df[\"Num_Competitors\"], bins=np.arange(0, df[\"Num_Competitors\"].max()+2)-0.5, color=\"teal\", kde=False)\n",
        "plt.title(\"Distribution of Number of Competitors\", fontsize=14)\n",
        "plt.xlabel(\"Number of Competitors\", fontsize=12)\n",
        "plt.ylabel(\"Frequency\", fontsize=12)\n",
        "plt.show()\n"
      ],
      "metadata": {
        "id": "etEHSIxWH4IL"
      },
      "execution_count": null,
      "outputs": []
    },
    {
      "cell_type": "markdown",
      "source": [
        "##### 1. Why did you pick the specific chart?"
      ],
      "metadata": {
        "id": "DpV0aqINIFg-"
      }
    },
    {
      "cell_type": "markdown",
      "source": [
        "A histogram effectively displays the distribution of the number of competitors, clarifying market competitiveness."
      ],
      "metadata": {
        "id": "dSQWgYHQISlh"
      }
    },
    {
      "cell_type": "markdown",
      "source": [
        "##### 2. What is/are the insight(s) found from the chart?"
      ],
      "metadata": {
        "id": "NKd9rHl9IJkx"
      }
    },
    {
      "cell_type": "markdown",
      "source": [
        "It shows that many companies have no listed competitors (or a value of “-1”), while others face varying degrees of market competition."
      ],
      "metadata": {
        "id": "lgr3HrflITzl"
      }
    },
    {
      "cell_type": "markdown",
      "source": [
        "##### 3. Will the gained insights help creating a positive business impact?\n",
        "##### Are there any insights that lead to negative growth? Justify with specific reason."
      ],
      "metadata": {
        "id": "LCQQ5zoYIOM7"
      }
    },
    {
      "cell_type": "markdown",
      "source": [
        "It shows that many companies have no listed competitors (or a value of “-1”), while others face varying degrees of market competition."
      ],
      "metadata": {
        "id": "mGWRRfnFIWvH"
      }
    },
    {
      "cell_type": "markdown",
      "source": [
        "#### Chart - 20"
      ],
      "metadata": {
        "id": "yT_NrfLVGUrK"
      }
    },
    {
      "cell_type": "code",
      "source": [
        "# Chart-20: Count of Companies by Ownership Type Across Top 5 Sectors\n",
        "# Identify top 5 sectors by number of listings\n",
        "top5_sectors = df[\"Sector\"].value_counts().nlargest(5).index\n",
        "df_top5 = df[df[\"Sector\"].isin(top5_sectors)]\n",
        "\n",
        "plt.figure(figsize=(12, 6))\n",
        "sns.countplot(x=\"Sector\", hue=\"Type of ownership\", data=df_top5, palette=\"Set1\")\n",
        "plt.title(\"Count of Companies by Ownership Type in Top 5 Sectors\", fontsize=14)\n",
        "plt.xlabel(\"Sector\", fontsize=12)\n",
        "plt.ylabel(\"Count\", fontsize=12)\n",
        "plt.xticks(rotation=45, ha=\"right\")\n",
        "plt.legend(title=\"Type of Ownership\")\n",
        "plt.show()\n"
      ],
      "metadata": {
        "id": "kA8BG5ksIcmj"
      },
      "execution_count": null,
      "outputs": []
    },
    {
      "cell_type": "markdown",
      "source": [
        "##### 1. Why did you pick the specific chart?"
      ],
      "metadata": {
        "id": "Ih5MdjeuImpY"
      }
    },
    {
      "cell_type": "markdown",
      "source": [
        "A grouped bar chart (using hue) provides a side-by-side comparison of ownership types within major sectors."
      ],
      "metadata": {
        "id": "TG6kNPQ_Ixcr"
      }
    },
    {
      "cell_type": "markdown",
      "source": [
        "##### 2. What is/are the insight(s) found from the chart?"
      ],
      "metadata": {
        "id": "-Ds__daDIpbm"
      }
    },
    {
      "cell_type": "markdown",
      "source": [
        "It reveals the distribution of different ownership structures (e.g., private, public, government) in the sectors with the most activity."
      ],
      "metadata": {
        "id": "3MV83f1RI1Hj"
      }
    },
    {
      "cell_type": "markdown",
      "source": [
        "##### 3. Will the gained insights help creating a positive business impact?\n",
        "##### Are there any insights that lead to negative growth? Justify with specific reason."
      ],
      "metadata": {
        "id": "6bkIC0NRIrkz"
      }
    },
    {
      "cell_type": "markdown",
      "source": [
        "This helps job seekers understand which sectors lean towards certain ownership models, influencing work culture and benefits."
      ],
      "metadata": {
        "id": "RkO72zGDI4Xl"
      }
    },
    {
      "cell_type": "markdown",
      "source": [
        "## **5. Solution to Business Objective**"
      ],
      "metadata": {
        "id": "JcMwzZxoAimU"
      }
    },
    {
      "cell_type": "markdown",
      "source": [
        "#### What do you suggest the client to achieve Business Objective ?\n",
        "Explain Briefly."
      ],
      "metadata": {
        "id": "8G2x9gOozGDZ"
      }
    },
    {
      "cell_type": "markdown",
      "source": [
        "To help the client achieve the **Business Objectives** outlined in the document, I recommend the following strategies:  \n",
        "\n",
        "---\n",
        "\n",
        "### **1. Develop an Analytical Framework**  \n",
        "✅ **Suggestion:** Implement **Natural Language Processing (NLP)** and **Sentiment Analysis** models to systematically analyze Glassdoor reviews.  \n",
        "- Use AI/ML techniques to categorize reviews by **sentiment (positive, neutral, negative)** and **themes (compensation, work-life balance, culture, leadership, etc.).**  \n",
        "- Leverage **data visualization tools** (Power BI, Tableau) for clear insights.  \n",
        "\n",
        "**🎯 Expected Outcome:** Structured data analysis that enables easy trend identification.  \n",
        "\n",
        "---\n",
        "\n",
        "### **2. Extract Actionable Insights**  \n",
        "✅ **Suggestion:** Develop a **dashboard with key performance indicators (KPIs)** for HR teams.  \n",
        "- KPIs include **employee satisfaction score, review frequency, common complaints, and trends over time.**  \n",
        "- Benchmark ratings against industry competitors to understand relative standing.  \n",
        "- Use **topic modeling (LDA, BERT, GPT-based models)** to extract key themes from large review datasets.  \n",
        "\n",
        "**🎯 Expected Outcome:** Quick access to crucial HR and branding insights.  \n",
        "\n",
        "---\n",
        "\n",
        "### **3. Enhance Employer Branding**  \n",
        "✅ **Suggestion:** Develop a **proactive reputation management strategy** by addressing common employee concerns.  \n",
        "- Respond to Glassdoor reviews professionally and transparently.  \n",
        "- Highlight positive reviews in recruitment marketing campaigns.  \n",
        "- Implement **employee advocacy programs** to encourage positive reviews from satisfied employees.  \n",
        "- Identify specific areas of improvement (e.g., salary, leadership, work culture) and promote corrective actions.  \n",
        "\n",
        "**🎯 Expected Outcome:** Improved employer reputation and enhanced talent attraction.  \n",
        "\n",
        "---\n",
        "\n",
        "### **4. Improve Decision-Making**  \n",
        "✅ **Suggestion:** Use **predictive analytics and AI-driven insights** to make HR decisions more data-driven.  \n",
        "- Develop a **predictive churn model** to identify employees at risk of leaving based on sentiment analysis.  \n",
        "- Set up automated **real-time alerts** for sudden drops in ratings or recurring complaints.  \n",
        "- Conduct **A/B testing on HR policies** (e.g., flexible work hours, bonus structures) to measure impact.  \n",
        "\n",
        "**🎯 Expected Outcome:** Proactive HR interventions leading to higher retention and employee satisfaction.  \n",
        "\n",
        "---\n",
        "\n",
        "### **5. Monitor and Optimize Employee Satisfaction**  \n",
        "✅ **Suggestion:** Implement **continuous feedback loops** to track employee sentiment.  \n",
        "- Conduct **internal anonymous surveys** to validate external Glassdoor feedback.  \n",
        "- Create **\"Voice of Employee\" programs** to encourage direct feedback within the organization.  \n",
        "- Develop **quarterly HR reports** that compare internal and external employee sentiment trends.  \n",
        "\n",
        "**🎯 Expected Outcome:** Sustainable improvement in employee morale and long-term satisfaction.  \n",
        "\n",
        "---\n",
        "\n",
        "### **Final Recommendation:**  \n",
        "🔹 The client should **invest in AI-driven analytics**, **develop a strong HR response framework**, and **integrate real-time monitoring tools** to continuously optimize employee satisfaction and employer branding.  \n",
        "\n",
        "Would you like me to refine any specific area or suggest implementation tools for these strategies? 🚀"
      ],
      "metadata": {
        "id": "pASKb0qOza21"
      }
    },
    {
      "cell_type": "markdown",
      "source": [
        "# **Conclusion**"
      ],
      "metadata": {
        "id": "gCX9965dhzqZ"
      }
    },
    {
      "cell_type": "markdown",
      "source": [
        "This project has provided a comprehensive visual analysis of the job market dataset, employing a variety of visualization techniques—from histograms and bar charts to heatmaps and pair plots—to unravel key trends and insights. We examined company ratings, industry distribution, job listings by location and company characteristics, and even delved into text analytics with job description word counts.\n",
        "\n",
        "Key findings include:\n",
        "- **Market Trends:** Certain industries and cities dominate job listings, indicating areas of high demand, while the majority of companies are established entities with stable ratings.\n",
        "- **Company Characteristics:** Visualizations highlighted how company size, type of ownership, and founding year correlate with hiring trends and employee satisfaction, guiding both job seekers and businesses.\n",
        "- **Competitive Landscape:** Analyses such as the competitor count distribution and revenue category breakdown provide insights into market saturation and financial positioning.\n",
        "- **Employee Insights:** Boxplots and average rating comparisons offer a window into workplace satisfaction across different sectors and ownership types, suggesting where companies might focus improvement efforts.\n",
        "\n",
        "Overall, these visualizations not only empower job seekers to make informed career decisions but also enable businesses to benchmark and strategize their hiring processes. The insights derived pave the way for strategic enhancements in recruitment and talent management, ultimately contributing to a positive business impact."
      ],
      "metadata": {
        "id": "Fjb1IsQkh3yE"
      }
    },
    {
      "cell_type": "markdown",
      "source": [
        "### ***Hurrah! You have successfully completed your EDA Capstone Project !!!***"
      ],
      "metadata": {
        "id": "gIfDvo9L0UH2"
      }
    }
  ]
}